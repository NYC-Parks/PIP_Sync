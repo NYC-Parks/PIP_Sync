{
 "cells": [
  {
   "cell_type": "code",
   "execution_count": 1,
   "metadata": {},
   "outputs": [],
   "source": [
    "import pandas as pd\n",
    "import sqlalchemy\n",
    "import sys\n",
    "import urllib"
   ]
  },
  {
   "cell_type": "code",
   "execution_count": 2,
   "metadata": {},
   "outputs": [],
   "source": [
    "#Import shared functions\n",
    "sys.path.append('..\\..')\n",
    "from IPM_Shared_Code_public.Python.utils import get_config"
   ]
  },
  {
   "cell_type": "code",
   "execution_count": 3,
   "metadata": {},
   "outputs": [],
   "source": [
    "config = get_config('c:\\Projects\\config.ini')\n",
    "\n",
    "driver = config['srv']['driver']\n",
    "pip_server = config['srv']['pip']\n",
    "pip = config['db']['pip']"
   ]
  },
  {
   "cell_type": "code",
   "execution_count": 4,
   "metadata": {},
   "outputs": [],
   "source": [
    "con_string = 'Driver={' + driver + '};Server=' + pip_server +';Database=' + pip + ';Trusted_Connection=Yes;'\n",
    "params = urllib.parse.quote_plus(con_string)\n",
    "engine = sqlalchemy.create_engine(\"mssql+pyodbc:///?odbc_connect=%s\" % params)"
   ]
  },
  {
   "cell_type": "code",
   "execution_count": 8,
   "metadata": {},
   "outputs": [],
   "source": [
    "sql = '''select table_name, \n",
    "                lower(column_name) as column_name, \n",
    "                null as column_description, \n",
    "                --ordinal_position, \n",
    "                lower(is_nullable) as is_nullable, \n",
    "                case when data_type in('nvarchar', 'varchar') then concat(data_type, '(', character_maximum_length, ')')\n",
    "                     when data_type in('numeric', 'decimal')  then concat(data_type, '(', numeric_precision, ',', isnull(numeric_scale, ''), ')')\n",
    "                     else data_type\n",
    "                end as data_type\n",
    "        from accessnewpip.information_schema.columns\n",
    "        where table_name in('vw_pip_sync', 'allsites') '''"
   ]
  },
  {
   "cell_type": "code",
   "execution_count": 9,
   "metadata": {},
   "outputs": [],
   "source": [
    "tables = pd.read_sql(con = engine, sql = sql)"
   ]
  },
  {
   "cell_type": "code",
   "execution_count": 10,
   "metadata": {},
   "outputs": [
    {
     "name": "stdout",
     "output_type": "stream",
     "text": [
      "| table_name   | column_name          | column_description   | is_nullable   | data_type     |\n",
      "|:-------------|:---------------------|:---------------------|:--------------|:--------------|\n",
      "| ALLSITES     | objectid             |                      | yes           | bigint        |\n",
      "| ALLSITES     | propnum              |                      | yes           | nvarchar(25)  |\n",
      "| ALLSITES     | prop id              |                      | no            | nvarchar(15)  |\n",
      "| ALLSITES     | boro                 |                      | yes           | nvarchar(1)   |\n",
      "| ALLSITES     | district             |                      | yes           | nvarchar(25)  |\n",
      "| ALLSITES     | ampsdistrict         |                      | yes           | nvarchar(25)  |\n",
      "| ALLSITES     | prop name            |                      | yes           | nvarchar(128) |\n",
      "| ALLSITES     | site name            |                      | yes           | nvarchar(100) |\n",
      "| ALLSITES     | prop location        |                      | yes           | nvarchar(128) |\n",
      "| ALLSITES     | site location        |                      | yes           | nvarchar(128) |\n",
      "| ALLSITES     | acres                |                      | yes           | real          |\n",
      "| ALLSITES     | category             |                      | yes           | nvarchar(128) |\n",
      "| ALLSITES     | sub-category         |                      | yes           | nvarchar(40)  |\n",
      "| ALLSITES     | comments             |                      | yes           | nvarchar(255) |\n",
      "| ALLSITES     | rated                |                      | yes           | bit           |\n",
      "| ALLSITES     | reason not rated     |                      | yes           | nvarchar(128) |\n",
      "| ALLSITES     | sub-properties rated |                      | yes           | smallint      |\n",
      "| ALLSITES     | sub-property         |                      | yes           | bit           |\n",
      "| ALLSITES     | site category        |                      | yes           | nvarchar(128) |\n",
      "| ALLSITES     | rating category      |                      | yes           | nvarchar(128) |\n",
      "| ALLSITES     | gsgroupproject       |                      | yes           | nvarchar(24)  |\n",
      "| ALLSITES     | lastinspection       |                      | yes           | int           |\n",
      "| ALLSITES     | lastinspectdate      |                      | yes           | smalldatetime |\n",
      "| ALLSITES     | lastinspectedseason  |                      | yes           | nvarchar(10)  |\n",
      "| ALLSITES     | lastinspectedround   |                      | yes           | tinyint       |\n",
      "| ALLSITES     | lastinspectyear      |                      | yes           | int           |\n",
      "| ALLSITES     | sort                 |                      | yes           | int           |\n",
      "| ALLSITES     | safety index         |                      | yes           | smallint      |\n",
      "| ALLSITES     | map # (hagstrom)     |                      | yes           | smallint      |\n",
      "| ALLSITES     | map grid (hagstrom)  |                      | yes           | nvarchar(128) |\n",
      "| ALLSITES     | council district     |                      | yes           | nvarchar(50)  |\n",
      "| ALLSITES     | zipcode              |                      | yes           | nvarchar(110) |\n",
      "| ALLSITES     | pipzipcode           |                      | yes           | nvarchar(128) |\n",
      "| ALLSITES     | communityboard       |                      | yes           | nvarchar(50)  |\n",
      "| ALLSITES     | typecategory         |                      | yes           | nvarchar(100) |\n",
      "| ALLSITES     | jurisdiction         |                      | yes           | nvarchar(25)  |\n",
      "| ALLSITES     | nysassembly          |                      | yes           | nvarchar(50)  |\n",
      "| ALLSITES     | nyssenate            |                      | yes           | nvarchar(50)  |\n",
      "| ALLSITES     | uscongress           |                      | yes           | nvarchar(50)  |\n",
      "| ALLSITES     | precinct             |                      | yes           | int           |\n",
      "| ALLSITES     | comfortstation       |                      | yes           | smallint      |\n",
      "| ALLSITES     | cscount              |                      | yes           | int           |\n",
      "| ALLSITES     | pip_prop_id          |                      | yes           | nvarchar(15)  |\n",
      "| ALLSITES     | pipcreated           |                      | yes           | datetime      |\n",
      "| ALLSITES     | giscreated           |                      | yes           | datetime      |\n",
      "| ALLSITES     | gis_retired          |                      | yes           | nvarchar(5)   |\n",
      "| ALLSITES     | gisdistrict          |                      | yes           | nvarchar(25)  |\n",
      "| ALLSITES     | permitdistrict       |                      | yes           | nvarchar(25)  |\n",
      "| ALLSITES     | gisboro              |                      | yes           | nvarchar(15)  |\n",
      "| ALLSITES     | gis site location    |                      | yes           | nvarchar(100) |\n",
      "| ALLSITES     | sourcefc             |                      | no            | nvarchar(30)  |\n",
      "| ALLSITES     | gisobjid             |                      | yes           | int           |\n",
      "| ALLSITES     | shape                |                      | yes           | geometry      |\n",
      "| vw_pip_sync  | objectid             |                      | yes           | bigint        |\n",
      "| vw_pip_sync  | propnum              |                      | yes           | nvarchar(25)  |\n",
      "| vw_pip_sync  | prop id              |                      | yes           | nvarchar(25)  |\n",
      "| vw_pip_sync  | boro                 |                      | yes           | nvarchar(1)   |\n",
      "| vw_pip_sync  | ampsdistrict         |                      | yes           | nvarchar(25)  |\n",
      "| vw_pip_sync  | prop name            |                      | yes           | nvarchar(100) |\n",
      "| vw_pip_sync  | site name            |                      | yes           | nvarchar(100) |\n",
      "| vw_pip_sync  | prop location        |                      | yes           | nvarchar(100) |\n",
      "| vw_pip_sync  | site location        |                      | yes           | nvarchar(100) |\n",
      "| vw_pip_sync  | jurisdiction         |                      | yes           | nvarchar(25)  |\n",
      "| vw_pip_sync  | typecategory         |                      | yes           | nvarchar(100) |\n",
      "| vw_pip_sync  | acres                |                      | yes           | real          |\n",
      "| vw_pip_sync  | gisobjid             |                      | yes           | int           |\n",
      "| vw_pip_sync  | sourcefc             |                      | no            | varchar(26)   |\n",
      "| vw_pip_sync  | featurestatus        |                      | yes           | nvarchar(20)  |\n",
      "| vw_pip_sync  | shape                |                      | yes           | geometry      |\n",
      "| vw_pip_sync  | row_hash             |                      | yes           | varbinary     |\n",
      "| vw_pip_sync  | n_propid             |                      | yes           | int           |\n",
      "| vw_pip_sync  | n_propid_within      |                      | yes           | int           |\n"
     ]
    }
   ],
   "source": [
    "print(tables.to_markdown(index = False))"
   ]
  }
 ],
 "metadata": {
  "kernelspec": {
   "display_name": "Python 3",
   "language": "python",
   "name": "python3"
  },
  "language_info": {
   "codemirror_mode": {
    "name": "ipython",
    "version": 3
   },
   "file_extension": ".py",
   "mimetype": "text/x-python",
   "name": "python",
   "nbconvert_exporter": "python",
   "pygments_lexer": "ipython3",
   "version": "3.7.4"
  }
 },
 "nbformat": 4,
 "nbformat_minor": 2
}
