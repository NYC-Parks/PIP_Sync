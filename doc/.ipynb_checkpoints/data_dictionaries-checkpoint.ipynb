{
 "cells": [
  {
   "cell_type": "code",
   "execution_count": 1,
   "metadata": {},
   "outputs": [],
   "source": [
    "import pandas as pd\n",
    "import sqlalchemy\n",
    "import sys\n",
    "import urllib"
   ]
  },
  {
   "cell_type": "code",
   "execution_count": 2,
   "metadata": {},
   "outputs": [],
   "source": [
    "#Import shared functions\n",
    "sys.path.append('..\\..')\n",
    "from IPM_Shared_Code_public.Python.utils import get_config"
   ]
  },
  {
   "cell_type": "code",
   "execution_count": 3,
   "metadata": {},
   "outputs": [],
   "source": [
    "config = get_config('c:\\Projects\\config.ini')\n",
    "\n",
    "driver = config['srv']['driver']\n",
    "pip_server = config['srv']['pip']\n",
    "pip = config['db']['pip']"
   ]
  },
  {
   "cell_type": "code",
   "execution_count": 4,
   "metadata": {},
   "outputs": [],
   "source": [
    "con_string = 'Driver={' + driver + '};Server=' + pip_server +';Database=' + pip + ';Trusted_Connection=Yes;'\n",
    "params = urllib.parse.quote_plus(con_string)\n",
    "engine = sqlalchemy.create_engine(\"mssql+pyodbc:///?odbc_connect=%s\" % params)"
   ]
  },
  {
   "cell_type": "code",
   "execution_count": 8,
   "metadata": {},
   "outputs": [],
   "source": [
    "sql = '''select table_name, \n",
    "                lower(column_name) as column_name, \n",
    "                null as column_description, \n",
    "                ordinal_position, \n",
    "                lower(is_nullable) as is_nullable, \n",
    "                case when data_type in('nvarchar', 'varchar') then concat(data_type, '(', character_maximum_length, ')')\n",
    "                     when data_type in('numeric', 'decimal')  then concat(data_type, '(', numeric_precision, ',', isnull(numeric_scale, ''), ')')\n",
    "                     else data_type\n",
    "                end as data_type\n",
    "        from accessnewpip.information_schema.columns\n",
    "        where table_name in('tbl_temp_ref_allsites', 'tbl_ref_allsites', 'tbl_ref_allsites_audit', \n",
    "                            'tbl_ref_allsites_nosync', 'tbl_pip_allsites', 'tbl_pip_allsites_audit') '''"
   ]
  },
  {
   "cell_type": "code",
   "execution_count": 9,
   "metadata": {},
   "outputs": [],
   "source": [
    "tables = pd.read_sql(con = engine, sql = sql)"
   ]
  },
  {
   "cell_type": "code",
   "execution_count": 10,
   "metadata": {},
   "outputs": [
    {
     "name": "stdout",
     "output_type": "stream",
     "text": [
      "| table_name              | column_name           | column_description   |   ordinal_position | is_nullable   | data_type     |\n",
      "|:------------------------|:----------------------|:---------------------|-------------------:|:--------------|:--------------|\n",
      "| tbl_pip_allsites        | prop id               |                      |                  1 | no            | nvarchar(15)  |\n",
      "| tbl_pip_allsites        | category              |                      |                  2 | yes           | nvarchar(128) |\n",
      "| tbl_pip_allsites        | sub-category          |                      |                  3 | yes           | nvarchar(40)  |\n",
      "| tbl_pip_allsites        | rated                 |                      |                  4 | no            | bit           |\n",
      "| tbl_pip_allsites        | reason not rated      |                      |                  5 | yes           | nvarchar(128) |\n",
      "| tbl_pip_allsites        | safety index          |                      |                  6 | yes           | smallint      |\n",
      "| tbl_pip_allsites        | comfortstation        |                      |                  7 | yes           | smallint      |\n",
      "| tbl_pip_allsites        | comments              |                      |                  8 | yes           | nvarchar(255) |\n",
      "| tbl_pip_allsites        | created_date          |                      |                  9 | no            | datetime      |\n",
      "| tbl_pip_allsites        | site category         |                      |                 10 | yes           | nvarchar(128) |\n",
      "| tbl_pip_allsites        | rating category       |                      |                 11 | yes           | nvarchar(128) |\n",
      "| tbl_pip_allsites_audit  | pip_allsites_audit_id |                      |                  1 | no            | int           |\n",
      "| tbl_pip_allsites_audit  | prop id               |                      |                  2 | no            | nvarchar(15)  |\n",
      "| tbl_pip_allsites_audit  | category              |                      |                  3 | yes           | nvarchar(128) |\n",
      "| tbl_pip_allsites_audit  | sub-category          |                      |                  4 | yes           | nvarchar(40)  |\n",
      "| tbl_pip_allsites_audit  | rated                 |                      |                  5 | no            | bit           |\n",
      "| tbl_pip_allsites_audit  | reason not rated      |                      |                  6 | yes           | nvarchar(128) |\n",
      "| tbl_pip_allsites_audit  | safety index          |                      |                  7 | yes           | smallint      |\n",
      "| tbl_pip_allsites_audit  | comfortstation        |                      |                  8 | yes           | smallint      |\n",
      "| tbl_pip_allsites_audit  | comments              |                      |                  9 | yes           | nvarchar(255) |\n",
      "| tbl_pip_allsites_audit  | created_date          |                      |                 10 | yes           | datetime      |\n",
      "| tbl_pip_allsites_audit  | dml_verb              |                      |                 11 | yes           | nvarchar(1)   |\n",
      "| tbl_pip_allsites_audit  | updated_date          |                      |                 12 | yes           | datetime      |\n",
      "| tbl_pip_allsites_audit  | updated_user          |                      |                 13 | yes           | nvarchar(20)  |\n",
      "| tbl_pip_allsites_audit  | site category         |                      |                 14 | yes           | nvarchar(128) |\n",
      "| tbl_pip_allsites_audit  | rating category       |                      |                 15 | yes           | nvarchar(128) |\n",
      "| tbl_ref_allsites        | propnum               |                      |                  1 | yes           | nvarchar(25)  |\n",
      "| tbl_ref_allsites        | prop id               |                      |                  2 | no            | nvarchar(15)  |\n",
      "| tbl_ref_allsites        | boro                  |                      |                  3 | yes           | nvarchar(1)   |\n",
      "| tbl_ref_allsites        | ampsdistrict          |                      |                  4 | yes           | nvarchar(25)  |\n",
      "| tbl_ref_allsites        | prop name             |                      |                  5 | yes           | nvarchar(128) |\n",
      "| tbl_ref_allsites        | site name             |                      |                  6 | yes           | nvarchar(100) |\n",
      "| tbl_ref_allsites        | prop location         |                      |                  7 | yes           | nvarchar(128) |\n",
      "| tbl_ref_allsites        | site location         |                      |                  8 | yes           | nvarchar(128) |\n",
      "| tbl_ref_allsites        | jurisdiction          |                      |                  9 | yes           | nvarchar(25)  |\n",
      "| tbl_ref_allsites        | typecategory          |                      |                 10 | yes           | nvarchar(100) |\n",
      "| tbl_ref_allsites        | acres                 |                      |                 11 | yes           | real          |\n",
      "| tbl_ref_allsites        | gisobjid              |                      |                 12 | yes           | int           |\n",
      "| tbl_ref_allsites        | sourcefc              |                      |                 13 | no            | nvarchar(30)  |\n",
      "| tbl_ref_allsites        | created_date          |                      |                 14 | yes           | datetime      |\n",
      "| tbl_ref_allsites        | row_hash              |                      |                 15 | yes           | varbinary     |\n",
      "| tbl_ref_allsites        | gis_deleted           |                      |                 16 | no            | bit           |\n",
      "| tbl_ref_allsites        | shape                 |                      |                 17 | yes           | geometry      |\n",
      "| tbl_ref_allsites_audit  | propnum               |                      |                  1 | yes           | nvarchar(25)  |\n",
      "| tbl_ref_allsites_audit  | prop id               |                      |                  2 | no            | nvarchar(15)  |\n",
      "| tbl_ref_allsites_audit  | boro                  |                      |                  3 | yes           | nvarchar(1)   |\n",
      "| tbl_ref_allsites_audit  | ampsdistrict          |                      |                  4 | yes           | nvarchar(25)  |\n",
      "| tbl_ref_allsites_audit  | prop name             |                      |                  5 | yes           | nvarchar(128) |\n",
      "| tbl_ref_allsites_audit  | site name             |                      |                  6 | yes           | nvarchar(100) |\n",
      "| tbl_ref_allsites_audit  | prop location         |                      |                  7 | yes           | nvarchar(128) |\n",
      "| tbl_ref_allsites_audit  | site location         |                      |                  8 | yes           | nvarchar(128) |\n",
      "| tbl_ref_allsites_audit  | jurisdiction          |                      |                  9 | yes           | nvarchar(25)  |\n",
      "| tbl_ref_allsites_audit  | typecategory          |                      |                 10 | yes           | nvarchar(100) |\n",
      "| tbl_ref_allsites_audit  | acres                 |                      |                 11 | yes           | real          |\n",
      "| tbl_ref_allsites_audit  | gisobjid              |                      |                 12 | yes           | int           |\n",
      "| tbl_ref_allsites_audit  | sourcefc              |                      |                 13 | no            | nvarchar(30)  |\n",
      "| tbl_ref_allsites_audit  | shape                 |                      |                 14 | yes           | geometry      |\n",
      "| tbl_ref_allsites_audit  | gis_deleted           |                      |                 15 | yes           | bit           |\n",
      "| tbl_ref_allsites_audit  | created_date          |                      |                 16 | yes           | datetime      |\n",
      "| tbl_ref_allsites_nosync | propnum               |                      |                  1 | yes           | nvarchar(25)  |\n",
      "| tbl_ref_allsites_nosync | prop id               |                      |                  2 | no            | nvarchar(15)  |\n",
      "| tbl_ref_allsites_nosync | boro                  |                      |                  3 | yes           | nvarchar(1)   |\n",
      "| tbl_ref_allsites_nosync | ampsdistrict          |                      |                  4 | yes           | nvarchar(25)  |\n",
      "| tbl_ref_allsites_nosync | prop name             |                      |                  5 | yes           | nvarchar(128) |\n",
      "| tbl_ref_allsites_nosync | site name             |                      |                  6 | yes           | nvarchar(100) |\n",
      "| tbl_ref_allsites_nosync | prop location         |                      |                  7 | yes           | nvarchar(128) |\n",
      "| tbl_ref_allsites_nosync | site location         |                      |                  8 | yes           | nvarchar(128) |\n",
      "| tbl_ref_allsites_nosync | jurisdiction          |                      |                  9 | yes           | nvarchar(25)  |\n",
      "| tbl_ref_allsites_nosync | typecategory          |                      |                 10 | yes           | nvarchar(100) |\n",
      "| tbl_ref_allsites_nosync | acres                 |                      |                 11 | yes           | real          |\n",
      "| tbl_ref_allsites_nosync | gisobjid              |                      |                 12 | yes           | int           |\n",
      "| tbl_ref_allsites_nosync | sourcefc              |                      |                 13 | no            | nvarchar(30)  |\n",
      "| tbl_ref_allsites_nosync | created_date          |                      |                 14 | yes           | datetime      |\n",
      "| tbl_ref_allsites_nosync | sync_issue            |                      |                 15 | no            | nvarchar(500) |\n",
      "| tbl_ref_allsites_nosync | row_hash              |                      |                 16 | yes           | varbinary     |\n",
      "| tbl_temp_ref_allsites   | propnum               |                      |                  1 | yes           | nvarchar(25)  |\n",
      "| tbl_temp_ref_allsites   | prop id               |                      |                  2 | yes           | nvarchar(25)  |\n",
      "| tbl_temp_ref_allsites   | boro                  |                      |                  3 | yes           | nvarchar(1)   |\n",
      "| tbl_temp_ref_allsites   | ampsdistrict          |                      |                  4 | yes           | nvarchar(25)  |\n",
      "| tbl_temp_ref_allsites   | prop name             |                      |                  5 | yes           | nvarchar(100) |\n",
      "| tbl_temp_ref_allsites   | site name             |                      |                  6 | yes           | nvarchar(100) |\n",
      "| tbl_temp_ref_allsites   | prop location         |                      |                  7 | yes           | nvarchar(100) |\n",
      "| tbl_temp_ref_allsites   | site location         |                      |                  8 | yes           | nvarchar(100) |\n",
      "| tbl_temp_ref_allsites   | jurisdiction          |                      |                  9 | yes           | nvarchar(25)  |\n",
      "| tbl_temp_ref_allsites   | typecategory          |                      |                 10 | yes           | nvarchar(100) |\n",
      "| tbl_temp_ref_allsites   | acres                 |                      |                 11 | yes           | real          |\n",
      "| tbl_temp_ref_allsites   | gisobjid              |                      |                 12 | yes           | int           |\n",
      "| tbl_temp_ref_allsites   | sourcefc              |                      |                 13 | no            | varchar(26)   |\n",
      "| tbl_temp_ref_allsites   | shape                 |                      |                 14 | yes           | geometry      |\n",
      "| tbl_temp_ref_allsites   | row_hash_origin       |                      |                 15 | yes           | varbinary     |\n",
      "| tbl_temp_ref_allsites   | row_hash_dest         |                      |                 16 | yes           | varbinary     |\n",
      "| tbl_temp_ref_allsites   | dupflag               |                      |                 17 | no            | int           |\n",
      "| tbl_temp_ref_allsites   | syncflag              |                      |                 18 | no            | int           |\n",
      "| tbl_temp_ref_allsites   | n_propid              |                      |                 19 | yes           | int           |\n"
     ]
    }
   ],
   "source": [
    "print(tables.to_markdown(index = False))"
   ]
  }
 ],
 "metadata": {
  "kernelspec": {
   "display_name": "Python 3",
   "language": "python",
   "name": "python3"
  },
  "language_info": {
   "codemirror_mode": {
    "name": "ipython",
    "version": 3
   },
   "file_extension": ".py",
   "mimetype": "text/x-python",
   "name": "python",
   "nbconvert_exporter": "python",
   "pygments_lexer": "ipython3",
   "version": "3.7.4"
  }
 },
 "nbformat": 4,
 "nbformat_minor": 2
}
