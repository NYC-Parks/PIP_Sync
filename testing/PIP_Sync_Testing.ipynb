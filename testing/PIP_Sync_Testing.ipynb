{
 "cells": [
  {
   "cell_type": "code",
   "execution_count": 1,
   "metadata": {},
   "outputs": [],
   "source": [
    "import sys\n",
    "import pandas as pd\n",
    "import numpy as np\n",
    "import urllib\n",
    "import sqlalchemy"
   ]
  },
  {
   "cell_type": "code",
   "execution_count": 2,
   "metadata": {},
   "outputs": [],
   "source": [
    "#Import shared functions\n",
    "sys.path.append('..\\..')\n",
    "from IPM_Shared_Code_public.Python.utils import get_config"
   ]
  },
  {
   "cell_type": "code",
   "execution_count": 3,
   "metadata": {},
   "outputs": [],
   "source": [
    "config = get_config('c:\\Projects\\config.ini')\n",
    "\n",
    "driver = config['srv']['driver']\n",
    "gis_server = config['srv']['server']\n",
    "pip_server = config['srv']['pip']\n",
    "gis = config['db']['parksgis']\n",
    "pip = config['db']['pip']"
   ]
  },
  {
   "cell_type": "code",
   "execution_count": 4,
   "metadata": {},
   "outputs": [],
   "source": [
    "con_string = 'Driver={' + driver + '};Server=' + pip_server +';Database=' + pip + ';Trusted_Connection=Yes;'\n",
    "params = urllib.parse.quote_plus(con_string)\n",
    "pip_engine = sqlalchemy.create_engine(\"mssql+pyodbc:///?odbc_connect=%s\" % params)"
   ]
  },
  {
   "cell_type": "code",
   "execution_count": 5,
   "metadata": {},
   "outputs": [],
   "source": [
    "con_string = 'Driver={' + driver + '};Server=' + gis_server +';Database=' + gis + ';Trusted_Connection=Yes;'\n",
    "params = urllib.parse.quote_plus(con_string)\n",
    "gis_engine = sqlalchemy.create_engine(\"mssql+pyodbc:///?odbc_connect=%s\" % params)"
   ]
  },
  {
   "cell_type": "markdown",
   "metadata": {},
   "source": [
    "## Set the prop id lookup field dictionary"
   ]
  },
  {
   "cell_type": "code",
   "execution_count": 6,
   "metadata": {},
   "outputs": [],
   "source": [
    "propid_lookup = {'property_evw': 'gispropnum', \n",
    "                 'playground_evw': 'omppropid', \n",
    "                 'zone_evw': 'omppropid', \n",
    "                 'unmapped_gisallsites_evw': 'omppropid',\n",
    "                 'schoolyard_to_playground_evw': 'gispropnum',\n",
    "                 'greenstreet_evw': 'omppropid',\n",
    "                 'golfcourse_evw': 'omppropid',\n",
    "                 'restrictivedeclarationsite_evw': 'gispropnum',\n",
    "                 'structure_evw': 'omppropid'}"
   ]
  },
  {
   "cell_type": "code",
   "execution_count": 7,
   "metadata": {},
   "outputs": [],
   "source": [
    "field_lookup = {'property_evw': ['gispropnum', 'department', 'signname', 'location', 'acres', 'jurisdiction', \n",
    "                                 'typecategory', 'featurestatus', 'gisobjid'], \n",
    "                 'playground_evw': ['parentid', 'omppropid', 'department', 'signname', 'location', 'acres', \n",
    "                                    'jurisdiction', 'typecategory', 'featurestatus', 'gisobjid'],  \n",
    "                 'zone_evw': ['parentid', 'omppropid', 'department', 'sitename', 'location', 'acres', \n",
    "                              'jurisdiction', 'featurestatus', 'gisobjid'], \n",
    "                 'unmapped_gisallsites_evw': ['gispropnum', 'omppropid', 'department', 'name', 'location', \n",
    "                                              'acres', 'jurisdiction'],\n",
    "                 'schoolyard_to_playground_evw': ['gispropnum', 'department', 'signname', 'location', 'acres', \n",
    "                                                  'jurisdiction', 'featurestatus'], \n",
    "                 'greenstreet_evw': ['gispropnum', 'omppropid', 'department', 'sitename', 'location', 'acres', \n",
    "                                    'jurisdiction', 'featurestatus', 'gisobjid'], \n",
    "                 'golfcourse_evw': ['gispropnum', 'omppropid', 'department', 'name', 'location', 'acres', \n",
    "                                    'jurisdiction', 'featurestatus', 'gisobjid'],\n",
    "                 'restrictivedeclarationsite_evw': ['gispropnum', 'department', 'signname', 'location', 'acres', \n",
    "                                                    'jurisdiction', 'featurestatus'],\n",
    "                 'structure_evw': ['gispropnum', 'omppropid', 'department', 'description', 'location', \n",
    "                                   'jurisdiction', 'featurestatus', 'gisobjid']}"
   ]
  },
  {
   "cell_type": "code",
   "execution_count": null,
   "metadata": {},
   "outputs": [],
   "source": [
    "field_lookup = {'property_evw': {'propnum': 'gispropnum',\n",
    "                                 'prop id': 'gispropnum', \n",
    "                                 'borough': 'department',\n",
    "                                 'ampsdistrict': 'department',\n",
    "                                 'prop name': 'signname'\n",
    "                                 'site name': 'signname',\n",
    "                                 'prop location': 'location',\n",
    "                                 'site location': 'location',\n",
    "                                 'acres': 'acres', \n",
    "                                 'jurisdiction': 'jurisdiction', \n",
    "                                 'typecategory': 'typecategory', \n",
    "                                 'featurestatus':'featurestatus', \n",
    "                                 'gisobjid':'gisobjid'}, \n",
    "                 'playground_evw': {'propnum': 'parentid', \n",
    "                                    'prop id': 'omppropid', \n",
    "                                    'borough': 'department',\n",
    "                                    'ampsdistrict': 'department',\n",
    "                                    'site name': 'signname', \n",
    "                                    'site location': 'location', \n",
    "                                    'acres': 'acres', \n",
    "                                    'jurisdiction': 'jurisdiction', \n",
    "                                    'featurestatus':'featurestatus', \n",
    "                                    'gisobjid':'gisobjid'},  \n",
    "                 'zone_evw': {'propnum': 'parentid', \n",
    "                              'prop id': 'omppropid', \n",
    "                              'borough': 'department',\n",
    "                              'ampsdistrict': 'department',\n",
    "                              'site name': 'sitename', \n",
    "                              'site location': 'location', \n",
    "                              'acres': 'acres', \n",
    "                              'jurisdiction': 'jurisdiction', \n",
    "                              'featurestatus':'featurestatus', \n",
    "                              'gisobjid':'gisobjid'}, \n",
    "                #Need to complete\n",
    "                 'unmapped_gisallsites_evw': ['gispropnum', 'omppropid', 'department', 'name', 'location', \n",
    "                                              'acres', 'jurisdiction'],\n",
    "                #FINISHED HERE!!!!\n",
    "                 'schoolyard_to_playground_evw': {'propnum': 'gispropnum',\n",
    "                                                  'prop id': 'gispropnum', \n",
    "                                                  'borough': 'department',\n",
    "                                                  'ampsdistrict': 'department',\n",
    "                                                  'prop name': 'signname'\n",
    "                                                  'site name': 'signname',\n",
    "                                                  'prop location': 'location',\n",
    "                                                  'site location': 'location',\n",
    "                                                  'acres': 'acres', \n",
    "                                                  'jurisdiction': 'jurisdiction', \n",
    "                                                  'featurestatus':'featurestatus'},\n",
    "                 'greenstreet_evw': {'propnum': 'gispropnum', \n",
    "                                     'prop id': 'omppropid', \n",
    "                                     'borough': 'department',\n",
    "                                     'ampsdistrict': 'department',\n",
    "                                     'site name': 'sitename', \n",
    "                                     'site location': 'location', \n",
    "                                     'acres': 'acres', \n",
    "                                     'jurisdiction': 'jurisdiction', \n",
    "                                     'featurestatus':'featurestatus', \n",
    "                                     'gisobjid':'gisobjid'},\n",
    "                 'golfcourse_evw': {'propnum': 'gispropnum': , \n",
    "                                    'prop id': 'omppropid', \n",
    "                                    'borough': 'department',\n",
    "                                    'ampsdistrict': 'department',\n",
    "                                    'site name': 'name', \n",
    "                                    'site location': 'location', \n",
    "                                    'acres': 'acres', \n",
    "                                    'jurisdiction': 'jurisdiction', \n",
    "                                    'featurestatus':'featurestatus', \n",
    "                                    'gisobjid':'gisobjid'},\n",
    "                #Need to complete\n",
    "                 'restrictivedeclarationsite_evw': ['gispropnum', 'department', 'signname', 'location', 'acres', \n",
    "                                                    'jurisdiction', 'featurestatus'],\n",
    "                #Need to complete\n",
    "                 'structure_evw': ['gispropnum', 'omppropid', 'department', 'description', 'location', \n",
    "                                   'jurisdiction', 'featurestatus', 'gisobjid']}"
   ]
  },
  {
   "cell_type": "code",
   "execution_count": 8,
   "metadata": {},
   "outputs": [],
   "source": [
    "sourcefc_lookup = {'property_evw': 'Property', \n",
    "                   'playground_evw': 'Playground', \n",
    "                   'zone_evw': 'Zone', \n",
    "                   'unmapped_gisallsites_evw': 'Unmapped',\n",
    "                   'schoolyard_to_playground_evw': 'Schoolyard To Playground',\n",
    "                   'greenstreet_evw': 'Greenstreet',\n",
    "                   'golfcourse_evw': 'GolfCourse',\n",
    "                   'restrictivedeclarationsite_evw': 'RestrictiveDeclarationSite',\n",
    "                   'structure_evw': 'Structure'}"
   ]
  },
  {
   "cell_type": "markdown",
   "metadata": {},
   "source": [
    "## Original GIS Data"
   ]
  },
  {
   "cell_type": "code",
   "execution_count": 25,
   "metadata": {},
   "outputs": [],
   "source": [
    "#Define the tables that will be queried and interacted with\n",
    "gis_tables = ['property_evw', 'playground_evw', 'zone_evw', 'unmapped_gisallsites_evw', \n",
    "              'schoolyard_to_playground_evw', 'greenstreet_evw', 'golfcourse_evw', \n",
    "              'restrictivedeclarationsite_evw', 'structure_evw']"
   ]
  },
  {
   "cell_type": "code",
   "execution_count": 26,
   "metadata": {},
   "outputs": [],
   "source": [
    "#Create the list of SQL Queries\n",
    "gis_sql_list = [\"select objectid, {}, {} as [prop id], '{}' as sourcefc from parksgis.dpr.{}\"\n",
    "                .format(' ,'.join(field_lookup[t]), propid_lookup[t], sourcefc_lookup[t], t) \n",
    "                        for t in gis_tables]"
   ]
  },
  {
   "cell_type": "code",
   "execution_count": 27,
   "metadata": {},
   "outputs": [],
   "source": [
    "#Create a dictionary with sources and dataframes that contain the original data\n",
    "gis_df_list = {s: pd.read_sql(con = gis_engine, sql = q) for q, s in zip(gis_sql_list, gis_tables)}"
   ]
  },
  {
   "cell_type": "markdown",
   "metadata": {},
   "source": [
    "## Original PIP Data"
   ]
  },
  {
   "cell_type": "code",
   "execution_count": 13,
   "metadata": {},
   "outputs": [],
   "source": [
    "#Define the tables that will be queried and interacted with\n",
    "pip_tables = ['tbl_ref_allsites', 'tbl_ref_allsites_nosync', 'tbl_pip_allsites', \n",
    "              'vw_pip_compatible_inspected_sites', 'allsites']"
   ]
  },
  {
   "cell_type": "code",
   "execution_count": 14,
   "metadata": {},
   "outputs": [],
   "source": [
    "#Create the list of SQL Queries\n",
    "pip_sql_list = ['select * from accessnewpip.dbo.'+ t for t in pip_tables]"
   ]
  },
  {
   "cell_type": "code",
   "execution_count": 17,
   "metadata": {},
   "outputs": [],
   "source": [
    "#Create a list of dataframes with the original dat\n",
    "pip_df_list = {s: pd.read_sql(con = pip_engine, sql = q) for q, s in zip(pip_sql_list, pip_tables)}"
   ]
  },
  {
   "cell_type": "markdown",
   "metadata": {},
   "source": [
    "## Perform DML Steps"
   ]
  },
  {
   "cell_type": "markdown",
   "metadata": {},
   "source": [
    "### Delete Records"
   ]
  },
  {
   "cell_type": "code",
   "execution_count": 13,
   "metadata": {},
   "outputs": [],
   "source": [
    "#Define the common where clause\n",
    "where = str(r\"where objectid like '%3%'\")"
   ]
  },
  {
   "cell_type": "code",
   "execution_count": 21,
   "metadata": {},
   "outputs": [],
   "source": [
    "#Should be able to filter original DFs"
   ]
  },
  {
   "cell_type": "code",
   "execution_count": 28,
   "metadata": {},
   "outputs": [
    {
     "ename": "AttributeError",
     "evalue": "Can only use .str accessor with string values!",
     "output_type": "error",
     "traceback": [
      "\u001b[1;31m---------------------------------------------------------------------------\u001b[0m",
      "\u001b[1;31mAttributeError\u001b[0m                            Traceback (most recent call last)",
      "\u001b[1;32m<ipython-input-28-334498055cda>\u001b[0m in \u001b[0;36m<module>\u001b[1;34m\u001b[0m\n\u001b[1;32m----> 1\u001b[1;33m \u001b[0mgis_df_list\u001b[0m\u001b[1;33m[\u001b[0m\u001b[1;34m'property_evw'\u001b[0m\u001b[1;33m]\u001b[0m\u001b[1;33m.\u001b[0m\u001b[0mobjectid\u001b[0m\u001b[1;33m.\u001b[0m\u001b[0mstr\u001b[0m\u001b[1;33m.\u001b[0m\u001b[0mcontains\u001b[0m\u001b[1;33m(\u001b[0m\u001b[1;34m'3'\u001b[0m\u001b[1;33m)\u001b[0m\u001b[1;33m\u001b[0m\u001b[1;33m\u001b[0m\u001b[0m\n\u001b[0m",
      "\u001b[1;32m~\\AppData\\Roaming\\Python\\Python37\\site-packages\\pandas\\core\\generic.py\u001b[0m in \u001b[0;36m__getattr__\u001b[1;34m(self, name)\u001b[0m\n\u001b[0;32m   5133\u001b[0m             \u001b[1;32mor\u001b[0m \u001b[0mname\u001b[0m \u001b[1;32min\u001b[0m \u001b[0mself\u001b[0m\u001b[1;33m.\u001b[0m\u001b[0m_accessors\u001b[0m\u001b[1;33m\u001b[0m\u001b[1;33m\u001b[0m\u001b[0m\n\u001b[0;32m   5134\u001b[0m         ):\n\u001b[1;32m-> 5135\u001b[1;33m             \u001b[1;32mreturn\u001b[0m \u001b[0mobject\u001b[0m\u001b[1;33m.\u001b[0m\u001b[0m__getattribute__\u001b[0m\u001b[1;33m(\u001b[0m\u001b[0mself\u001b[0m\u001b[1;33m,\u001b[0m \u001b[0mname\u001b[0m\u001b[1;33m)\u001b[0m\u001b[1;33m\u001b[0m\u001b[1;33m\u001b[0m\u001b[0m\n\u001b[0m\u001b[0;32m   5136\u001b[0m         \u001b[1;32melse\u001b[0m\u001b[1;33m:\u001b[0m\u001b[1;33m\u001b[0m\u001b[1;33m\u001b[0m\u001b[0m\n\u001b[0;32m   5137\u001b[0m             \u001b[1;32mif\u001b[0m \u001b[0mself\u001b[0m\u001b[1;33m.\u001b[0m\u001b[0m_info_axis\u001b[0m\u001b[1;33m.\u001b[0m\u001b[0m_can_hold_identifiers_and_holds_name\u001b[0m\u001b[1;33m(\u001b[0m\u001b[0mname\u001b[0m\u001b[1;33m)\u001b[0m\u001b[1;33m:\u001b[0m\u001b[1;33m\u001b[0m\u001b[1;33m\u001b[0m\u001b[0m\n",
      "\u001b[1;32m~\\AppData\\Roaming\\Python\\Python37\\site-packages\\pandas\\core\\accessor.py\u001b[0m in \u001b[0;36m__get__\u001b[1;34m(self, obj, cls)\u001b[0m\n\u001b[0;32m    185\u001b[0m             \u001b[1;31m# we're accessing the attribute of the class, i.e., Dataset.geo\u001b[0m\u001b[1;33m\u001b[0m\u001b[1;33m\u001b[0m\u001b[1;33m\u001b[0m\u001b[0m\n\u001b[0;32m    186\u001b[0m             \u001b[1;32mreturn\u001b[0m \u001b[0mself\u001b[0m\u001b[1;33m.\u001b[0m\u001b[0m_accessor\u001b[0m\u001b[1;33m\u001b[0m\u001b[1;33m\u001b[0m\u001b[0m\n\u001b[1;32m--> 187\u001b[1;33m         \u001b[0maccessor_obj\u001b[0m \u001b[1;33m=\u001b[0m \u001b[0mself\u001b[0m\u001b[1;33m.\u001b[0m\u001b[0m_accessor\u001b[0m\u001b[1;33m(\u001b[0m\u001b[0mobj\u001b[0m\u001b[1;33m)\u001b[0m\u001b[1;33m\u001b[0m\u001b[1;33m\u001b[0m\u001b[0m\n\u001b[0m\u001b[0;32m    188\u001b[0m         \u001b[1;31m# Replace the property with the accessor object. Inspired by:\u001b[0m\u001b[1;33m\u001b[0m\u001b[1;33m\u001b[0m\u001b[1;33m\u001b[0m\u001b[0m\n\u001b[0;32m    189\u001b[0m         \u001b[1;31m# https://www.pydanny.com/cached-property.html\u001b[0m\u001b[1;33m\u001b[0m\u001b[1;33m\u001b[0m\u001b[1;33m\u001b[0m\u001b[0m\n",
      "\u001b[1;32m~\\AppData\\Roaming\\Python\\Python37\\site-packages\\pandas\\core\\strings.py\u001b[0m in \u001b[0;36m__init__\u001b[1;34m(self, data)\u001b[0m\n\u001b[0;32m   2098\u001b[0m \u001b[1;33m\u001b[0m\u001b[0m\n\u001b[0;32m   2099\u001b[0m     \u001b[1;32mdef\u001b[0m \u001b[0m__init__\u001b[0m\u001b[1;33m(\u001b[0m\u001b[0mself\u001b[0m\u001b[1;33m,\u001b[0m \u001b[0mdata\u001b[0m\u001b[1;33m)\u001b[0m\u001b[1;33m:\u001b[0m\u001b[1;33m\u001b[0m\u001b[1;33m\u001b[0m\u001b[0m\n\u001b[1;32m-> 2100\u001b[1;33m         \u001b[0mself\u001b[0m\u001b[1;33m.\u001b[0m\u001b[0m_inferred_dtype\u001b[0m \u001b[1;33m=\u001b[0m \u001b[0mself\u001b[0m\u001b[1;33m.\u001b[0m\u001b[0m_validate\u001b[0m\u001b[1;33m(\u001b[0m\u001b[0mdata\u001b[0m\u001b[1;33m)\u001b[0m\u001b[1;33m\u001b[0m\u001b[1;33m\u001b[0m\u001b[0m\n\u001b[0m\u001b[0;32m   2101\u001b[0m         \u001b[0mself\u001b[0m\u001b[1;33m.\u001b[0m\u001b[0m_is_categorical\u001b[0m \u001b[1;33m=\u001b[0m \u001b[0mis_categorical_dtype\u001b[0m\u001b[1;33m(\u001b[0m\u001b[0mdata\u001b[0m\u001b[1;33m.\u001b[0m\u001b[0mdtype\u001b[0m\u001b[1;33m)\u001b[0m\u001b[1;33m\u001b[0m\u001b[1;33m\u001b[0m\u001b[0m\n\u001b[0;32m   2102\u001b[0m         \u001b[0mself\u001b[0m\u001b[1;33m.\u001b[0m\u001b[0m_is_string\u001b[0m \u001b[1;33m=\u001b[0m \u001b[0mdata\u001b[0m\u001b[1;33m.\u001b[0m\u001b[0mdtype\u001b[0m\u001b[1;33m.\u001b[0m\u001b[0mname\u001b[0m \u001b[1;33m==\u001b[0m \u001b[1;34m\"string\"\u001b[0m\u001b[1;33m\u001b[0m\u001b[1;33m\u001b[0m\u001b[0m\n",
      "\u001b[1;32m~\\AppData\\Roaming\\Python\\Python37\\site-packages\\pandas\\core\\strings.py\u001b[0m in \u001b[0;36m_validate\u001b[1;34m(data)\u001b[0m\n\u001b[0;32m   2155\u001b[0m \u001b[1;33m\u001b[0m\u001b[0m\n\u001b[0;32m   2156\u001b[0m         \u001b[1;32mif\u001b[0m \u001b[0minferred_dtype\u001b[0m \u001b[1;32mnot\u001b[0m \u001b[1;32min\u001b[0m \u001b[0mallowed_types\u001b[0m\u001b[1;33m:\u001b[0m\u001b[1;33m\u001b[0m\u001b[1;33m\u001b[0m\u001b[0m\n\u001b[1;32m-> 2157\u001b[1;33m             \u001b[1;32mraise\u001b[0m \u001b[0mAttributeError\u001b[0m\u001b[1;33m(\u001b[0m\u001b[1;34m\"Can only use .str accessor with string values!\"\u001b[0m\u001b[1;33m)\u001b[0m\u001b[1;33m\u001b[0m\u001b[1;33m\u001b[0m\u001b[0m\n\u001b[0m\u001b[0;32m   2158\u001b[0m         \u001b[1;32mreturn\u001b[0m \u001b[0minferred_dtype\u001b[0m\u001b[1;33m\u001b[0m\u001b[1;33m\u001b[0m\u001b[0m\n\u001b[0;32m   2159\u001b[0m \u001b[1;33m\u001b[0m\u001b[0m\n",
      "\u001b[1;31mAttributeError\u001b[0m: Can only use .str accessor with string values!"
     ]
    }
   ],
   "source": [
    "gis_df_list['property_evw'].objectid.str.contains('3')"
   ]
  },
  {
   "cell_type": "code",
   "execution_count": 15,
   "metadata": {},
   "outputs": [],
   "source": [
    "#Loop through the GIS datasets, drop the _evw and perform the deletes\n",
    "sql = ['delete from parksgis.dpr.{} {}'.format(g.replace('_evw', ''), where) for g in gis_tables]"
   ]
  },
  {
   "cell_type": "code",
   "execution_count": 16,
   "metadata": {},
   "outputs": [],
   "source": [
    "gis_con = gis_engine.connect()"
   ]
  },
  {
   "cell_type": "code",
   "execution_count": 18,
   "metadata": {},
   "outputs": [],
   "source": [
    "for q in sql:\n",
    "    gis_con.execute(q)"
   ]
  },
  {
   "cell_type": "code",
   "execution_count": null,
   "metadata": {},
   "outputs": [],
   "source": [
    "#Create a list of dataframes with the original data\n",
    "gis_df_post_delete = {s: pd.read_sql(con = gis_engine, sql = q) for q, s in zip(sql, gis_tables)}"
   ]
  },
  {
   "cell_type": "markdown",
   "metadata": {},
   "source": [
    "### Update Records"
   ]
  },
  {
   "cell_type": "code",
   "execution_count": null,
   "metadata": {},
   "outputs": [],
   "source": [
    "#Define the common where clause\n",
    "where = str(r\"where objectid like '%4%'\")"
   ]
  },
  {
   "cell_type": "code",
   "execution_count": null,
   "metadata": {},
   "outputs": [],
   "source": [
    "set_value = str(r\"\")"
   ]
  },
  {
   "cell_type": "code",
   "execution_count": null,
   "metadata": {},
   "outputs": [],
   "source": [
    "#Loop through the GIS datasets, drop the _evw and perform the deletes\n",
    "sql = ['update parksgis.dpr.{} set  {}'.format(g.replace('_evw', ''), where) for g in gis_tables]"
   ]
  },
  {
   "cell_type": "markdown",
   "metadata": {},
   "source": [
    "### Insert Non-Duplicate Records"
   ]
  },
  {
   "cell_type": "code",
   "execution_count": 39,
   "metadata": {},
   "outputs": [],
   "source": [
    "import random"
   ]
  },
  {
   "cell_type": "code",
   "execution_count": 66,
   "metadata": {},
   "outputs": [],
   "source": [
    "#Define the range for generating records\n",
    "n_gen = range(0, 100)"
   ]
  },
  {
   "cell_type": "code",
   "execution_count": 37,
   "metadata": {},
   "outputs": [],
   "source": [
    "#Define the borough portion of IDs\n",
    "boro = ['B','Q','M','R','X'] "
   ]
  },
  {
   "cell_type": "code",
   "execution_count": 68,
   "metadata": {},
   "outputs": [],
   "source": [
    "#Combine the borough portion with the formated (padded with leading 0) random numbers\n",
    "nums = [boro[random.randint(0,4)] + f'{random.randint(0, 999):03}' for i in n_gen]"
   ]
  },
  {
   "cell_type": "code",
   "execution_count": 69,
   "metadata": {},
   "outputs": [
    {
     "data": {
      "text/plain": [
       "['B031',\n",
       " 'Q987',\n",
       " 'B623',\n",
       " 'M749',\n",
       " 'X520',\n",
       " 'M462',\n",
       " 'M809',\n",
       " 'Q353',\n",
       " 'Q165',\n",
       " 'B370',\n",
       " 'R905',\n",
       " 'X598',\n",
       " 'X685',\n",
       " 'Q481',\n",
       " 'B949',\n",
       " 'B851',\n",
       " 'M019',\n",
       " 'M477',\n",
       " 'Q699',\n",
       " 'X483',\n",
       " 'X843',\n",
       " 'M170',\n",
       " 'M663',\n",
       " 'B356',\n",
       " 'M900',\n",
       " 'R527',\n",
       " 'R218',\n",
       " 'Q946',\n",
       " 'B983',\n",
       " 'R354',\n",
       " 'R197',\n",
       " 'Q556',\n",
       " 'X008',\n",
       " 'M820',\n",
       " 'B829',\n",
       " 'M805',\n",
       " 'R978',\n",
       " 'B089',\n",
       " 'R160',\n",
       " 'R319',\n",
       " 'X106',\n",
       " 'Q021',\n",
       " 'M430',\n",
       " 'Q593',\n",
       " 'X800',\n",
       " 'R853',\n",
       " 'B223',\n",
       " 'B681',\n",
       " 'R181',\n",
       " 'M995',\n",
       " 'M275',\n",
       " 'Q573',\n",
       " 'B552',\n",
       " 'M260',\n",
       " 'X161',\n",
       " 'B780',\n",
       " 'M970',\n",
       " 'Q512',\n",
       " 'R311',\n",
       " 'Q163',\n",
       " 'X018',\n",
       " 'M140',\n",
       " 'X586',\n",
       " 'M959',\n",
       " 'R113',\n",
       " 'Q065',\n",
       " 'M686',\n",
       " 'B193',\n",
       " 'X514',\n",
       " 'X540',\n",
       " 'B129',\n",
       " 'X165',\n",
       " 'X787',\n",
       " 'M418',\n",
       " 'X780',\n",
       " 'M050',\n",
       " 'Q447',\n",
       " 'M505',\n",
       " 'M495',\n",
       " 'Q822',\n",
       " 'X826',\n",
       " 'Q875',\n",
       " 'B962',\n",
       " 'M636',\n",
       " 'X842',\n",
       " 'B029',\n",
       " 'R082',\n",
       " 'R716',\n",
       " 'B802',\n",
       " 'R813',\n",
       " 'B536',\n",
       " 'X160',\n",
       " 'B802',\n",
       " 'M985',\n",
       " 'Q449',\n",
       " 'M960',\n",
       " 'M505',\n",
       " 'Q589',\n",
       " 'Q327',\n",
       " 'B634']"
      ]
     },
     "execution_count": 69,
     "metadata": {},
     "output_type": "execute_result"
    }
   ],
   "source": [
    "nums"
   ]
  },
  {
   "cell_type": "markdown",
   "metadata": {},
   "source": [
    "### Insert Duplicate Records"
   ]
  }
 ],
 "metadata": {
  "kernelspec": {
   "display_name": "Python 3",
   "language": "python",
   "name": "python3"
  },
  "language_info": {
   "codemirror_mode": {
    "name": "ipython",
    "version": 3
   },
   "file_extension": ".py",
   "mimetype": "text/x-python",
   "name": "python",
   "nbconvert_exporter": "python",
   "pygments_lexer": "ipython3",
   "version": "3.7.4"
  }
 },
 "nbformat": 4,
 "nbformat_minor": 2
}
