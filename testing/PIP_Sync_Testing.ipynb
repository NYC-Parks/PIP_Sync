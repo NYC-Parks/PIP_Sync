{
 "cells": [
  {
   "cell_type": "code",
   "execution_count": 1,
   "metadata": {},
   "outputs": [],
   "source": [
    "import sys\n",
    "import pandas as pd\n",
    "import numpy as np\n",
    "import urllib\n",
    "import sqlalchemy\n",
    "import random\n",
    "import string\n",
    "import uuid\n",
    "from datetime import date"
   ]
  },
  {
   "cell_type": "code",
   "execution_count": 2,
   "metadata": {},
   "outputs": [],
   "source": [
    "#Import shared functions\n",
    "sys.path.append('..\\..')\n",
    "from IPM_Shared_Code_public.Python.utils import get_config"
   ]
  },
  {
   "cell_type": "code",
   "execution_count": 3,
   "metadata": {},
   "outputs": [],
   "source": [
    "config = get_config('c:\\Projects\\config.ini')\n",
    "\n",
    "driver = config['srv']['driver']\n",
    "gis_server = config['srv']['server']\n",
    "pip_server = config['srv']['pip']\n",
    "gis = config['db']['parksgis']\n",
    "pip = config['db']['pip']"
   ]
  },
  {
   "cell_type": "code",
   "execution_count": 4,
   "metadata": {},
   "outputs": [],
   "source": [
    "con_string = 'Driver={' + driver + '};Server=' + pip_server +';Database=' + pip + ';Trusted_Connection=Yes;'\n",
    "params = urllib.parse.quote_plus(con_string)\n",
    "pip_engine = sqlalchemy.create_engine(\"mssql+pyodbc:///?odbc_connect=%s\" % params)"
   ]
  },
  {
   "cell_type": "code",
   "execution_count": 5,
   "metadata": {},
   "outputs": [],
   "source": [
    "con_string = 'Driver={' + driver + '};Server=' + gis_server +';Database=' + gis + ';Trusted_Connection=Yes;'\n",
    "params = urllib.parse.quote_plus(con_string)\n",
    "gis_engine = sqlalchemy.create_engine(\"mssql+pyodbc:///?odbc_connect=%s\" % params)"
   ]
  },
  {
   "cell_type": "markdown",
   "metadata": {},
   "source": [
    "## Set the prop id lookup field dictionary"
   ]
  },
  {
   "cell_type": "code",
   "execution_count": 6,
   "metadata": {},
   "outputs": [],
   "source": [
    "#Define the dict of dicts that contains the feature classes and the translated column names\n",
    "field_lookup = {'property_evw': {'propnum': 'gispropnum',\n",
    "                                 'prop id': 'gispropnum', \n",
    "                                 'borough': 'department',\n",
    "                                 'ampsdistrict': 'department',\n",
    "                                 'prop name': 'signname',\n",
    "                                 'site name': 'signname',\n",
    "                                 'prop location': 'location',\n",
    "                                 'site location': 'location',\n",
    "                                 'acres': 'acres', \n",
    "                                 'jurisdiction': 'jurisdiction', \n",
    "                                 'typecategory': 'typecategory', \n",
    "                                 'featurestatus':'featurestatus', \n",
    "                                 'gisobjid':'gisobjid'}, \n",
    "                 'playground_evw': {'propnum': 'parentid', \n",
    "                                    'prop id': 'omppropid', \n",
    "                                    'borough': 'department',\n",
    "                                    'ampsdistrict': 'department',\n",
    "                                    'site name': 'signname', \n",
    "                                    'site location': 'location', \n",
    "                                    'acres': 'acres', \n",
    "                                    'jurisdiction': 'jurisdiction', \n",
    "                                    'featurestatus':'featurestatus', \n",
    "                                    'gisobjid':'gisobjid'},  \n",
    "                 'zone_evw': {'propnum': 'parentid', \n",
    "                              'prop id': 'omppropid', \n",
    "                              'borough': 'department',\n",
    "                              'ampsdistrict': 'department',\n",
    "                              'site name': 'sitename', \n",
    "                              'site location': 'location', \n",
    "                              'acres': 'acres', \n",
    "                              'jurisdiction': 'jurisdiction', \n",
    "                              'featurestatus':'featurestatus', \n",
    "                              'gisobjid':'gisobjid'}, \n",
    "\n",
    "                 'unmapped_gisallsites_evw': {'propnum': 'gispropnum',\n",
    "                                              'prop id': 'omppropid', \n",
    "                                              'borough': 'department',\n",
    "                                              'ampsdistrict': 'department',\n",
    "                                              'site name': 'name',\n",
    "                                              'site location': 'location',\n",
    "                                              'acres': 'acres', \n",
    "                                              'jurisdiction': 'jurisdiction'},\n",
    "                 'schoolyard_to_playground_evw': {'propnum': 'gispropnum',\n",
    "                                                  'prop id': 'gispropnum', \n",
    "                                                  'borough': 'department',\n",
    "                                                  'ampsdistrict': 'department',\n",
    "                                                  'prop name': 'signname',\n",
    "                                                  'site name': 'signname',\n",
    "                                                  'prop location': 'location',\n",
    "                                                  'site location': 'location',\n",
    "                                                  'acres': 'acres', \n",
    "                                                  'jurisdiction': 'jurisdiction', \n",
    "                                                  'featurestatus':'featurestatus'},\n",
    "                 'greenstreet_evw': {'propnum': 'gispropnum', \n",
    "                                     'prop id': 'omppropid', \n",
    "                                     'borough': 'department',\n",
    "                                     'ampsdistrict': 'department',\n",
    "                                     'site name': 'sitename', \n",
    "                                     'site location': 'location', \n",
    "                                     'acres': 'acres', \n",
    "                                     'jurisdiction': 'jurisdiction', \n",
    "                                     'featurestatus':'featurestatus', \n",
    "                                     'gisobjid':'gisobjid'},\n",
    "                 'golfcourse_evw': {'propnum': 'gispropnum', \n",
    "                                    'prop id': 'omppropid', \n",
    "                                    'borough': 'department',\n",
    "                                    'ampsdistrict': 'department',\n",
    "                                    'site name': 'name', \n",
    "                                    'site location': 'location', \n",
    "                                    'acres': 'acres', \n",
    "                                    'jurisdiction': 'jurisdiction', \n",
    "                                    'featurestatus':'featurestatus', \n",
    "                                    'gisobjid':'gisobjid'},\n",
    "                 'restrictivedeclarationsite_evw': {'propnum': 'gispropnum',\n",
    "                                                    'prop id': 'gispropnum', \n",
    "                                                    'borough': 'department',\n",
    "                                                    'ampsdistrict': 'department',\n",
    "                                                    'prop name': 'signname',\n",
    "                                                    'site name': 'signname',\n",
    "                                                    'prop location': 'location',\n",
    "                                                    'site location': 'location',\n",
    "                                                    'acres': 'acres', \n",
    "                                                    'jurisdiction': 'jurisdiction', \n",
    "                                                    'featurestatus':'featurestatus'}, \n",
    "                 'structure_evw': {'propnum': 'gispropnum',\n",
    "                                   'prop id': 'omppropid', \n",
    "                                   'borough': 'department',\n",
    "                                   'ampsdistrict': 'department',\n",
    "                                   'prop name': 'description',\n",
    "                                   'site name': 'description',\n",
    "                                   'prop location': 'location',\n",
    "                                   'site location': 'location',\n",
    "                                   'jurisdiction': 'jurisdiction',  \n",
    "                                   'featurestatus':'featurestatus', \n",
    "                                   'gisobjid':'gisobjid'}}"
   ]
  },
  {
   "cell_type": "code",
   "execution_count": 7,
   "metadata": {},
   "outputs": [],
   "source": [
    "#Define a dict of source feature classes that map to the sourcefc value\n",
    "sourcefc_lookup = {'property_evw': 'Property', \n",
    "                   'playground_evw': 'Playground', \n",
    "                   'zone_evw': 'Zone', \n",
    "                   'unmapped_gisallsites_evw': 'Unmapped',\n",
    "                   'schoolyard_to_playground_evw': 'Schoolyard To Playground',\n",
    "                   'greenstreet_evw': 'Greenstreet',\n",
    "                   'golfcourse_evw': 'GolfCourse',\n",
    "                   'restrictivedeclarationsite_evw': 'RestrictiveDeclarationSite',\n",
    "                   'structure_evw': 'Structure'}"
   ]
  },
  {
   "cell_type": "code",
   "execution_count": 8,
   "metadata": {},
   "outputs": [],
   "source": [
    "field_lookup_as = {f: ['['+ i[1] + '] as ' + '['+ i[0] + ']' for i in field_lookup[f].items()] for f in sourcefc_lookup }"
   ]
  },
  {
   "cell_type": "markdown",
   "metadata": {},
   "source": [
    "## Original GIS Data"
   ]
  },
  {
   "cell_type": "code",
   "execution_count": 9,
   "metadata": {},
   "outputs": [],
   "source": [
    "#Define the tables that will be queried and interacted with\n",
    "gis_tables = ['property_evw', 'playground_evw', 'zone_evw', 'unmapped_gisallsites_evw', \n",
    "              'schoolyard_to_playground_evw', 'greenstreet_evw', 'golfcourse_evw', \n",
    "              'restrictivedeclarationsite_evw', 'structure_evw']"
   ]
  },
  {
   "cell_type": "code",
   "execution_count": 10,
   "metadata": {},
   "outputs": [],
   "source": [
    "#Create the list of SQL Queries\n",
    "gis_sql_list = [\"select objectid, {}, '{}' as sourcefc from parksgis.dpr.{}\"\n",
    "                .format(' ,'.join(field_lookup_as[t]), sourcefc_lookup[t], t) \n",
    "                        for t in gis_tables]"
   ]
  },
  {
   "cell_type": "code",
   "execution_count": 11,
   "metadata": {},
   "outputs": [],
   "source": [
    "#Create a dictionary with sources and dataframes that contain the original data\n",
    "gis_df_list = {s: pd.read_sql(con = gis_engine, sql = q) for q, s in zip(gis_sql_list, gis_tables)}"
   ]
  },
  {
   "cell_type": "markdown",
   "metadata": {},
   "source": [
    "## Execute all the stored procedures before starting"
   ]
  },
  {
   "cell_type": "code",
   "execution_count": 12,
   "metadata": {},
   "outputs": [],
   "source": [
    "db_delete_sql = '''begin transaction\n",
    "\n",
    "                       truncate table accessnewpip.dbo.tbl_ref_allsites_nosync\n",
    "                       \n",
    "                       truncate table accessnewpip.dbo.tbl_ref_allsites_audit\n",
    "                       \n",
    "                       truncate table accessnewpip.dbo.tbl_pip_allsites\n",
    "                       \n",
    "                       truncate table accessnewpip.dbo.tbl_pip_allsites_audit\n",
    "                       \n",
    "                       delete \n",
    "                       from accessnewpip.dbo.tbl_ref_allsites\n",
    "                   commit'''"
   ]
  },
  {
   "cell_type": "code",
   "execution_count": 13,
   "metadata": {},
   "outputs": [],
   "source": [
    "db_sql = ['exec accessnewpip.dbo.usp_i_tbl_temp_ref_allsites', 'exec accessnewpip.dbo.usp_m_tbl_ref_allsites',\n",
    "          'exec accessnewpip.dbo.usp_m_tbl_ref_allsites_nosync', 'exec accessnewpip.dbo.usp_m_tbl_pip_allsites']"
   ]
  },
  {
   "cell_type": "code",
   "execution_count": 14,
   "metadata": {},
   "outputs": [],
   "source": [
    "pip_con = pip_engine.connect()"
   ]
  },
  {
   "cell_type": "code",
   "execution_count": 15,
   "metadata": {},
   "outputs": [],
   "source": [
    "#Loop through and execute the update queries\n",
    "for q in [db_delete_sql] + db_sql:\n",
    "    pip_con.execute(q)"
   ]
  },
  {
   "cell_type": "code",
   "execution_count": 16,
   "metadata": {},
   "outputs": [],
   "source": [
    "pip_con.close()"
   ]
  },
  {
   "cell_type": "markdown",
   "metadata": {},
   "source": [
    "## Original PIP Data"
   ]
  },
  {
   "cell_type": "code",
   "execution_count": 17,
   "metadata": {},
   "outputs": [],
   "source": [
    "#Define the tables that will be queried and interacted with\n",
    "pip_tables = ['tbl_ref_allsites', 'tbl_ref_allsites_audit', 'tbl_ref_allsites_nosync', 'tbl_pip_allsites', \n",
    "              'vw_pip_sync', 'allsites']"
   ]
  },
  {
   "cell_type": "code",
   "execution_count": 18,
   "metadata": {},
   "outputs": [],
   "source": [
    "#Create the list of SQL Queries\n",
    "pip_sql_list = ['select * from accessnewpip.dbo.'+ t for t in pip_tables]"
   ]
  },
  {
   "cell_type": "code",
   "execution_count": 19,
   "metadata": {},
   "outputs": [],
   "source": [
    "#Create a list of dataframes with the original dat\n",
    "pip_df_list = {s: pd.read_sql(con = pip_engine, sql = q) for q, s in zip(pip_sql_list, pip_tables)}"
   ]
  },
  {
   "cell_type": "code",
   "execution_count": 20,
   "metadata": {},
   "outputs": [],
   "source": [
    "sql = 'select distinct [prop id] from accessnewpip.dbo.vw_pip_sync'"
   ]
  },
  {
   "cell_type": "code",
   "execution_count": 21,
   "metadata": {},
   "outputs": [],
   "source": [
    "pip_sync_view = pd.read_sql(con = pip_engine, sql = sql)"
   ]
  },
  {
   "cell_type": "code",
   "execution_count": 22,
   "metadata": {},
   "outputs": [],
   "source": [
    "existing_propid = list(pip_sync_view['prop id'])"
   ]
  },
  {
   "cell_type": "markdown",
   "metadata": {},
   "source": [
    "## Invert the field lookup"
   ]
  },
  {
   "cell_type": "code",
   "execution_count": 23,
   "metadata": {},
   "outputs": [],
   "source": [
    "inverted_field_lookup = {g:{v:k for k, v in field_lookup[g].items()} for g in gis_tables}"
   ]
  },
  {
   "cell_type": "markdown",
   "metadata": {},
   "source": [
    "## Copy the DFs"
   ]
  },
  {
   "cell_type": "code",
   "execution_count": 24,
   "metadata": {},
   "outputs": [],
   "source": [
    "n_rows = {g: random.randint(5, 10) for g in gis_tables}"
   ]
  },
  {
   "cell_type": "code",
   "execution_count": 25,
   "metadata": {},
   "outputs": [],
   "source": [
    "gis_dfs_update_delete = {g: gis_df_list[g].copy().head(n_rows[g] * 2) for g in gis_tables}"
   ]
  },
  {
   "cell_type": "code",
   "execution_count": 26,
   "metadata": {},
   "outputs": [],
   "source": [
    "gis_dfs_update = {g: gis_dfs_update_delete[g].copy().head(n_rows[g]) for g in gis_tables}"
   ]
  },
  {
   "cell_type": "code",
   "execution_count": 27,
   "metadata": {},
   "outputs": [],
   "source": [
    "gis_dfs_delete = {g: gis_dfs_update_delete[g].copy().tail(n_rows[g]) for g in gis_tables}"
   ]
  },
  {
   "cell_type": "code",
   "execution_count": 28,
   "metadata": {},
   "outputs": [],
   "source": [
    "gis_dfs_insert = {g: gis_df_list[g].copy().tail(n_rows[g]) for g in gis_tables}"
   ]
  },
  {
   "cell_type": "markdown",
   "metadata": {},
   "source": [
    "## Perform DML Steps"
   ]
  },
  {
   "cell_type": "markdown",
   "metadata": {},
   "source": [
    "### Delete Records"
   ]
  },
  {
   "cell_type": "code",
   "execution_count": 29,
   "metadata": {},
   "outputs": [],
   "source": [
    "list_props = {g: list(gis_dfs_delete[g]['prop id']) for g in gis_tables}"
   ]
  },
  {
   "cell_type": "code",
   "execution_count": 30,
   "metadata": {},
   "outputs": [],
   "source": [
    "where_list = {g: ','.join(f\"'{p}'\" for p in list(list_props[g])) for g in gis_tables}"
   ]
  },
  {
   "cell_type": "code",
   "execution_count": 31,
   "metadata": {},
   "outputs": [],
   "source": [
    "#Define the common where clause using the prop id field lookup for each source GIS feature class\n",
    "where = {f: str(r\"where {} in({})\").format(field_lookup[f]['prop id'], where_list[f]) for f in field_lookup}"
   ]
  },
  {
   "cell_type": "code",
   "execution_count": 32,
   "metadata": {},
   "outputs": [],
   "source": [
    "#Loop through the GIS datasets, drop the _evw and create the queries that perform the deletes\n",
    "sql = ['delete from parksgis.dpr.{} {}'.format(g.replace('_evw', ''), where[g]) for g in gis_tables]"
   ]
  },
  {
   "cell_type": "code",
   "execution_count": 33,
   "metadata": {},
   "outputs": [],
   "source": [
    "gis_con = gis_engine.connect()"
   ]
  },
  {
   "cell_type": "code",
   "execution_count": 34,
   "metadata": {},
   "outputs": [],
   "source": [
    "#Loop through and execute the delete queries\n",
    "for q in sql:\n",
    "    gis_con.execute(q)"
   ]
  },
  {
   "cell_type": "code",
   "execution_count": 35,
   "metadata": {},
   "outputs": [],
   "source": [
    "#Create a list of dataframes with the data after deletes, notably all dfs should be empty\n",
    "gis_df_post_delete = {g: gis_df_list[g][gis_df_list[g]['prop id'].isin(list_props[g])] for g in gis_tables}"
   ]
  },
  {
   "cell_type": "markdown",
   "metadata": {},
   "source": [
    "### Update Records"
   ]
  },
  {
   "cell_type": "code",
   "execution_count": 36,
   "metadata": {},
   "outputs": [],
   "source": [
    "update_col = 'site location'"
   ]
  },
  {
   "cell_type": "code",
   "execution_count": 37,
   "metadata": {},
   "outputs": [],
   "source": [
    "update_val = 'Testing Updates'"
   ]
  },
  {
   "cell_type": "code",
   "execution_count": 38,
   "metadata": {},
   "outputs": [],
   "source": [
    "list_props = {g: list(gis_dfs_update[g]['prop id']) for g in gis_tables}"
   ]
  },
  {
   "cell_type": "code",
   "execution_count": 39,
   "metadata": {},
   "outputs": [],
   "source": [
    "where_list = {g: ','.join(f\"'{p}'\" for p in list(list_props[g])) for g in gis_tables}"
   ]
  },
  {
   "cell_type": "code",
   "execution_count": 40,
   "metadata": {},
   "outputs": [],
   "source": [
    "#Define the common where clause using the prop id field lookup for each source GIS feature class\n",
    "where = {f: str(r\"where {} in({})\").format(field_lookup[f]['prop id'], where_list[f]) for f in field_lookup}"
   ]
  },
  {
   "cell_type": "code",
   "execution_count": 41,
   "metadata": {},
   "outputs": [],
   "source": [
    "set_value = {g: str(r\"[{}] = '{}'\").format(field_lookup[g][update_col], update_val) for g in gis_tables}"
   ]
  },
  {
   "cell_type": "code",
   "execution_count": 42,
   "metadata": {},
   "outputs": [],
   "source": [
    "#Loop through the GIS datasets, drop the _evw and perform the deletes\n",
    "sql = ['update parksgis.dpr.{} set {}  {}'.format(g.replace('_evw', ''), set_value[g], where[g]) for g in gis_tables]"
   ]
  },
  {
   "cell_type": "code",
   "execution_count": 43,
   "metadata": {},
   "outputs": [],
   "source": [
    "#Loop through and execute the update queries\n",
    "for q in sql:\n",
    "    gis_con.execute(q)"
   ]
  },
  {
   "cell_type": "code",
   "execution_count": 44,
   "metadata": {},
   "outputs": [],
   "source": [
    "#Create a list of dataframes with the data after deletes, notably all dfs should be empty\n",
    "gis_df_post_update = {g: gis_df_list[g][gis_df_list[g]['prop id'].isin(list_props[g])] for g in gis_tables}"
   ]
  },
  {
   "cell_type": "markdown",
   "metadata": {},
   "source": [
    "### Insert Non-Duplicate Records"
   ]
  },
  {
   "cell_type": "code",
   "execution_count": 45,
   "metadata": {},
   "outputs": [],
   "source": [
    "#Create a function to generate prop ids\n",
    "def gen_propid(sourcefc):\n",
    "    boros = ['B','Q','M','R','X']\n",
    "\n",
    "    boro = boros[random.randint(0,len(boros) - 1)]\n",
    "    \n",
    "    num = f'{random.randint(0, 999):03}'\n",
    "    \n",
    "    letters = list(string.ascii_uppercase)\n",
    "    \n",
    "    suffixes = ['', letters[random.randint(0,len(letters) - 1)]]\n",
    "    \n",
    "    suffix = suffixes[random.randint(0,len(suffixes) - 1)]\n",
    "    \n",
    "    suffix_num = f'{random.randint(0, 99):02}'\n",
    "    \n",
    "    if sourcefc == 'zone_evw':\n",
    "        propid = boro + num + suffix + '-ZN' + suffix_num\n",
    "        \n",
    "    elif sourcefc == 'playground_evw':\n",
    "        propid = boro + num + suffix + '-' + suffix_num\n",
    "        \n",
    "    elif sourcefc == 'greenstreet_evw':     \n",
    "        propid = boro + 'Z' + num + suffix\n",
    "        \n",
    "    else:\n",
    "        propid = boro + num + suffix\n",
    "    \n",
    "    while propid not in existing_propid:\n",
    "        return propid\n",
    "    \n",
    "    else:\n",
    "        gen_propid(sourcefc)"
   ]
  },
  {
   "cell_type": "code",
   "execution_count": 46,
   "metadata": {},
   "outputs": [],
   "source": [
    "def get_value(sourcefc):\n",
    "    for k, v in field_lookup[sourcefc].items():\n",
    "        if k == 'prop id':\n",
    "            return v"
   ]
  },
  {
   "cell_type": "code",
   "execution_count": 103,
   "metadata": {},
   "outputs": [
    {
     "data": {
      "text/plain": [
       "'omppropid'"
      ]
     },
     "execution_count": 103,
     "metadata": {},
     "output_type": "execute_result"
    }
   ],
   "source": [
    "get_value('unmapped_gisallsites_evw')"
   ]
  },
  {
   "cell_type": "code",
   "execution_count": 104,
   "metadata": {},
   "outputs": [
    {
     "data": {
      "text/plain": [
       "['prop id']"
      ]
     },
     "execution_count": 104,
     "metadata": {},
     "output_type": "execute_result"
    }
   ],
   "source": [
    "apply_cols['unmapped_gisallsites_evw']"
   ]
  },
  {
   "cell_type": "code",
   "execution_count": 47,
   "metadata": {},
   "outputs": [],
   "source": [
    "apply_cols = {g:[k for k, v in field_lookup[g].items() if v in get_value(g)] for g in gis_tables }"
   ]
  },
  {
   "cell_type": "code",
   "execution_count": 107,
   "metadata": {},
   "outputs": [
    {
     "data": {
      "text/html": [
       "<div>\n",
       "<style scoped>\n",
       "    .dataframe tbody tr th:only-of-type {\n",
       "        vertical-align: middle;\n",
       "    }\n",
       "\n",
       "    .dataframe tbody tr th {\n",
       "        vertical-align: top;\n",
       "    }\n",
       "\n",
       "    .dataframe thead th {\n",
       "        text-align: right;\n",
       "    }\n",
       "</style>\n",
       "<table border=\"1\" class=\"dataframe\">\n",
       "  <thead>\n",
       "    <tr style=\"text-align: right;\">\n",
       "      <th></th>\n",
       "      <th>objectid</th>\n",
       "      <th>gispropnum</th>\n",
       "      <th>omppropid</th>\n",
       "      <th>department</th>\n",
       "      <th>name</th>\n",
       "      <th>location</th>\n",
       "      <th>acres</th>\n",
       "      <th>jurisdiction</th>\n",
       "      <th>globalid</th>\n",
       "    </tr>\n",
       "  </thead>\n",
       "  <tbody>\n",
       "    <tr>\n",
       "      <th>173</th>\n",
       "      <td>1017</td>\n",
       "      <td>Q162I07</td>\n",
       "      <td>X371R</td>\n",
       "      <td>Q-14</td>\n",
       "      <td>PARK STRIP</td>\n",
       "      <td>test</td>\n",
       "      <td>0.000</td>\n",
       "      <td>DPR</td>\n",
       "      <td>af4b69cb-b374-4b9c-b86b-743c68965506</td>\n",
       "    </tr>\n",
       "    <tr>\n",
       "      <th>174</th>\n",
       "      <td>1074</td>\n",
       "      <td>RZ17A</td>\n",
       "      <td>X710</td>\n",
       "      <td>R-02</td>\n",
       "      <td>GREENSTREET</td>\n",
       "      <td>None</td>\n",
       "      <td>0.000</td>\n",
       "      <td>DPR</td>\n",
       "      <td>8d474094-d6ae-4787-b5e6-b3c67155c11e</td>\n",
       "    </tr>\n",
       "    <tr>\n",
       "      <th>175</th>\n",
       "      <td>974</td>\n",
       "      <td>B457</td>\n",
       "      <td>M112D</td>\n",
       "      <td>B-05</td>\n",
       "      <td>DOSCHER ST. BLOCK ASSOCIATION</td>\n",
       "      <td>Doscher St.</td>\n",
       "      <td>0.085</td>\n",
       "      <td>DPR</td>\n",
       "      <td>d7335d4a-8bbd-478a-ae90-d6e3399884e8</td>\n",
       "    </tr>\n",
       "    <tr>\n",
       "      <th>176</th>\n",
       "      <td>1077</td>\n",
       "      <td>RZ65</td>\n",
       "      <td>None</td>\n",
       "      <td>R-03</td>\n",
       "      <td>GREENSTREET</td>\n",
       "      <td>DEWEY PLACE &amp; GREAVES AVENUE</td>\n",
       "      <td>0.000</td>\n",
       "      <td>DPR</td>\n",
       "      <td>eba1a375-9f2c-4fac-bce8-1f14fb6c24ef</td>\n",
       "    </tr>\n",
       "    <tr>\n",
       "      <th>177</th>\n",
       "      <td>1139</td>\n",
       "      <td>RZ60</td>\n",
       "      <td>None</td>\n",
       "      <td>R-02</td>\n",
       "      <td>GREENSTREET</td>\n",
       "      <td>LILY POND &amp; VERRAZANO-NARROWS BRIDGE</td>\n",
       "      <td>0.000</td>\n",
       "      <td>DPR</td>\n",
       "      <td>d92ecce2-a0b0-4246-8927-8853e2817bc0</td>\n",
       "    </tr>\n",
       "  </tbody>\n",
       "</table>\n",
       "</div>"
      ],
      "text/plain": [
       "     objectid gispropnum omppropid department                           name  \\\n",
       "173      1017    Q162I07     X371R       Q-14                     PARK STRIP   \n",
       "174      1074      RZ17A      X710       R-02                    GREENSTREET   \n",
       "175       974       B457     M112D       B-05  DOSCHER ST. BLOCK ASSOCIATION   \n",
       "176      1077       RZ65      None       R-03                    GREENSTREET   \n",
       "177      1139       RZ60      None       R-02                    GREENSTREET   \n",
       "\n",
       "                                 location  acres jurisdiction  \\\n",
       "173                                  test  0.000          DPR   \n",
       "174                                  None  0.000          DPR   \n",
       "175                           Doscher St.  0.085          DPR   \n",
       "176          DEWEY PLACE & GREAVES AVENUE  0.000          DPR   \n",
       "177  LILY POND & VERRAZANO-NARROWS BRIDGE  0.000          DPR   \n",
       "\n",
       "                                 globalid  \n",
       "173  af4b69cb-b374-4b9c-b86b-743c68965506  \n",
       "174  8d474094-d6ae-4787-b5e6-b3c67155c11e  \n",
       "175  d7335d4a-8bbd-478a-ae90-d6e3399884e8  \n",
       "176  eba1a375-9f2c-4fac-bce8-1f14fb6c24ef  \n",
       "177  d92ecce2-a0b0-4246-8927-8853e2817bc0  "
      ]
     },
     "execution_count": 107,
     "metadata": {},
     "output_type": "execute_result"
    }
   ],
   "source": [
    "gis_dfs_insert['unmapped_gisallsites_evw']"
   ]
  },
  {
   "cell_type": "code",
   "execution_count": 108,
   "metadata": {},
   "outputs": [
    {
     "name": "stdout",
     "output_type": "stream",
     "text": [
      "property_evw propnum\n",
      "property_evw prop id\n",
      "playground_evw prop id\n",
      "zone_evw prop id\n",
      "unmapped_gisallsites_evw prop id\n",
      "schoolyard_to_playground_evw propnum\n",
      "schoolyard_to_playground_evw prop id\n",
      "greenstreet_evw prop id\n",
      "golfcourse_evw prop id\n",
      "restrictivedeclarationsite_evw propnum\n",
      "restrictivedeclarationsite_evw prop id\n",
      "structure_evw prop id\n"
     ]
    }
   ],
   "source": [
    "for g in gis_tables:\n",
    "    \n",
    "    #Generate the prop ids for all relevant columns\n",
    "    for c in apply_cols[g]:\n",
    "        print(g, c)\n",
    "        #gis_dfs_insert[g][c]"
   ]
  },
  {
   "cell_type": "code",
   "execution_count": 105,
   "metadata": {},
   "outputs": [
    {
     "ename": "KeyError",
     "evalue": "\"['sourcefc'] not found in axis\"",
     "output_type": "error",
     "traceback": [
      "\u001b[1;31m---------------------------------------------------------------------------\u001b[0m",
      "\u001b[1;31mKeyError\u001b[0m                                  Traceback (most recent call last)",
      "\u001b[1;32m<ipython-input-105-5b2805b9dc04>\u001b[0m in \u001b[0;36m<module>\u001b[1;34m\u001b[0m\n\u001b[0;32m     16\u001b[0m \u001b[1;33m\u001b[0m\u001b[0m\n\u001b[0;32m     17\u001b[0m     \u001b[1;31m#Remove duplicate columns and drop the sourcefc column\u001b[0m\u001b[1;33m\u001b[0m\u001b[1;33m\u001b[0m\u001b[1;33m\u001b[0m\u001b[0m\n\u001b[1;32m---> 18\u001b[1;33m     \u001b[0mgis_dfs_insert\u001b[0m\u001b[1;33m[\u001b[0m\u001b[0mg\u001b[0m\u001b[1;33m]\u001b[0m \u001b[1;33m=\u001b[0m \u001b[0mgis_dfs_insert\u001b[0m\u001b[1;33m[\u001b[0m\u001b[0mg\u001b[0m\u001b[1;33m]\u001b[0m\u001b[1;33m.\u001b[0m\u001b[0mloc\u001b[0m\u001b[1;33m[\u001b[0m\u001b[1;33m:\u001b[0m\u001b[1;33m,\u001b[0m\u001b[1;33m~\u001b[0m\u001b[0mgis_dfs_insert\u001b[0m\u001b[1;33m[\u001b[0m\u001b[0mg\u001b[0m\u001b[1;33m]\u001b[0m\u001b[1;33m.\u001b[0m\u001b[0mcolumns\u001b[0m\u001b[1;33m.\u001b[0m\u001b[0mduplicated\u001b[0m\u001b[1;33m(\u001b[0m\u001b[1;33m)\u001b[0m\u001b[1;33m]\u001b[0m\u001b[1;33m.\u001b[0m\u001b[0mdrop\u001b[0m\u001b[1;33m(\u001b[0m\u001b[0mcolumns\u001b[0m \u001b[1;33m=\u001b[0m \u001b[1;33m[\u001b[0m\u001b[1;34m'sourcefc'\u001b[0m\u001b[1;33m]\u001b[0m\u001b[1;33m)\u001b[0m\u001b[1;33m\u001b[0m\u001b[1;33m\u001b[0m\u001b[0m\n\u001b[0m",
      "\u001b[1;32m~\\AppData\\Roaming\\Python\\Python37\\site-packages\\pandas\\core\\frame.py\u001b[0m in \u001b[0;36mdrop\u001b[1;34m(self, labels, axis, index, columns, level, inplace, errors)\u001b[0m\n\u001b[0;32m   4168\u001b[0m             \u001b[0mlevel\u001b[0m\u001b[1;33m=\u001b[0m\u001b[0mlevel\u001b[0m\u001b[1;33m,\u001b[0m\u001b[1;33m\u001b[0m\u001b[1;33m\u001b[0m\u001b[0m\n\u001b[0;32m   4169\u001b[0m             \u001b[0minplace\u001b[0m\u001b[1;33m=\u001b[0m\u001b[0minplace\u001b[0m\u001b[1;33m,\u001b[0m\u001b[1;33m\u001b[0m\u001b[1;33m\u001b[0m\u001b[0m\n\u001b[1;32m-> 4170\u001b[1;33m             \u001b[0merrors\u001b[0m\u001b[1;33m=\u001b[0m\u001b[0merrors\u001b[0m\u001b[1;33m,\u001b[0m\u001b[1;33m\u001b[0m\u001b[1;33m\u001b[0m\u001b[0m\n\u001b[0m\u001b[0;32m   4171\u001b[0m         )\n\u001b[0;32m   4172\u001b[0m \u001b[1;33m\u001b[0m\u001b[0m\n",
      "\u001b[1;32m~\\AppData\\Roaming\\Python\\Python37\\site-packages\\pandas\\core\\generic.py\u001b[0m in \u001b[0;36mdrop\u001b[1;34m(self, labels, axis, index, columns, level, inplace, errors)\u001b[0m\n\u001b[0;32m   3885\u001b[0m         \u001b[1;32mfor\u001b[0m \u001b[0maxis\u001b[0m\u001b[1;33m,\u001b[0m \u001b[0mlabels\u001b[0m \u001b[1;32min\u001b[0m \u001b[0maxes\u001b[0m\u001b[1;33m.\u001b[0m\u001b[0mitems\u001b[0m\u001b[1;33m(\u001b[0m\u001b[1;33m)\u001b[0m\u001b[1;33m:\u001b[0m\u001b[1;33m\u001b[0m\u001b[1;33m\u001b[0m\u001b[0m\n\u001b[0;32m   3886\u001b[0m             \u001b[1;32mif\u001b[0m \u001b[0mlabels\u001b[0m \u001b[1;32mis\u001b[0m \u001b[1;32mnot\u001b[0m \u001b[1;32mNone\u001b[0m\u001b[1;33m:\u001b[0m\u001b[1;33m\u001b[0m\u001b[1;33m\u001b[0m\u001b[0m\n\u001b[1;32m-> 3887\u001b[1;33m                 \u001b[0mobj\u001b[0m \u001b[1;33m=\u001b[0m \u001b[0mobj\u001b[0m\u001b[1;33m.\u001b[0m\u001b[0m_drop_axis\u001b[0m\u001b[1;33m(\u001b[0m\u001b[0mlabels\u001b[0m\u001b[1;33m,\u001b[0m \u001b[0maxis\u001b[0m\u001b[1;33m,\u001b[0m \u001b[0mlevel\u001b[0m\u001b[1;33m=\u001b[0m\u001b[0mlevel\u001b[0m\u001b[1;33m,\u001b[0m \u001b[0merrors\u001b[0m\u001b[1;33m=\u001b[0m\u001b[0merrors\u001b[0m\u001b[1;33m)\u001b[0m\u001b[1;33m\u001b[0m\u001b[1;33m\u001b[0m\u001b[0m\n\u001b[0m\u001b[0;32m   3888\u001b[0m \u001b[1;33m\u001b[0m\u001b[0m\n\u001b[0;32m   3889\u001b[0m         \u001b[1;32mif\u001b[0m \u001b[0minplace\u001b[0m\u001b[1;33m:\u001b[0m\u001b[1;33m\u001b[0m\u001b[1;33m\u001b[0m\u001b[0m\n",
      "\u001b[1;32m~\\AppData\\Roaming\\Python\\Python37\\site-packages\\pandas\\core\\generic.py\u001b[0m in \u001b[0;36m_drop_axis\u001b[1;34m(self, labels, axis, level, errors)\u001b[0m\n\u001b[0;32m   3919\u001b[0m                 \u001b[0mnew_axis\u001b[0m \u001b[1;33m=\u001b[0m \u001b[0maxis\u001b[0m\u001b[1;33m.\u001b[0m\u001b[0mdrop\u001b[0m\u001b[1;33m(\u001b[0m\u001b[0mlabels\u001b[0m\u001b[1;33m,\u001b[0m \u001b[0mlevel\u001b[0m\u001b[1;33m=\u001b[0m\u001b[0mlevel\u001b[0m\u001b[1;33m,\u001b[0m \u001b[0merrors\u001b[0m\u001b[1;33m=\u001b[0m\u001b[0merrors\u001b[0m\u001b[1;33m)\u001b[0m\u001b[1;33m\u001b[0m\u001b[1;33m\u001b[0m\u001b[0m\n\u001b[0;32m   3920\u001b[0m             \u001b[1;32melse\u001b[0m\u001b[1;33m:\u001b[0m\u001b[1;33m\u001b[0m\u001b[1;33m\u001b[0m\u001b[0m\n\u001b[1;32m-> 3921\u001b[1;33m                 \u001b[0mnew_axis\u001b[0m \u001b[1;33m=\u001b[0m \u001b[0maxis\u001b[0m\u001b[1;33m.\u001b[0m\u001b[0mdrop\u001b[0m\u001b[1;33m(\u001b[0m\u001b[0mlabels\u001b[0m\u001b[1;33m,\u001b[0m \u001b[0merrors\u001b[0m\u001b[1;33m=\u001b[0m\u001b[0merrors\u001b[0m\u001b[1;33m)\u001b[0m\u001b[1;33m\u001b[0m\u001b[1;33m\u001b[0m\u001b[0m\n\u001b[0m\u001b[0;32m   3922\u001b[0m             \u001b[0mresult\u001b[0m \u001b[1;33m=\u001b[0m \u001b[0mself\u001b[0m\u001b[1;33m.\u001b[0m\u001b[0mreindex\u001b[0m\u001b[1;33m(\u001b[0m\u001b[1;33m**\u001b[0m\u001b[1;33m{\u001b[0m\u001b[0maxis_name\u001b[0m\u001b[1;33m:\u001b[0m \u001b[0mnew_axis\u001b[0m\u001b[1;33m}\u001b[0m\u001b[1;33m)\u001b[0m\u001b[1;33m\u001b[0m\u001b[1;33m\u001b[0m\u001b[0m\n\u001b[0;32m   3923\u001b[0m \u001b[1;33m\u001b[0m\u001b[0m\n",
      "\u001b[1;32m~\\AppData\\Roaming\\Python\\Python37\\site-packages\\pandas\\core\\indexes\\base.py\u001b[0m in \u001b[0;36mdrop\u001b[1;34m(self, labels, errors)\u001b[0m\n\u001b[0;32m   5280\u001b[0m         \u001b[1;32mif\u001b[0m \u001b[0mmask\u001b[0m\u001b[1;33m.\u001b[0m\u001b[0many\u001b[0m\u001b[1;33m(\u001b[0m\u001b[1;33m)\u001b[0m\u001b[1;33m:\u001b[0m\u001b[1;33m\u001b[0m\u001b[1;33m\u001b[0m\u001b[0m\n\u001b[0;32m   5281\u001b[0m             \u001b[1;32mif\u001b[0m \u001b[0merrors\u001b[0m \u001b[1;33m!=\u001b[0m \u001b[1;34m\"ignore\"\u001b[0m\u001b[1;33m:\u001b[0m\u001b[1;33m\u001b[0m\u001b[1;33m\u001b[0m\u001b[0m\n\u001b[1;32m-> 5282\u001b[1;33m                 \u001b[1;32mraise\u001b[0m \u001b[0mKeyError\u001b[0m\u001b[1;33m(\u001b[0m\u001b[1;34mf\"{labels[mask]} not found in axis\"\u001b[0m\u001b[1;33m)\u001b[0m\u001b[1;33m\u001b[0m\u001b[1;33m\u001b[0m\u001b[0m\n\u001b[0m\u001b[0;32m   5283\u001b[0m             \u001b[0mindexer\u001b[0m \u001b[1;33m=\u001b[0m \u001b[0mindexer\u001b[0m\u001b[1;33m[\u001b[0m\u001b[1;33m~\u001b[0m\u001b[0mmask\u001b[0m\u001b[1;33m]\u001b[0m\u001b[1;33m\u001b[0m\u001b[1;33m\u001b[0m\u001b[0m\n\u001b[0;32m   5284\u001b[0m         \u001b[1;32mreturn\u001b[0m \u001b[0mself\u001b[0m\u001b[1;33m.\u001b[0m\u001b[0mdelete\u001b[0m\u001b[1;33m(\u001b[0m\u001b[0mindexer\u001b[0m\u001b[1;33m)\u001b[0m\u001b[1;33m\u001b[0m\u001b[1;33m\u001b[0m\u001b[0m\n",
      "\u001b[1;31mKeyError\u001b[0m: \"['sourcefc'] not found in axis\""
     ]
    }
   ],
   "source": [
    "for g in gis_tables:\n",
    "    \n",
    "    #Take the existing max objectid and add that value to the current objectid\n",
    "    objectid = gis_df_list[g].copy()['objectid'].max()\n",
    "    gis_dfs_insert[g]['objectid'] = gis_dfs_insert[g].apply(lambda x: x['objectid'] + objectid, axis = 1)\n",
    "    \n",
    "    #Add a globalid column because it's required\n",
    "    gis_dfs_insert[g]['globalid'] = gis_dfs_insert[g].apply(lambda x: str(uuid.uuid4()), axis = 1)\n",
    "    \n",
    "    #Generate the prop ids for all relevant columns\n",
    "    for c in apply_cols[g]:\n",
    "        gis_dfs_insert[g][c] = gis_dfs_insert[g].apply(lambda x: gen_propid(g), axis = 1)\n",
    "     \n",
    "    #Rename the columns to the original names\n",
    "    gis_dfs_insert[g].rename(columns = field_lookup[g], inplace = True)\n",
    "    \n",
    "    #Remove duplicate columns and drop the sourcefc column\n",
    "    gis_dfs_insert[g] = gis_dfs_insert[g].loc[:,~gis_dfs_insert[g].columns.duplicated()].drop(columns = ['sourcefc'])"
   ]
  },
  {
   "cell_type": "code",
   "execution_count": 49,
   "metadata": {},
   "outputs": [],
   "source": [
    "for g in gis_tables:\n",
    "    fc = g.replace('_evw', '')\n",
    "    gis_dfs_insert[g].to_sql(fc, gis_con, schema = 'dpr', if_exists = 'append', index = False)"
   ]
  },
  {
   "cell_type": "code",
   "execution_count": 101,
   "metadata": {},
   "outputs": [
    {
     "data": {
      "text/plain": [
       "['prop id']"
      ]
     },
     "execution_count": 101,
     "metadata": {},
     "output_type": "execute_result"
    }
   ],
   "source": [
    "apply_cols['unmapped_gisallsites_evw']"
   ]
  },
  {
   "cell_type": "code",
   "execution_count": 100,
   "metadata": {},
   "outputs": [
    {
     "data": {
      "text/plain": [
       "173    X371R\n",
       "174     X710\n",
       "175    M112D\n",
       "176     None\n",
       "177     None\n",
       "Name: omppropid, dtype: object"
      ]
     },
     "execution_count": 100,
     "metadata": {},
     "output_type": "execute_result"
    }
   ],
   "source": [
    "gis_dfs_insert['unmapped_gisallsites_evw']['omppropid']"
   ]
  },
  {
   "cell_type": "code",
   "execution_count": 96,
   "metadata": {},
   "outputs": [
    {
     "data": {
      "text/plain": [
       "{'propnum': 'gispropnum',\n",
       " 'prop id': 'omppropid',\n",
       " 'borough': 'department',\n",
       " 'ampsdistrict': 'department',\n",
       " 'site name': 'name',\n",
       " 'site location': 'location',\n",
       " 'acres': 'acres',\n",
       " 'jurisdiction': 'jurisdiction'}"
      ]
     },
     "execution_count": 96,
     "metadata": {},
     "output_type": "execute_result"
    }
   ],
   "source": [
    "field_lookup['unmapped_gisallsites_evw']"
   ]
  },
  {
   "cell_type": "code",
   "execution_count": 93,
   "metadata": {},
   "outputs": [
    {
     "data": {
      "text/html": [
       "<div>\n",
       "<style scoped>\n",
       "    .dataframe tbody tr th:only-of-type {\n",
       "        vertical-align: middle;\n",
       "    }\n",
       "\n",
       "    .dataframe tbody tr th {\n",
       "        vertical-align: top;\n",
       "    }\n",
       "\n",
       "    .dataframe thead th {\n",
       "        text-align: right;\n",
       "    }\n",
       "</style>\n",
       "<table border=\"1\" class=\"dataframe\">\n",
       "  <thead>\n",
       "    <tr style=\"text-align: right;\">\n",
       "      <th></th>\n",
       "      <th>objectid</th>\n",
       "      <th>gispropnum</th>\n",
       "      <th>omppropid</th>\n",
       "      <th>department</th>\n",
       "      <th>name</th>\n",
       "      <th>location</th>\n",
       "      <th>acres</th>\n",
       "      <th>jurisdiction</th>\n",
       "      <th>globalid</th>\n",
       "    </tr>\n",
       "  </thead>\n",
       "  <tbody>\n",
       "    <tr>\n",
       "      <th>173</th>\n",
       "      <td>1017</td>\n",
       "      <td>Q162I07</td>\n",
       "      <td>X371R</td>\n",
       "      <td>Q-14</td>\n",
       "      <td>PARK STRIP</td>\n",
       "      <td>test</td>\n",
       "      <td>0.000</td>\n",
       "      <td>DPR</td>\n",
       "      <td>af4b69cb-b374-4b9c-b86b-743c68965506</td>\n",
       "    </tr>\n",
       "    <tr>\n",
       "      <th>174</th>\n",
       "      <td>1074</td>\n",
       "      <td>RZ17A</td>\n",
       "      <td>X710</td>\n",
       "      <td>R-02</td>\n",
       "      <td>GREENSTREET</td>\n",
       "      <td>None</td>\n",
       "      <td>0.000</td>\n",
       "      <td>DPR</td>\n",
       "      <td>8d474094-d6ae-4787-b5e6-b3c67155c11e</td>\n",
       "    </tr>\n",
       "    <tr>\n",
       "      <th>175</th>\n",
       "      <td>974</td>\n",
       "      <td>B457</td>\n",
       "      <td>M112D</td>\n",
       "      <td>B-05</td>\n",
       "      <td>DOSCHER ST. BLOCK ASSOCIATION</td>\n",
       "      <td>Doscher St.</td>\n",
       "      <td>0.085</td>\n",
       "      <td>DPR</td>\n",
       "      <td>d7335d4a-8bbd-478a-ae90-d6e3399884e8</td>\n",
       "    </tr>\n",
       "    <tr>\n",
       "      <th>176</th>\n",
       "      <td>1077</td>\n",
       "      <td>RZ65</td>\n",
       "      <td>None</td>\n",
       "      <td>R-03</td>\n",
       "      <td>GREENSTREET</td>\n",
       "      <td>DEWEY PLACE &amp; GREAVES AVENUE</td>\n",
       "      <td>0.000</td>\n",
       "      <td>DPR</td>\n",
       "      <td>eba1a375-9f2c-4fac-bce8-1f14fb6c24ef</td>\n",
       "    </tr>\n",
       "    <tr>\n",
       "      <th>177</th>\n",
       "      <td>1139</td>\n",
       "      <td>RZ60</td>\n",
       "      <td>None</td>\n",
       "      <td>R-02</td>\n",
       "      <td>GREENSTREET</td>\n",
       "      <td>LILY POND &amp; VERRAZANO-NARROWS BRIDGE</td>\n",
       "      <td>0.000</td>\n",
       "      <td>DPR</td>\n",
       "      <td>d92ecce2-a0b0-4246-8927-8853e2817bc0</td>\n",
       "    </tr>\n",
       "  </tbody>\n",
       "</table>\n",
       "</div>"
      ],
      "text/plain": [
       "     objectid gispropnum omppropid department                           name  \\\n",
       "173      1017    Q162I07     X371R       Q-14                     PARK STRIP   \n",
       "174      1074      RZ17A      X710       R-02                    GREENSTREET   \n",
       "175       974       B457     M112D       B-05  DOSCHER ST. BLOCK ASSOCIATION   \n",
       "176      1077       RZ65      None       R-03                    GREENSTREET   \n",
       "177      1139       RZ60      None       R-02                    GREENSTREET   \n",
       "\n",
       "                                 location  acres jurisdiction  \\\n",
       "173                                  test  0.000          DPR   \n",
       "174                                  None  0.000          DPR   \n",
       "175                           Doscher St.  0.085          DPR   \n",
       "176          DEWEY PLACE & GREAVES AVENUE  0.000          DPR   \n",
       "177  LILY POND & VERRAZANO-NARROWS BRIDGE  0.000          DPR   \n",
       "\n",
       "                                 globalid  \n",
       "173  af4b69cb-b374-4b9c-b86b-743c68965506  \n",
       "174  8d474094-d6ae-4787-b5e6-b3c67155c11e  \n",
       "175  d7335d4a-8bbd-478a-ae90-d6e3399884e8  \n",
       "176  eba1a375-9f2c-4fac-bce8-1f14fb6c24ef  \n",
       "177  d92ecce2-a0b0-4246-8927-8853e2817bc0  "
      ]
     },
     "execution_count": 93,
     "metadata": {},
     "output_type": "execute_result"
    }
   ],
   "source": [
    "gis_dfs_insert['unmapped_gisallsites_evw']"
   ]
  },
  {
   "cell_type": "markdown",
   "metadata": {},
   "source": [
    "## Execute the PIP Sync"
   ]
  },
  {
   "cell_type": "code",
   "execution_count": 50,
   "metadata": {},
   "outputs": [],
   "source": [
    "pip_con = pip_engine.connect()"
   ]
  },
  {
   "cell_type": "code",
   "execution_count": 51,
   "metadata": {},
   "outputs": [],
   "source": [
    "#Loop through and execute the update queries\n",
    "for q in db_sql:\n",
    "    pip_engine.execute(q)"
   ]
  },
  {
   "cell_type": "code",
   "execution_count": 52,
   "metadata": {},
   "outputs": [],
   "source": [
    "pip_con.close()"
   ]
  },
  {
   "cell_type": "markdown",
   "metadata": {},
   "source": [
    "## Get the PIP and GIS Tables after"
   ]
  },
  {
   "cell_type": "code",
   "execution_count": 53,
   "metadata": {},
   "outputs": [],
   "source": [
    "#Create a list of dataframes with the original dat\n",
    "pip_df_list_after = {s: pd.read_sql(con = pip_engine, sql = q) for q, s in zip(pip_sql_list, pip_tables)}"
   ]
  },
  {
   "cell_type": "code",
   "execution_count": 54,
   "metadata": {},
   "outputs": [],
   "source": [
    "#Create a dictionary with sources and dataframes that contain the original data\n",
    "gis_df_list_after = {s: pd.read_sql(con = gis_engine, sql = q) for q, s in zip(gis_sql_list, gis_tables)}"
   ]
  },
  {
   "cell_type": "markdown",
   "metadata": {},
   "source": [
    "# Conduct the Tests"
   ]
  },
  {
   "cell_type": "code",
   "execution_count": 55,
   "metadata": {},
   "outputs": [],
   "source": [
    "test_results = []"
   ]
  },
  {
   "cell_type": "markdown",
   "metadata": {},
   "source": [
    "### Merge the before and after dicts"
   ]
  },
  {
   "cell_type": "code",
   "execution_count": 56,
   "metadata": {},
   "outputs": [],
   "source": [
    "gis_df_update_ck = {g: gis_dfs_update[g].merge(gis_df_list_after[g], how = 'left', on = 'prop id', indicator = True, suffixes = (None, '_y')) for g in gis_tables} "
   ]
  },
  {
   "cell_type": "code",
   "execution_count": 57,
   "metadata": {},
   "outputs": [],
   "source": [
    "gis_df_delete_ck = {g: gis_dfs_delete[g].merge(gis_df_list_after[g], how = 'left', on = 'prop id', indicator = True, suffixes = (None, '_y')) for g in gis_tables} "
   ]
  },
  {
   "cell_type": "code",
   "execution_count": 58,
   "metadata": {},
   "outputs": [],
   "source": [
    "gis_df_insert_ck = {g: gis_dfs_insert[g].merge(gis_df_list_after[g], how = 'left', left_on = field_lookup[g]['prop id'], right_on = 'prop id', indicator = True, suffixes = (None, '_y')) for g in gis_tables} "
   ]
  },
  {
   "cell_type": "markdown",
   "metadata": {},
   "source": [
    "## Validate that the row count of the deleted records matches"
   ]
  },
  {
   "cell_type": "code",
   "execution_count": 59,
   "metadata": {},
   "outputs": [],
   "source": [
    "#The length of the records that are only in the deleted df (left_only) should be equal to the number of records in the delted df.\n",
    "gis_delete_valid = {g: len(gis_df_delete_ck[g][gis_df_delete_ck[g]['_merge'] == 'left_only']) == len(gis_dfs_delete[g]) for g in gis_tables}"
   ]
  },
  {
   "cell_type": "code",
   "execution_count": 60,
   "metadata": {},
   "outputs": [],
   "source": [
    "test_results.append({'Validation of Deletes in GIS evws' : all(v == True for v in gis_delete_valid.values())})"
   ]
  },
  {
   "cell_type": "code",
   "execution_count": 61,
   "metadata": {},
   "outputs": [],
   "source": [
    "gis_insert_valid = {g: len(gis_df_insert_ck[g][gis_df_insert_ck[g]['_merge'] == 'both']) == len(gis_dfs_insert[g]) for g in gis_tables}"
   ]
  },
  {
   "cell_type": "code",
   "execution_count": 62,
   "metadata": {},
   "outputs": [],
   "source": [
    "test_results.append({'Validation of Inserts into GIS evws' : all(v == True for v in gis_insert_valid.values())})"
   ]
  },
  {
   "cell_type": "code",
   "execution_count": 63,
   "metadata": {},
   "outputs": [],
   "source": [
    "gis_update_valid = {g: len(gis_df_update_ck[g][gis_df_update_ck[g]['_merge'] == 'both']) == len(gis_dfs_insert[g]) for g in gis_tables}"
   ]
  },
  {
   "cell_type": "code",
   "execution_count": 64,
   "metadata": {},
   "outputs": [],
   "source": [
    "test_results.append({'Validation of Updates into GIS evws' : all(v == True for v in gis_update_valid.values())})"
   ]
  },
  {
   "cell_type": "code",
   "execution_count": 65,
   "metadata": {},
   "outputs": [],
   "source": [
    "gis_update_valid2 = {g: len(gis_df_update_ck[g][gis_df_update_ck[g][update_col] == update_val]) == len(gis_dfs_insert[g]) for g in gis_tables}"
   ]
  },
  {
   "cell_type": "code",
   "execution_count": 66,
   "metadata": {},
   "outputs": [],
   "source": [
    "test_results.append({'Validation of Updates values into GIS evws' : all(v == True for v in gis_update_valid2.values())})"
   ]
  },
  {
   "cell_type": "markdown",
   "metadata": {},
   "source": [
    "## Update the datetime column to date only"
   ]
  },
  {
   "cell_type": "code",
   "execution_count": 68,
   "metadata": {},
   "outputs": [],
   "source": [
    "ck_date = date.today().strftime('%Y-%m-%d')"
   ]
  },
  {
   "cell_type": "code",
   "execution_count": 69,
   "metadata": {},
   "outputs": [],
   "source": [
    "pip_df_list_after['tbl_ref_allsites']['created_date'] = pip_df_list_after['tbl_ref_allsites'].apply(lambda x: x['created_date'].strftime('%Y-%m-%d'), axis = 1)"
   ]
  },
  {
   "cell_type": "code",
   "execution_count": 70,
   "metadata": {},
   "outputs": [],
   "source": [
    "pip_df_list_after['tbl_pip_allsites']['created_date'] = pip_df_list_after['tbl_pip_allsites'].apply(lambda x: x['created_date'].strftime('%Y-%m-%d'), axis = 1)"
   ]
  },
  {
   "cell_type": "markdown",
   "metadata": {},
   "source": [
    "## Do the validation with Allsites"
   ]
  },
  {
   "cell_type": "code",
   "execution_count": 71,
   "metadata": {},
   "outputs": [],
   "source": [
    "pip_df_update_ck = {g: gis_dfs_update[g].merge(pip_df_list_after['tbl_ref_allsites'][pip_df_list_after['tbl_ref_allsites']['sourcefc'] == sourcefc_lookup[g]], how = 'left', left_on = ['prop id'], right_on = ['Prop ID'], indicator = True, suffixes = (None, '_y')) for g in gis_tables} "
   ]
  },
  {
   "cell_type": "code",
   "execution_count": 72,
   "metadata": {},
   "outputs": [],
   "source": [
    "pip_df_update_audit_ck = {g: gis_dfs_update[g].merge(pip_df_list_after['tbl_ref_allsites_audit'][pip_df_list_after['tbl_ref_allsites_audit']['sourcefc'] == sourcefc_lookup[g]], how = 'left', left_on = ['prop id'], right_on = ['Prop ID'], indicator = True, suffixes = (None, '_y')) for g in gis_tables} "
   ]
  },
  {
   "cell_type": "code",
   "execution_count": 73,
   "metadata": {},
   "outputs": [],
   "source": [
    "pip_df_delete_ck = {g: gis_dfs_delete[g].merge(pip_df_list_after['tbl_ref_allsites'][pip_df_list_after['tbl_ref_allsites']['sourcefc'] == sourcefc_lookup[g]], how = 'left', left_on = ['prop id'], right_on = ['Prop ID'], indicator = True, suffixes = (None, '_y')) for g in gis_tables} "
   ]
  },
  {
   "cell_type": "code",
   "execution_count": 74,
   "metadata": {},
   "outputs": [],
   "source": [
    "pip_df_insert_ck = {g: gis_dfs_insert[g].merge(pip_df_list_after['tbl_ref_allsites'][pip_df_list_after['tbl_ref_allsites']['sourcefc'] == sourcefc_lookup[g]], how = 'left', left_on = [field_lookup[g]['prop id']], right_on = ['Prop ID'], indicator = True, suffixes = (None, '_y')) for g in gis_tables}"
   ]
  },
  {
   "cell_type": "code",
   "execution_count": 75,
   "metadata": {},
   "outputs": [],
   "source": [
    "pip_df_insert_ck2 = {g: gis_dfs_insert[g].merge(pip_df_list_after['tbl_pip_allsites'], how = 'left', left_on = [field_lookup[g]['prop id']], right_on = ['prop id'], indicator = True, suffixes = (None, '_y')) for g in gis_tables}"
   ]
  },
  {
   "cell_type": "markdown",
   "metadata": {},
   "source": [
    "## Check the validity for all the PIP Tests"
   ]
  },
  {
   "cell_type": "code",
   "execution_count": 76,
   "metadata": {},
   "outputs": [],
   "source": [
    "pip_df_update_valid = {g: len(pip_df_update_ck[g][(pip_df_update_ck[g]['_merge'] == 'both') & (pip_df_update_ck[g][update_col] == update_val)]) == len(gis_dfs_update[g]) for g in gis_tables}"
   ]
  },
  {
   "cell_type": "code",
   "execution_count": 77,
   "metadata": {},
   "outputs": [],
   "source": [
    "test_results.append({'Validation of Updates with values in tbl_ref_allsites' : all(v == True for v in gis_delete_valid.values())})"
   ]
  },
  {
   "cell_type": "code",
   "execution_count": 78,
   "metadata": {},
   "outputs": [],
   "source": [
    "pip_df_update_audit_valid = {g: len(pip_df_update_audit_ck[g][(pip_df_update_audit_ck[g]['_merge'] == 'both') & (pip_df_update_audit_ck[g]['created_date'] == ck_date)]) == len(gis_dfs_update[g]) for g in gis_tables}"
   ]
  },
  {
   "cell_type": "code",
   "execution_count": 79,
   "metadata": {},
   "outputs": [],
   "source": [
    "test_results.append({'Validation of Updates in tbl_ref_allsites_audit' : all(v == True for v in gis_delete_valid.values())})"
   ]
  },
  {
   "cell_type": "code",
   "execution_count": 80,
   "metadata": {},
   "outputs": [],
   "source": [
    "pip_df_delete_valid = {g: len(pip_df_delete_ck[g][(pip_df_delete_ck[g]['_merge'] == 'both') & (pip_df_delete_ck[g]['gis_deleted'] == 1)]) == len(gis_dfs_delete[g]) for g in gis_tables}"
   ]
  },
  {
   "cell_type": "code",
   "execution_count": 81,
   "metadata": {},
   "outputs": [],
   "source": [
    "test_results.append({'Validation of Deletes tbl_ref_allsites with flag' : all(v == True for v in gis_delete_valid.values())})"
   ]
  },
  {
   "cell_type": "code",
   "execution_count": 82,
   "metadata": {},
   "outputs": [],
   "source": [
    "pip_df_insert_valid = {g: len(pip_df_insert_ck[g][(pip_df_insert_ck[g]['_merge'] == 'both') & (pip_df_insert_ck[g]['created_date'] == ck_date)]) == len(gis_dfs_insert[g]) for g in gis_tables}"
   ]
  },
  {
   "cell_type": "code",
   "execution_count": 83,
   "metadata": {},
   "outputs": [],
   "source": [
    "test_results.append({'Validation of Inserts into tbl_ref_allsites' : all(v == True for v in gis_delete_valid.values())})"
   ]
  },
  {
   "cell_type": "code",
   "execution_count": 84,
   "metadata": {},
   "outputs": [],
   "source": [
    "pip_df_insert_valid2 = {g: len(pip_df_insert_ck2[g][(pip_df_insert_ck2[g]['_merge'] == 'both') & (pip_df_insert_ck[g]['created_date'] == ck_date)]) == len(gis_dfs_insert[g]) for g in gis_tables if g not in 'structure_evw'}"
   ]
  },
  {
   "cell_type": "code",
   "execution_count": 85,
   "metadata": {},
   "outputs": [],
   "source": [
    "test_results.append({'Validation of Inserts into tbl_pip_allsites, except structures' : all(v == True for v in gis_delete_valid.values())})"
   ]
  },
  {
   "cell_type": "code",
   "execution_count": 86,
   "metadata": {},
   "outputs": [
    {
     "data": {
      "text/plain": [
       "[{'Validation of Deletes in GIS evws': True},\n",
       " {'Validation of Inserts into GIS evws': False},\n",
       " {'Validation of Updates into GIS evws': False},\n",
       " {'Validation of Updates values into GIS evws': False},\n",
       " {'Validation of Updates with values in tbl_ref_allsites': True},\n",
       " {'Validation of Updates in tbl_ref_allsites_audit': True},\n",
       " {'Validation of Deletes tbl_ref_allsites with flag': True},\n",
       " {'Validation of Inserts into tbl_ref_allsites': True},\n",
       " {'Validation of Inserts into tbl_pip_allsites, except structures': True}]"
      ]
     },
     "execution_count": 86,
     "metadata": {},
     "output_type": "execute_result"
    }
   ],
   "source": [
    "test_results"
   ]
  }
 ],
 "metadata": {
  "kernelspec": {
   "display_name": "Python 3",
   "language": "python",
   "name": "python3"
  },
  "language_info": {
   "codemirror_mode": {
    "name": "ipython",
    "version": 3
   },
   "file_extension": ".py",
   "mimetype": "text/x-python",
   "name": "python",
   "nbconvert_exporter": "python",
   "pygments_lexer": "ipython3",
   "version": "3.7.4"
  }
 },
 "nbformat": 4,
 "nbformat_minor": 2
}
