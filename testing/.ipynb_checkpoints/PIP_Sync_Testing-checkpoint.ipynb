{
 "cells": [
  {
   "cell_type": "code",
   "execution_count": 1,
   "metadata": {},
   "outputs": [],
   "source": [
    "import sys\n",
    "import pandas as pd\n",
    "import numpy as np\n",
    "import urllib\n",
    "import sqlalchemy"
   ]
  },
  {
   "cell_type": "code",
   "execution_count": 2,
   "metadata": {},
   "outputs": [],
   "source": [
    "#Import shared functions\n",
    "sys.path.append('..\\..')\n",
    "from IPM_Shared_Code_public.Python.utils import get_config"
   ]
  },
  {
   "cell_type": "code",
   "execution_count": 3,
   "metadata": {},
   "outputs": [],
   "source": [
    "config = get_config('c:\\Projects\\config.ini')\n",
    "\n",
    "driver = config['srv']['driver']\n",
    "gis_server = config['srv']['server']\n",
    "pip_server = config['srv']['pip']\n",
    "gis = config['db']['parksgis']\n",
    "pip = config['db']['pip']"
   ]
  },
  {
   "cell_type": "code",
   "execution_count": 4,
   "metadata": {},
   "outputs": [],
   "source": [
    "con_string = 'Driver={' + driver + '};Server=' + pip_server +';Database=' + pip + ';Trusted_Connection=Yes;'\n",
    "params = urllib.parse.quote_plus(con_string)\n",
    "pip_engine = sqlalchemy.create_engine(\"mssql+pyodbc:///?odbc_connect=%s\" % params)"
   ]
  },
  {
   "cell_type": "code",
   "execution_count": 5,
   "metadata": {},
   "outputs": [],
   "source": [
    "con_string = 'Driver={' + driver + '};Server=' + gis_server +';Database=' + gis + ';Trusted_Connection=Yes;'\n",
    "params = urllib.parse.quote_plus(con_string)\n",
    "gis_engine = sqlalchemy.create_engine(\"mssql+pyodbc:///?odbc_connect=%s\" % params)"
   ]
  },
  {
   "cell_type": "markdown",
   "metadata": {},
   "source": [
    "## Set the prop id lookup field dictionary"
   ]
  },
  {
   "cell_type": "code",
   "execution_count": 6,
   "metadata": {},
   "outputs": [],
   "source": [
    "propid_lookup = {'property_evw': 'gispropnum', \n",
    "                 'playground_evw': 'omppropid', \n",
    "                 'zone_evw': 'omppropid', \n",
    "                 'unmapped_gisallsites_evw': 'omppropid',\n",
    "                 'schoolyard_to_playground_evw': 'gispropnum',\n",
    "                 'greenstreet_evw': 'omppropid',\n",
    "                 'golfcourse_evw': 'omppropid',\n",
    "                 'restrictivedeclarationsite_evw': 'gispropnum',\n",
    "                 'structure_evw': 'omppropid'}"
   ]
  },
  {
   "cell_type": "code",
   "execution_count": 7,
   "metadata": {},
   "outputs": [],
   "source": [
    "field_lookup = {'property_evw': ['gispropnum', 'department', 'signname', 'location', 'acres', 'jurisdiction', \n",
    "                                 'typecategory', 'featurestatus', 'gisobjid'], \n",
    "                 'playground_evw': ['parentid', 'omppropid', 'department', 'signname', 'location', 'acres', \n",
    "                                    'jurisdiction', 'typecategory', 'featurestatus', 'gisobjid'],  \n",
    "                 'zone_evw': ['parentid', 'omppropid', 'department', 'sitename', 'location', 'acres', \n",
    "                              'jurisdiction', 'featurestatus', 'gisobjid'], \n",
    "                 'unmapped_gisallsites_evw': ['gispropnum', 'omppropid', 'department', 'name', 'location', \n",
    "                                              'acres', 'jurisdiction'],\n",
    "                 'schoolyard_to_playground_evw': ['gispropnum', 'department', 'signname', 'location', 'acres', \n",
    "                                                  'jurisdiction', 'featurestatus'], \n",
    "                 'greenstreet_evw': ['gispropnum', 'omppropid', 'department', 'sitename', 'location', 'acres', \n",
    "                                    'jurisdiction', 'featurestatus', 'gisobjid'], \n",
    "                 'golfcourse_evw': ['gispropnum', 'omppropid', 'department', 'name', 'location', 'acres', \n",
    "                                    'jurisdiction', 'featurestatus', 'gisobjid'],\n",
    "                 'restrictivedeclarationsite_evw': ['gispropnum', 'department', 'signname', 'location', 'acres', \n",
    "                                                    'jurisdiction', 'featurestatus'],\n",
    "                 'structure_evw': ['gispropnum', 'omppropid', 'department', 'description', 'location', \n",
    "                                   'jurisdiction', 'featurestatus', 'gisobjid']}"
   ]
  },
  {
   "cell_type": "code",
   "execution_count": 8,
   "metadata": {},
   "outputs": [],
   "source": [
    "sourcefc_lookup = {'property_evw': 'Property', \n",
    "                   'playground_evw': 'Playground', \n",
    "                   'zone_evw': 'Zone', \n",
    "                   'unmapped_gisallsites_evw': 'Unmapped',\n",
    "                   'schoolyard_to_playground_evw': 'Schoolyard To Playground',\n",
    "                   'greenstreet_evw': 'Greenstreet',\n",
    "                   'golfcourse_evw': 'GolfCourse',\n",
    "                   'restrictivedeclarationsite_evw': 'RestrictiveDeclarationSite',\n",
    "                   'structure_evw': 'Structure'}"
   ]
  },
  {
   "cell_type": "markdown",
   "metadata": {},
   "source": [
    "## Original GIS Data"
   ]
  },
  {
   "cell_type": "code",
   "execution_count": 10,
   "metadata": {},
   "outputs": [],
   "source": [
    "#Define the tables that will be queried and interacted with\n",
    "gis_tables = ['property_evw', 'playground_evw', 'zone_evw', 'unmapped_gisallsites_evw', \n",
    "              'schoolyard_to_playground_evw', 'greenstreet_evw', 'golfcourse_evw', \n",
    "              'restrictivedeclarationsite_evw', 'structure_evw']"
   ]
  },
  {
   "cell_type": "code",
   "execution_count": 11,
   "metadata": {},
   "outputs": [],
   "source": [
    "#Create the list of SQL Queries\n",
    "gis_sql_list = [\"select {}, {} as [prop id], '{}' as sourcefc from parksgis.dpr.{}\"\n",
    "                .format(' ,'.join(field_lookup[t]), propid_lookup[t], sourcefc_lookup[t], t) \n",
    "                        for t in gis_tables]"
   ]
  },
  {
   "cell_type": "code",
   "execution_count": 12,
   "metadata": {},
   "outputs": [
    {
     "data": {
      "text/plain": [
       "[\"select gispropnum ,department ,signname ,location ,acres ,jurisdiction ,typecategory ,featurestatus ,gisobjid, gispropnum as [prop id], 'Property' as sourcefc from parksgis.dpr.property_evw\",\n",
       " \"select parentid ,omppropid ,department ,signname ,location ,acres ,jurisdiction ,typecategory ,featurestatus ,gisobjid, omppropid as [prop id], 'Playground' as sourcefc from parksgis.dpr.playground_evw\",\n",
       " \"select parentid ,omppropid ,department ,sitename ,location ,acres ,jurisdiction ,featurestatus ,gisobjid, omppropid as [prop id], 'Zone' as sourcefc from parksgis.dpr.zone_evw\",\n",
       " \"select gispropnum ,omppropid ,department ,name ,location ,acres ,jurisdiction, omppropid as [prop id], 'Unmapped' as sourcefc from parksgis.dpr.unmapped_gisallsites_evw\",\n",
       " \"select gispropnum ,department ,signname ,location ,acres ,jurisdiction ,featurestatus, gispropnum as [prop id], 'Schoolyard To Playground' as sourcefc from parksgis.dpr.schoolyard_to_playground_evw\",\n",
       " \"select gispropnum ,omppropid ,department ,sitename ,location ,acres ,jurisdiction ,featurestatus ,gisobjid, omppropid as [prop id], 'Greenstreet' as sourcefc from parksgis.dpr.greenstreet_evw\",\n",
       " \"select gispropnum ,omppropid ,department ,name ,location ,acres ,jurisdiction ,featurestatus ,gisobjid, omppropid as [prop id], 'GolfCourse' as sourcefc from parksgis.dpr.golfcourse_evw\",\n",
       " \"select gispropnum ,department ,signname ,location ,acres ,jurisdiction ,featurestatus, gispropnum as [prop id], 'RestrictiveDeclarationSite' as sourcefc from parksgis.dpr.restrictivedeclarationsite_evw\",\n",
       " \"select gispropnum ,omppropid ,department ,description ,location ,jurisdiction ,featurestatus ,gisobjid, omppropid as [prop id], 'Structure' as sourcefc from parksgis.dpr.structure_evw\"]"
      ]
     },
     "execution_count": 12,
     "metadata": {},
     "output_type": "execute_result"
    }
   ],
   "source": [
    "gis_sql_list"
   ]
  },
  {
   "cell_type": "code",
   "execution_count": 14,
   "metadata": {},
   "outputs": [],
   "source": [
    "#Create a list of dataframes with the original data\n",
    "gis_df_list = [pd.read_sql(con = gis_engine, sql = q) for q in gis_sql_list]"
   ]
  },
  {
   "cell_type": "markdown",
   "metadata": {},
   "source": [
    "## Original PIP Data"
   ]
  },
  {
   "cell_type": "code",
   "execution_count": 15,
   "metadata": {},
   "outputs": [],
   "source": [
    "#Define the tables that will be queried and interacted with\n",
    "pip_tables = ['tbl_ref_allsites', 'tbl_ref_allsites_nosync', 'tbl_pip_allsites', \n",
    "              'vw_pip_compatible_inspected_sites', 'allsites']"
   ]
  },
  {
   "cell_type": "code",
   "execution_count": 16,
   "metadata": {},
   "outputs": [],
   "source": [
    "#Create the list of SQL Queries\n",
    "pip_sql_list = ['select * from accessnewpip.dbo.'+ t for t in pip_tables]"
   ]
  },
  {
   "cell_type": "code",
   "execution_count": 17,
   "metadata": {},
   "outputs": [],
   "source": [
    "#Create a list of dataframes with the original dat\n",
    "pip_df_list = [pd.read_sql(con = pip_engine, sql = q) for q in pip_sql_list]"
   ]
  },
  {
   "cell_type": "code",
   "execution_count": 18,
   "metadata": {},
   "outputs": [
    {
     "data": {
      "text/html": [
       "<div>\n",
       "<style scoped>\n",
       "    .dataframe tbody tr th:only-of-type {\n",
       "        vertical-align: middle;\n",
       "    }\n",
       "\n",
       "    .dataframe tbody tr th {\n",
       "        vertical-align: top;\n",
       "    }\n",
       "\n",
       "    .dataframe thead th {\n",
       "        text-align: right;\n",
       "    }\n",
       "</style>\n",
       "<table border=\"1\" class=\"dataframe\">\n",
       "  <thead>\n",
       "    <tr style=\"text-align: right;\">\n",
       "      <th></th>\n",
       "      <th>PropNum</th>\n",
       "      <th>Prop ID</th>\n",
       "      <th>Boro</th>\n",
       "      <th>AMPSDistrict</th>\n",
       "      <th>Prop Name</th>\n",
       "      <th>Site Name</th>\n",
       "      <th>Prop Location</th>\n",
       "      <th>Site Location</th>\n",
       "      <th>jurisdiction</th>\n",
       "      <th>typecategory</th>\n",
       "      <th>acres</th>\n",
       "      <th>gisobjid</th>\n",
       "      <th>sourcefc</th>\n",
       "      <th>created_date</th>\n",
       "      <th>row_hash</th>\n",
       "      <th>gis_deleted</th>\n",
       "      <th>shape</th>\n",
       "    </tr>\n",
       "  </thead>\n",
       "  <tbody>\n",
       "    <tr>\n",
       "      <th>0</th>\n",
       "      <td>B001</td>\n",
       "      <td>B001</td>\n",
       "      <td>B</td>\n",
       "      <td>01</td>\n",
       "      <td>American Playground</td>\n",
       "      <td>American Playground</td>\n",
       "      <td>Franklin St. bet. Milton St. and Noble St.</td>\n",
       "      <td>Franklin St. bet. Milton St. and Noble St.</td>\n",
       "      <td>DPR</td>\n",
       "      <td>Playground</td>\n",
       "      <td>0.896</td>\n",
       "      <td>100004272.0</td>\n",
       "      <td>Property</td>\n",
       "      <td>2021-04-20 21:25:30.530</td>\n",
       "      <td>b'\\x9f\\xba\\x91\\xda1\\xd9\\xae\\x1eT\\x91\\xfe\\xd7P[...</td>\n",
       "      <td>False</td>\n",
       "      <td>b\"\\xd7\\x08\\x00\\x00\\x01\\x04\\x05\\x00\\x00\\x00\\x00...</td>\n",
       "    </tr>\n",
       "    <tr>\n",
       "      <th>1</th>\n",
       "      <td>B002</td>\n",
       "      <td>B002</td>\n",
       "      <td>B</td>\n",
       "      <td>18</td>\n",
       "      <td>Amersfort Park</td>\n",
       "      <td>Amersfort Park</td>\n",
       "      <td>E. 38 St., E. 38 St. bet. Ave. I and Ave. J</td>\n",
       "      <td>E. 38 St., E. 38 St. bet. Ave. I and Ave. J</td>\n",
       "      <td>DPR</td>\n",
       "      <td>Neighborhood Park</td>\n",
       "      <td>3.557</td>\n",
       "      <td>100004500.0</td>\n",
       "      <td>Property</td>\n",
       "      <td>2021-04-20 21:25:30.530</td>\n",
       "      <td>b'\\x8c\\xf0&amp;\\xbe 2{;\\xa9N\\xe06\\r~\\x901L\\xf5\\x1c...</td>\n",
       "      <td>False</td>\n",
       "      <td>b'\\xd7\\x08\\x00\\x00\\x01\\x04\\x05\\x00\\x00\\x00\\x00...</td>\n",
       "    </tr>\n",
       "    <tr>\n",
       "      <th>2</th>\n",
       "      <td>B003</td>\n",
       "      <td>B003</td>\n",
       "      <td>B</td>\n",
       "      <td>19</td>\n",
       "      <td>Bartel-Pritchard Square</td>\n",
       "      <td>Bartel-Pritchard Square</td>\n",
       "      <td>Prospect Park W., 15 St.</td>\n",
       "      <td>Prospect Park W., 15 St.</td>\n",
       "      <td>DPR</td>\n",
       "      <td>Triangle/Plaza</td>\n",
       "      <td>1.711</td>\n",
       "      <td>100003839.0</td>\n",
       "      <td>Property</td>\n",
       "      <td>2021-04-20 21:25:30.530</td>\n",
       "      <td>b'\\xb3m\\xd3\\x9f\\xcb\\x01\\xfd\\xd94\\x88\\x0c\\xeap\\...</td>\n",
       "      <td>False</td>\n",
       "      <td>b'\\xd7\\x08\\x00\\x00\\x01\\x04\\xb9\\x00\\x00\\x00\\x00...</td>\n",
       "    </tr>\n",
       "    <tr>\n",
       "      <th>3</th>\n",
       "      <td>B006</td>\n",
       "      <td>B006</td>\n",
       "      <td>B</td>\n",
       "      <td>03</td>\n",
       "      <td>Beattie Square</td>\n",
       "      <td>Beattie Square</td>\n",
       "      <td>Broadway, Stuyvesant Ave., Vernon Ave.</td>\n",
       "      <td>Broadway, Stuyvesant Ave., Vernon Ave.</td>\n",
       "      <td>DPR</td>\n",
       "      <td>Triangle/Plaza</td>\n",
       "      <td>0.012</td>\n",
       "      <td>100003773.0</td>\n",
       "      <td>Property</td>\n",
       "      <td>2021-04-20 21:25:30.530</td>\n",
       "      <td>b'o\\x98\\x94\\xf2\\xfdH\\xd36j\\t/|\\x0e\\\\?,\\xb3\\x87...</td>\n",
       "      <td>False</td>\n",
       "      <td>b'\\xd7\\x08\\x00\\x00\\x01\\x04\\x04\\x00\\x00\\x00\\x80...</td>\n",
       "    </tr>\n",
       "    <tr>\n",
       "      <th>4</th>\n",
       "      <td>B007</td>\n",
       "      <td>B007</td>\n",
       "      <td>B</td>\n",
       "      <td>11</td>\n",
       "      <td>Bensonhurst Park</td>\n",
       "      <td>Bensonhurst Park</td>\n",
       "      <td>Cropsey Ave. bet. 21 Ave. and Bay Pkwy.</td>\n",
       "      <td>Cropsey Ave. bet. 21 Ave. and Bay Pkwy.</td>\n",
       "      <td>DPR</td>\n",
       "      <td>Recreation Field/Courts</td>\n",
       "      <td>17.500</td>\n",
       "      <td>100004816.0</td>\n",
       "      <td>Property</td>\n",
       "      <td>2021-04-20 21:25:30.530</td>\n",
       "      <td>b'\\x06\\xc6YC3\\xa8\\xa6f\\x088\\xaf(u\\x87F\\x9a\\xe2...</td>\n",
       "      <td>False</td>\n",
       "      <td>b'\\xd7\\x08\\x00\\x00\\x01\\x04H\\x00\\x00\\x00\\x80\\x9...</td>\n",
       "    </tr>\n",
       "    <tr>\n",
       "      <th>...</th>\n",
       "      <td>...</td>\n",
       "      <td>...</td>\n",
       "      <td>...</td>\n",
       "      <td>...</td>\n",
       "      <td>...</td>\n",
       "      <td>...</td>\n",
       "      <td>...</td>\n",
       "      <td>...</td>\n",
       "      <td>...</td>\n",
       "      <td>...</td>\n",
       "      <td>...</td>\n",
       "      <td>...</td>\n",
       "      <td>...</td>\n",
       "      <td>...</td>\n",
       "      <td>...</td>\n",
       "      <td>...</td>\n",
       "      <td>...</td>\n",
       "    </tr>\n",
       "    <tr>\n",
       "      <th>6431</th>\n",
       "      <td>XZ94</td>\n",
       "      <td>XZ94</td>\n",
       "      <td>X</td>\n",
       "      <td>04</td>\n",
       "      <td>GREENSTREET</td>\n",
       "      <td>GREENSTREET</td>\n",
       "      <td>East 153rd St. Bet. Concourse Village We</td>\n",
       "      <td>East 153rd St. Bet. Concourse Village We</td>\n",
       "      <td>DOT</td>\n",
       "      <td>None</td>\n",
       "      <td>0.034</td>\n",
       "      <td>100006143.0</td>\n",
       "      <td>Greenstreet</td>\n",
       "      <td>2021-04-20 21:25:30.530</td>\n",
       "      <td>b'\\x89\\xc7\\xc1\\x03\\x15r\\xa2\\xd9\\xa7B\\xb4\\x10\\x...</td>\n",
       "      <td>False</td>\n",
       "      <td>b'\\xd7\\x08\\x00\\x00\\x01\\x04\\xc6\\x00\\x00\\x00\\x00...</td>\n",
       "    </tr>\n",
       "    <tr>\n",
       "      <th>6432</th>\n",
       "      <td>XZ95</td>\n",
       "      <td>XZ95</td>\n",
       "      <td>X</td>\n",
       "      <td>04</td>\n",
       "      <td>GREENSTREET</td>\n",
       "      <td>GREENSTREET</td>\n",
       "      <td>Grand Concourse And Tudor Pl.</td>\n",
       "      <td>Grand Concourse And Tudor Pl.</td>\n",
       "      <td>DOT</td>\n",
       "      <td>None</td>\n",
       "      <td>0.002</td>\n",
       "      <td>100007214.0</td>\n",
       "      <td>Greenstreet</td>\n",
       "      <td>2021-04-20 21:25:30.530</td>\n",
       "      <td>b'&lt;\\x9a\\xec\\xf1\\xba\\x02\\x8a\\x92G\\xdck\\x930\\xb2...</td>\n",
       "      <td>False</td>\n",
       "      <td>b'\\xd7\\x08\\x00\\x00\\x01\\x04\\x05\\x00\\x00\\x00\\x80...</td>\n",
       "    </tr>\n",
       "    <tr>\n",
       "      <th>6433</th>\n",
       "      <td>XZ96</td>\n",
       "      <td>XZ96</td>\n",
       "      <td>X</td>\n",
       "      <td>04</td>\n",
       "      <td>GREENSTREET</td>\n",
       "      <td>GREENSTREET</td>\n",
       "      <td>Tudor Pl. And Grand Concourse</td>\n",
       "      <td>Tudor Pl. And Grand Concourse</td>\n",
       "      <td>DOT</td>\n",
       "      <td>None</td>\n",
       "      <td>0.002</td>\n",
       "      <td>100007213.0</td>\n",
       "      <td>Greenstreet</td>\n",
       "      <td>2021-04-20 21:25:30.530</td>\n",
       "      <td>b'\\xc34m\\xde\\x8e\\xab\\xd2\\xc7M\\x1f\\x93\\xaf\\xf3\\...</td>\n",
       "      <td>False</td>\n",
       "      <td>b'\\xd7\\x08\\x00\\x00\\x01\\x04\\x05\\x00\\x00\\x00\\x00...</td>\n",
       "    </tr>\n",
       "    <tr>\n",
       "      <th>6434</th>\n",
       "      <td>XZ97</td>\n",
       "      <td>XZ97</td>\n",
       "      <td>X</td>\n",
       "      <td>04</td>\n",
       "      <td>GREENSTREET</td>\n",
       "      <td>GREENSTREET</td>\n",
       "      <td>Mc Clellan St. And Grand Concourse</td>\n",
       "      <td>Mc Clellan St. And Grand Concourse</td>\n",
       "      <td>DOT</td>\n",
       "      <td>None</td>\n",
       "      <td>0.002</td>\n",
       "      <td>100006301.0</td>\n",
       "      <td>Greenstreet</td>\n",
       "      <td>2021-04-20 21:25:30.530</td>\n",
       "      <td>b'Rl\\xda\\x8a&lt;H\\xfa\\x1bH\\xefk\\xc8\\xe5\\xfa\\xec\\x...</td>\n",
       "      <td>False</td>\n",
       "      <td>b'\\xd7\\x08\\x00\\x00\\x01\\x04\\x05\\x00\\x00\\x00\\x80...</td>\n",
       "    </tr>\n",
       "    <tr>\n",
       "      <th>6435</th>\n",
       "      <td>XZ99</td>\n",
       "      <td>XZ99</td>\n",
       "      <td>X</td>\n",
       "      <td>03</td>\n",
       "      <td>GREENSTREET</td>\n",
       "      <td>GREENSTREET</td>\n",
       "      <td>Brook And 165th Street</td>\n",
       "      <td>Brook And 165th Street</td>\n",
       "      <td>DOT</td>\n",
       "      <td>None</td>\n",
       "      <td>0.072</td>\n",
       "      <td>100006912.0</td>\n",
       "      <td>Greenstreet</td>\n",
       "      <td>2021-04-20 21:25:30.530</td>\n",
       "      <td>b'z\\x10\\x12&gt;\\xeb#%x\\xf2\\xd5\\x83\\x87y\\xa3s\\xee\\...</td>\n",
       "      <td>False</td>\n",
       "      <td>b'\\xd7\\x08\\x00\\x00\\x01\\x04\\x9b\\x00\\x00\\x00\\x00...</td>\n",
       "    </tr>\n",
       "  </tbody>\n",
       "</table>\n",
       "<p>6436 rows × 17 columns</p>\n",
       "</div>"
      ],
      "text/plain": [
       "     PropNum Prop ID Boro AMPSDistrict                Prop Name  \\\n",
       "0       B001    B001    B           01      American Playground   \n",
       "1       B002    B002    B           18           Amersfort Park   \n",
       "2       B003    B003    B           19  Bartel-Pritchard Square   \n",
       "3       B006    B006    B           03           Beattie Square   \n",
       "4       B007    B007    B           11         Bensonhurst Park   \n",
       "...      ...     ...  ...          ...                      ...   \n",
       "6431    XZ94    XZ94    X           04              GREENSTREET   \n",
       "6432    XZ95    XZ95    X           04              GREENSTREET   \n",
       "6433    XZ96    XZ96    X           04              GREENSTREET   \n",
       "6434    XZ97    XZ97    X           04              GREENSTREET   \n",
       "6435    XZ99    XZ99    X           03              GREENSTREET   \n",
       "\n",
       "                    Site Name                                Prop Location  \\\n",
       "0         American Playground   Franklin St. bet. Milton St. and Noble St.   \n",
       "1              Amersfort Park  E. 38 St., E. 38 St. bet. Ave. I and Ave. J   \n",
       "2     Bartel-Pritchard Square                     Prospect Park W., 15 St.   \n",
       "3              Beattie Square       Broadway, Stuyvesant Ave., Vernon Ave.   \n",
       "4            Bensonhurst Park      Cropsey Ave. bet. 21 Ave. and Bay Pkwy.   \n",
       "...                       ...                                          ...   \n",
       "6431              GREENSTREET     East 153rd St. Bet. Concourse Village We   \n",
       "6432              GREENSTREET                Grand Concourse And Tudor Pl.   \n",
       "6433              GREENSTREET                Tudor Pl. And Grand Concourse   \n",
       "6434              GREENSTREET           Mc Clellan St. And Grand Concourse   \n",
       "6435              GREENSTREET                       Brook And 165th Street   \n",
       "\n",
       "                                    Site Location jurisdiction  \\\n",
       "0      Franklin St. bet. Milton St. and Noble St.          DPR   \n",
       "1     E. 38 St., E. 38 St. bet. Ave. I and Ave. J          DPR   \n",
       "2                        Prospect Park W., 15 St.          DPR   \n",
       "3          Broadway, Stuyvesant Ave., Vernon Ave.          DPR   \n",
       "4         Cropsey Ave. bet. 21 Ave. and Bay Pkwy.          DPR   \n",
       "...                                           ...          ...   \n",
       "6431     East 153rd St. Bet. Concourse Village We          DOT   \n",
       "6432                Grand Concourse And Tudor Pl.          DOT   \n",
       "6433                Tudor Pl. And Grand Concourse          DOT   \n",
       "6434           Mc Clellan St. And Grand Concourse          DOT   \n",
       "6435                       Brook And 165th Street          DOT   \n",
       "\n",
       "                 typecategory   acres     gisobjid     sourcefc  \\\n",
       "0                  Playground   0.896  100004272.0     Property   \n",
       "1           Neighborhood Park   3.557  100004500.0     Property   \n",
       "2              Triangle/Plaza   1.711  100003839.0     Property   \n",
       "3              Triangle/Plaza   0.012  100003773.0     Property   \n",
       "4     Recreation Field/Courts  17.500  100004816.0     Property   \n",
       "...                       ...     ...          ...          ...   \n",
       "6431                     None   0.034  100006143.0  Greenstreet   \n",
       "6432                     None   0.002  100007214.0  Greenstreet   \n",
       "6433                     None   0.002  100007213.0  Greenstreet   \n",
       "6434                     None   0.002  100006301.0  Greenstreet   \n",
       "6435                     None   0.072  100006912.0  Greenstreet   \n",
       "\n",
       "                created_date  \\\n",
       "0    2021-04-20 21:25:30.530   \n",
       "1    2021-04-20 21:25:30.530   \n",
       "2    2021-04-20 21:25:30.530   \n",
       "3    2021-04-20 21:25:30.530   \n",
       "4    2021-04-20 21:25:30.530   \n",
       "...                      ...   \n",
       "6431 2021-04-20 21:25:30.530   \n",
       "6432 2021-04-20 21:25:30.530   \n",
       "6433 2021-04-20 21:25:30.530   \n",
       "6434 2021-04-20 21:25:30.530   \n",
       "6435 2021-04-20 21:25:30.530   \n",
       "\n",
       "                                               row_hash  gis_deleted  \\\n",
       "0     b'\\x9f\\xba\\x91\\xda1\\xd9\\xae\\x1eT\\x91\\xfe\\xd7P[...        False   \n",
       "1     b'\\x8c\\xf0&\\xbe 2{;\\xa9N\\xe06\\r~\\x901L\\xf5\\x1c...        False   \n",
       "2     b'\\xb3m\\xd3\\x9f\\xcb\\x01\\xfd\\xd94\\x88\\x0c\\xeap\\...        False   \n",
       "3     b'o\\x98\\x94\\xf2\\xfdH\\xd36j\\t/|\\x0e\\\\?,\\xb3\\x87...        False   \n",
       "4     b'\\x06\\xc6YC3\\xa8\\xa6f\\x088\\xaf(u\\x87F\\x9a\\xe2...        False   \n",
       "...                                                 ...          ...   \n",
       "6431  b'\\x89\\xc7\\xc1\\x03\\x15r\\xa2\\xd9\\xa7B\\xb4\\x10\\x...        False   \n",
       "6432  b'<\\x9a\\xec\\xf1\\xba\\x02\\x8a\\x92G\\xdck\\x930\\xb2...        False   \n",
       "6433  b'\\xc34m\\xde\\x8e\\xab\\xd2\\xc7M\\x1f\\x93\\xaf\\xf3\\...        False   \n",
       "6434  b'Rl\\xda\\x8a<H\\xfa\\x1bH\\xefk\\xc8\\xe5\\xfa\\xec\\x...        False   \n",
       "6435  b'z\\x10\\x12>\\xeb#%x\\xf2\\xd5\\x83\\x87y\\xa3s\\xee\\...        False   \n",
       "\n",
       "                                                  shape  \n",
       "0     b\"\\xd7\\x08\\x00\\x00\\x01\\x04\\x05\\x00\\x00\\x00\\x00...  \n",
       "1     b'\\xd7\\x08\\x00\\x00\\x01\\x04\\x05\\x00\\x00\\x00\\x00...  \n",
       "2     b'\\xd7\\x08\\x00\\x00\\x01\\x04\\xb9\\x00\\x00\\x00\\x00...  \n",
       "3     b'\\xd7\\x08\\x00\\x00\\x01\\x04\\x04\\x00\\x00\\x00\\x80...  \n",
       "4     b'\\xd7\\x08\\x00\\x00\\x01\\x04H\\x00\\x00\\x00\\x80\\x9...  \n",
       "...                                                 ...  \n",
       "6431  b'\\xd7\\x08\\x00\\x00\\x01\\x04\\xc6\\x00\\x00\\x00\\x00...  \n",
       "6432  b'\\xd7\\x08\\x00\\x00\\x01\\x04\\x05\\x00\\x00\\x00\\x80...  \n",
       "6433  b'\\xd7\\x08\\x00\\x00\\x01\\x04\\x05\\x00\\x00\\x00\\x00...  \n",
       "6434  b'\\xd7\\x08\\x00\\x00\\x01\\x04\\x05\\x00\\x00\\x00\\x80...  \n",
       "6435  b'\\xd7\\x08\\x00\\x00\\x01\\x04\\x9b\\x00\\x00\\x00\\x00...  \n",
       "\n",
       "[6436 rows x 17 columns]"
      ]
     },
     "execution_count": 18,
     "metadata": {},
     "output_type": "execute_result"
    }
   ],
   "source": [
    "pip_df_list[0]"
   ]
  },
  {
   "cell_type": "markdown",
   "metadata": {},
   "source": [
    "## Perform DML Steps"
   ]
  },
  {
   "cell_type": "markdown",
   "metadata": {},
   "source": [
    "### Delete Records"
   ]
  },
  {
   "cell_type": "code",
   "execution_count": 13,
   "metadata": {},
   "outputs": [],
   "source": [
    "#Define the common where clause\n",
    "where = str(r\"where objectid like '%3%'\")"
   ]
  },
  {
   "cell_type": "code",
   "execution_count": 21,
   "metadata": {},
   "outputs": [],
   "source": [
    "#Should be able to filter original DFs"
   ]
  },
  {
   "cell_type": "code",
   "execution_count": 15,
   "metadata": {},
   "outputs": [],
   "source": [
    "#Loop through the GIS datasets, drop the _evw and perform the deletes\n",
    "sql = ['delete from parksgis.dpr.{} {}'.format(g.replace('_evw', ''), where) for g in gis_tables]"
   ]
  },
  {
   "cell_type": "code",
   "execution_count": 16,
   "metadata": {},
   "outputs": [],
   "source": [
    "gis_con = gis_engine.connect()"
   ]
  },
  {
   "cell_type": "code",
   "execution_count": 17,
   "metadata": {},
   "outputs": [
    {
     "data": {
      "text/plain": [
       "[\"delete from parksgis.dpr.property where objectid like '%3%'\",\n",
       " \"delete from parksgis.dpr.playground where objectid like '%3%'\",\n",
       " \"delete from parksgis.dpr.zone where objectid like '%3%'\",\n",
       " \"delete from parksgis.dpr.unmapped_gisallsites where objectid like '%3%'\",\n",
       " \"delete from parksgis.dpr.schoolyard_to_playground where objectid like '%3%'\",\n",
       " \"delete from parksgis.dpr.greenstreet where objectid like '%3%'\",\n",
       " \"delete from parksgis.dpr.golfcourse where objectid like '%3%'\",\n",
       " \"delete from parksgis.dpr.restrictivedeclarationsite where objectid like '%3%'\"]"
      ]
     },
     "execution_count": 17,
     "metadata": {},
     "output_type": "execute_result"
    }
   ],
   "source": [
    "sql"
   ]
  },
  {
   "cell_type": "code",
   "execution_count": 18,
   "metadata": {},
   "outputs": [],
   "source": [
    "for q in sql:\n",
    "    gis_con.execute(q)"
   ]
  },
  {
   "cell_type": "code",
   "execution_count": null,
   "metadata": {},
   "outputs": [],
   "source": [
    "#Create a list of dataframes with the original data\n",
    "gis_df_post_delete = [pd.read_sql(con = gis_engine, sql = q) for q in pre_delete_sql]"
   ]
  },
  {
   "cell_type": "markdown",
   "metadata": {},
   "source": [
    "### Update Records"
   ]
  },
  {
   "cell_type": "code",
   "execution_count": null,
   "metadata": {},
   "outputs": [],
   "source": [
    "#Define the common where clause\n",
    "where = str(r\"where objectid like '%4%'\")"
   ]
  },
  {
   "cell_type": "code",
   "execution_count": null,
   "metadata": {},
   "outputs": [],
   "source": [
    "set_value = str(r\"\")"
   ]
  },
  {
   "cell_type": "code",
   "execution_count": null,
   "metadata": {},
   "outputs": [],
   "source": [
    "#Loop through the GIS datasets, drop the _evw and perform the deletes\n",
    "sql = ['update parksgis.dpr.{} set  {}'.format(g.replace('_evw', ''), where) for g in gis_tables]"
   ]
  },
  {
   "cell_type": "markdown",
   "metadata": {},
   "source": [
    "### Insert Non-Duplicate Records"
   ]
  },
  {
   "cell_type": "code",
   "execution_count": 39,
   "metadata": {},
   "outputs": [],
   "source": [
    "import random"
   ]
  },
  {
   "cell_type": "code",
   "execution_count": 66,
   "metadata": {},
   "outputs": [],
   "source": [
    "#Define the range for generating records\n",
    "n_gen = range(0, 100)"
   ]
  },
  {
   "cell_type": "code",
   "execution_count": 37,
   "metadata": {},
   "outputs": [],
   "source": [
    "#Define the borough portion of IDs\n",
    "boro = ['B','Q','M','R','X'] "
   ]
  },
  {
   "cell_type": "code",
   "execution_count": 68,
   "metadata": {},
   "outputs": [],
   "source": [
    "#Combine the borough portion with the formated (padded with leading 0) random numbers\n",
    "nums = [boro[random.randint(0,4)] + f'{random.randint(0, 999):03}' for i in n_gen]"
   ]
  },
  {
   "cell_type": "code",
   "execution_count": 69,
   "metadata": {},
   "outputs": [
    {
     "data": {
      "text/plain": [
       "['B031',\n",
       " 'Q987',\n",
       " 'B623',\n",
       " 'M749',\n",
       " 'X520',\n",
       " 'M462',\n",
       " 'M809',\n",
       " 'Q353',\n",
       " 'Q165',\n",
       " 'B370',\n",
       " 'R905',\n",
       " 'X598',\n",
       " 'X685',\n",
       " 'Q481',\n",
       " 'B949',\n",
       " 'B851',\n",
       " 'M019',\n",
       " 'M477',\n",
       " 'Q699',\n",
       " 'X483',\n",
       " 'X843',\n",
       " 'M170',\n",
       " 'M663',\n",
       " 'B356',\n",
       " 'M900',\n",
       " 'R527',\n",
       " 'R218',\n",
       " 'Q946',\n",
       " 'B983',\n",
       " 'R354',\n",
       " 'R197',\n",
       " 'Q556',\n",
       " 'X008',\n",
       " 'M820',\n",
       " 'B829',\n",
       " 'M805',\n",
       " 'R978',\n",
       " 'B089',\n",
       " 'R160',\n",
       " 'R319',\n",
       " 'X106',\n",
       " 'Q021',\n",
       " 'M430',\n",
       " 'Q593',\n",
       " 'X800',\n",
       " 'R853',\n",
       " 'B223',\n",
       " 'B681',\n",
       " 'R181',\n",
       " 'M995',\n",
       " 'M275',\n",
       " 'Q573',\n",
       " 'B552',\n",
       " 'M260',\n",
       " 'X161',\n",
       " 'B780',\n",
       " 'M970',\n",
       " 'Q512',\n",
       " 'R311',\n",
       " 'Q163',\n",
       " 'X018',\n",
       " 'M140',\n",
       " 'X586',\n",
       " 'M959',\n",
       " 'R113',\n",
       " 'Q065',\n",
       " 'M686',\n",
       " 'B193',\n",
       " 'X514',\n",
       " 'X540',\n",
       " 'B129',\n",
       " 'X165',\n",
       " 'X787',\n",
       " 'M418',\n",
       " 'X780',\n",
       " 'M050',\n",
       " 'Q447',\n",
       " 'M505',\n",
       " 'M495',\n",
       " 'Q822',\n",
       " 'X826',\n",
       " 'Q875',\n",
       " 'B962',\n",
       " 'M636',\n",
       " 'X842',\n",
       " 'B029',\n",
       " 'R082',\n",
       " 'R716',\n",
       " 'B802',\n",
       " 'R813',\n",
       " 'B536',\n",
       " 'X160',\n",
       " 'B802',\n",
       " 'M985',\n",
       " 'Q449',\n",
       " 'M960',\n",
       " 'M505',\n",
       " 'Q589',\n",
       " 'Q327',\n",
       " 'B634']"
      ]
     },
     "execution_count": 69,
     "metadata": {},
     "output_type": "execute_result"
    }
   ],
   "source": [
    "nums"
   ]
  },
  {
   "cell_type": "markdown",
   "metadata": {},
   "source": [
    "### Insert Duplicate Records"
   ]
  }
 ],
 "metadata": {
  "kernelspec": {
   "display_name": "Python 3",
   "language": "python",
   "name": "python3"
  },
  "language_info": {
   "codemirror_mode": {
    "name": "ipython",
    "version": 3
   },
   "file_extension": ".py",
   "mimetype": "text/x-python",
   "name": "python",
   "nbconvert_exporter": "python",
   "pygments_lexer": "ipython3",
   "version": "3.7.4"
  }
 },
 "nbformat": 4,
 "nbformat_minor": 2
}
