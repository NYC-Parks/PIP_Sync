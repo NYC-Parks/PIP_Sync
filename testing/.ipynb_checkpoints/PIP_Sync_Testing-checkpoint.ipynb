{
 "cells": [
  {
   "cell_type": "code",
   "execution_count": 1,
   "metadata": {},
   "outputs": [],
   "source": [
    "import sys\n",
    "import pandas as pd\n",
    "import numpy as np\n",
    "import urllib\n",
    "import sqlalchemy"
   ]
  },
  {
   "cell_type": "code",
   "execution_count": 2,
   "metadata": {},
   "outputs": [],
   "source": [
    "#Import shared functions\n",
    "sys.path.append('..\\..')\n",
    "from IPM_Shared_Code_public.Python.utils import get_config"
   ]
  },
  {
   "cell_type": "code",
   "execution_count": 13,
   "metadata": {},
   "outputs": [],
   "source": [
    "config = get_config('c:\\Projects\\config.ini')\n",
    "\n",
    "driver = config['srv']['driver']\n",
    "gis_server = config['srv']['server']\n",
    "pip_server = config['srv']['pip']\n",
    "gis = config['db']['parksgis']\n",
    "pip = config['db']['pip']"
   ]
  },
  {
   "cell_type": "code",
   "execution_count": 14,
   "metadata": {},
   "outputs": [],
   "source": [
    "con_string = 'Driver={' + driver + '};Server=' + pip_server +';Database=' + pip + ';Trusted_Connection=Yes;'\n",
    "params = urllib.parse.quote_plus(con_string)\n",
    "pip_engine = sqlalchemy.create_engine(\"mssql+pyodbc:///?odbc_connect=%s\" % params)"
   ]
  },
  {
   "cell_type": "code",
   "execution_count": 42,
   "metadata": {},
   "outputs": [],
   "source": [
    "con_string = 'Driver={' + driver + '};Server=' + gis_server +';Database=' + gis + ';Trusted_Connection=Yes;'\n",
    "params = urllib.parse.quote_plus(con_string)\n",
    "gis_engine = sqlalchemy.create_engine(\"mssql+pyodbc:///?odbc_connect=%s\" % params)"
   ]
  },
  {
   "cell_type": "markdown",
   "metadata": {},
   "source": [
    "## Original GIS Data"
   ]
  },
  {
   "cell_type": "code",
   "execution_count": 23,
   "metadata": {},
   "outputs": [],
   "source": [
    "#Define the tables that will be queried and interacted with\n",
    "gis_tables = ['property_evw', 'playground_evw', 'zone_evw', 'unmapped_gisallsites_evw', \n",
    "              'schoolyard_to_playground_evw', 'greenstreet_evw', 'golfcourse_evw', \n",
    "              'restrictivedeclarationsite_evw']"
   ]
  },
  {
   "cell_type": "code",
   "execution_count": 24,
   "metadata": {},
   "outputs": [],
   "source": [
    "#Create the list of SQL Queries\n",
    "gis_sql_list = ['select * from parksgis.dpr.'+ t for t in gis_tables]"
   ]
  },
  {
   "cell_type": "code",
   "execution_count": 25,
   "metadata": {},
   "outputs": [],
   "source": [
    "#Create a list of dataframes with the original data\n",
    "gis_df_list = [pd.read_sql(con = gis_engine, sql = q) for q in gis_sql_list]"
   ]
  },
  {
   "cell_type": "markdown",
   "metadata": {},
   "source": [
    "## Original PIP Data"
   ]
  },
  {
   "cell_type": "code",
   "execution_count": 27,
   "metadata": {},
   "outputs": [],
   "source": [
    "#Define the tables that will be queried and interacted with\n",
    "pip_tables = ['tbl_ref_allsites', 'tbl_ref_allsites_nosync', 'tbl_pip_allsites', \n",
    "              'vw_pip_compatible_inspected_sites', 'allsites']"
   ]
  },
  {
   "cell_type": "code",
   "execution_count": 28,
   "metadata": {},
   "outputs": [],
   "source": [
    "#Create the list of SQL Queries\n",
    "pip_sql_list = ['select * from accessnewpip.dbo.'+ t for t in pip_tables]"
   ]
  },
  {
   "cell_type": "code",
   "execution_count": 29,
   "metadata": {},
   "outputs": [],
   "source": [
    "#Create a list of dataframes with the original dat\n",
    "pip_df_list = [pd.read_sql(con = pip_engine, sql = q) for q in pip_sql_list]"
   ]
  },
  {
   "cell_type": "code",
   "execution_count": 30,
   "metadata": {},
   "outputs": [
    {
     "data": {
      "text/html": [
       "<div>\n",
       "<style scoped>\n",
       "    .dataframe tbody tr th:only-of-type {\n",
       "        vertical-align: middle;\n",
       "    }\n",
       "\n",
       "    .dataframe tbody tr th {\n",
       "        vertical-align: top;\n",
       "    }\n",
       "\n",
       "    .dataframe thead th {\n",
       "        text-align: right;\n",
       "    }\n",
       "</style>\n",
       "<table border=\"1\" class=\"dataframe\">\n",
       "  <thead>\n",
       "    <tr style=\"text-align: right;\">\n",
       "      <th></th>\n",
       "      <th>PropNum</th>\n",
       "      <th>Prop ID</th>\n",
       "      <th>Boro</th>\n",
       "      <th>AMPSDistrict</th>\n",
       "      <th>Prop Name</th>\n",
       "      <th>Site Name</th>\n",
       "      <th>Prop Location</th>\n",
       "      <th>Site Location</th>\n",
       "      <th>jurisdiction</th>\n",
       "      <th>typecategory</th>\n",
       "      <th>acres</th>\n",
       "      <th>gisobjid</th>\n",
       "      <th>sourcefc</th>\n",
       "      <th>created_date</th>\n",
       "      <th>row_hash</th>\n",
       "      <th>gis_deleted</th>\n",
       "    </tr>\n",
       "  </thead>\n",
       "  <tbody>\n",
       "    <tr>\n",
       "      <th>0</th>\n",
       "      <td>B001</td>\n",
       "      <td>B001</td>\n",
       "      <td>B</td>\n",
       "      <td>01</td>\n",
       "      <td>American Playground</td>\n",
       "      <td>American Playground</td>\n",
       "      <td>Franklin St. bet. Milton St. and Noble St.</td>\n",
       "      <td>Franklin St. bet. Milton St. and Noble St.</td>\n",
       "      <td>DPR</td>\n",
       "      <td>Playground</td>\n",
       "      <td>0.896</td>\n",
       "      <td>100004272.0</td>\n",
       "      <td>Property</td>\n",
       "      <td>2021-03-12 13:51:03.363</td>\n",
       "      <td>b'\\x9f\\xba\\x91\\xda1\\xd9\\xae\\x1eT\\x91\\xfe\\xd7P[...</td>\n",
       "      <td>False</td>\n",
       "    </tr>\n",
       "    <tr>\n",
       "      <th>1</th>\n",
       "      <td>B002</td>\n",
       "      <td>B002</td>\n",
       "      <td>B</td>\n",
       "      <td>18</td>\n",
       "      <td>Amersfort Park</td>\n",
       "      <td>Amersfort Park</td>\n",
       "      <td>E. 38 St., E. 38 St. bet. Ave. I and Ave. J</td>\n",
       "      <td>E. 38 St., E. 38 St. bet. Ave. I and Ave. J</td>\n",
       "      <td>DPR</td>\n",
       "      <td>Neighborhood Park</td>\n",
       "      <td>3.557</td>\n",
       "      <td>100004500.0</td>\n",
       "      <td>Property</td>\n",
       "      <td>2021-03-12 13:51:03.363</td>\n",
       "      <td>b'\\x8c\\xf0&amp;\\xbe 2{;\\xa9N\\xe06\\r~\\x901L\\xf5\\x1c...</td>\n",
       "      <td>False</td>\n",
       "    </tr>\n",
       "    <tr>\n",
       "      <th>2</th>\n",
       "      <td>B003</td>\n",
       "      <td>B003</td>\n",
       "      <td>B</td>\n",
       "      <td>19</td>\n",
       "      <td>Bartel-Pritchard Square</td>\n",
       "      <td>Bartel-Pritchard Square</td>\n",
       "      <td>Prospect Park W., 15 St.</td>\n",
       "      <td>Prospect Park W., 15 St.</td>\n",
       "      <td>DPR</td>\n",
       "      <td>Triangle/Plaza</td>\n",
       "      <td>1.711</td>\n",
       "      <td>100003839.0</td>\n",
       "      <td>Property</td>\n",
       "      <td>2021-03-12 13:51:03.363</td>\n",
       "      <td>b'\\xb3m\\xd3\\x9f\\xcb\\x01\\xfd\\xd94\\x88\\x0c\\xeap\\...</td>\n",
       "      <td>False</td>\n",
       "    </tr>\n",
       "    <tr>\n",
       "      <th>3</th>\n",
       "      <td>B006</td>\n",
       "      <td>B006</td>\n",
       "      <td>B</td>\n",
       "      <td>03</td>\n",
       "      <td>Beattie Square</td>\n",
       "      <td>Beattie Square</td>\n",
       "      <td>Broadway, Stuyvesant Ave., Vernon Ave.</td>\n",
       "      <td>Broadway, Stuyvesant Ave., Vernon Ave.</td>\n",
       "      <td>DPR</td>\n",
       "      <td>Triangle/Plaza</td>\n",
       "      <td>0.012</td>\n",
       "      <td>100003773.0</td>\n",
       "      <td>Property</td>\n",
       "      <td>2021-03-12 13:51:03.363</td>\n",
       "      <td>b'o\\x98\\x94\\xf2\\xfdH\\xd36j\\t/|\\x0e\\\\?,\\xb3\\x87...</td>\n",
       "      <td>False</td>\n",
       "    </tr>\n",
       "    <tr>\n",
       "      <th>4</th>\n",
       "      <td>B007</td>\n",
       "      <td>B007</td>\n",
       "      <td>B</td>\n",
       "      <td>11</td>\n",
       "      <td>Bensonhurst Park</td>\n",
       "      <td>Bensonhurst Park</td>\n",
       "      <td>Cropsey Ave. bet. 21 Ave. and Bay Pkwy.</td>\n",
       "      <td>Cropsey Ave. bet. 21 Ave. and Bay Pkwy.</td>\n",
       "      <td>DPR</td>\n",
       "      <td>Recreation Field/Courts</td>\n",
       "      <td>17.500</td>\n",
       "      <td>100004816.0</td>\n",
       "      <td>Property</td>\n",
       "      <td>2021-03-12 13:51:03.363</td>\n",
       "      <td>b'\\x06\\xc6YC3\\xa8\\xa6f\\x088\\xaf(u\\x87F\\x9a\\xe2...</td>\n",
       "      <td>False</td>\n",
       "    </tr>\n",
       "    <tr>\n",
       "      <th>...</th>\n",
       "      <td>...</td>\n",
       "      <td>...</td>\n",
       "      <td>...</td>\n",
       "      <td>...</td>\n",
       "      <td>...</td>\n",
       "      <td>...</td>\n",
       "      <td>...</td>\n",
       "      <td>...</td>\n",
       "      <td>...</td>\n",
       "      <td>...</td>\n",
       "      <td>...</td>\n",
       "      <td>...</td>\n",
       "      <td>...</td>\n",
       "      <td>...</td>\n",
       "      <td>...</td>\n",
       "      <td>...</td>\n",
       "    </tr>\n",
       "    <tr>\n",
       "      <th>6376</th>\n",
       "      <td>XZ94</td>\n",
       "      <td>XZ94</td>\n",
       "      <td>X</td>\n",
       "      <td>04</td>\n",
       "      <td>GREENSTREET</td>\n",
       "      <td>GREENSTREET</td>\n",
       "      <td>East 153rd St. Bet. Concourse Village We</td>\n",
       "      <td>East 153rd St. Bet. Concourse Village We</td>\n",
       "      <td>DOT</td>\n",
       "      <td>None</td>\n",
       "      <td>0.034</td>\n",
       "      <td>100006143.0</td>\n",
       "      <td>Greenstreet</td>\n",
       "      <td>2021-03-12 13:51:03.363</td>\n",
       "      <td>b'\\x89\\xc7\\xc1\\x03\\x15r\\xa2\\xd9\\xa7B\\xb4\\x10\\x...</td>\n",
       "      <td>False</td>\n",
       "    </tr>\n",
       "    <tr>\n",
       "      <th>6377</th>\n",
       "      <td>XZ95</td>\n",
       "      <td>XZ95</td>\n",
       "      <td>X</td>\n",
       "      <td>04</td>\n",
       "      <td>GREENSTREET</td>\n",
       "      <td>GREENSTREET</td>\n",
       "      <td>Grand Concourse And Tudor Pl.</td>\n",
       "      <td>Grand Concourse And Tudor Pl.</td>\n",
       "      <td>DOT</td>\n",
       "      <td>None</td>\n",
       "      <td>0.002</td>\n",
       "      <td>100007214.0</td>\n",
       "      <td>Greenstreet</td>\n",
       "      <td>2021-03-12 13:51:03.363</td>\n",
       "      <td>b'&lt;\\x9a\\xec\\xf1\\xba\\x02\\x8a\\x92G\\xdck\\x930\\xb2...</td>\n",
       "      <td>False</td>\n",
       "    </tr>\n",
       "    <tr>\n",
       "      <th>6378</th>\n",
       "      <td>XZ96</td>\n",
       "      <td>XZ96</td>\n",
       "      <td>X</td>\n",
       "      <td>04</td>\n",
       "      <td>GREENSTREET</td>\n",
       "      <td>GREENSTREET</td>\n",
       "      <td>Tudor Pl. And Grand Concourse</td>\n",
       "      <td>Tudor Pl. And Grand Concourse</td>\n",
       "      <td>DOT</td>\n",
       "      <td>None</td>\n",
       "      <td>0.002</td>\n",
       "      <td>100007213.0</td>\n",
       "      <td>Greenstreet</td>\n",
       "      <td>2021-03-12 13:51:03.363</td>\n",
       "      <td>b'\\xc34m\\xde\\x8e\\xab\\xd2\\xc7M\\x1f\\x93\\xaf\\xf3\\...</td>\n",
       "      <td>False</td>\n",
       "    </tr>\n",
       "    <tr>\n",
       "      <th>6379</th>\n",
       "      <td>XZ97</td>\n",
       "      <td>XZ97</td>\n",
       "      <td>X</td>\n",
       "      <td>04</td>\n",
       "      <td>GREENSTREET</td>\n",
       "      <td>GREENSTREET</td>\n",
       "      <td>Mc Clellan St. And Grand Concourse</td>\n",
       "      <td>Mc Clellan St. And Grand Concourse</td>\n",
       "      <td>DOT</td>\n",
       "      <td>None</td>\n",
       "      <td>0.002</td>\n",
       "      <td>100006301.0</td>\n",
       "      <td>Greenstreet</td>\n",
       "      <td>2021-03-12 13:51:03.363</td>\n",
       "      <td>b'Rl\\xda\\x8a&lt;H\\xfa\\x1bH\\xefk\\xc8\\xe5\\xfa\\xec\\x...</td>\n",
       "      <td>False</td>\n",
       "    </tr>\n",
       "    <tr>\n",
       "      <th>6380</th>\n",
       "      <td>XZ99</td>\n",
       "      <td>XZ99</td>\n",
       "      <td>X</td>\n",
       "      <td>03</td>\n",
       "      <td>GREENSTREET</td>\n",
       "      <td>GREENSTREET</td>\n",
       "      <td>Brook And 165th Street</td>\n",
       "      <td>Brook And 165th Street</td>\n",
       "      <td>DOT</td>\n",
       "      <td>None</td>\n",
       "      <td>0.072</td>\n",
       "      <td>100006912.0</td>\n",
       "      <td>Greenstreet</td>\n",
       "      <td>2021-03-12 13:51:03.363</td>\n",
       "      <td>b'z\\x10\\x12&gt;\\xeb#%x\\xf2\\xd5\\x83\\x87y\\xa3s\\xee\\...</td>\n",
       "      <td>False</td>\n",
       "    </tr>\n",
       "  </tbody>\n",
       "</table>\n",
       "<p>6381 rows × 16 columns</p>\n",
       "</div>"
      ],
      "text/plain": [
       "     PropNum Prop ID Boro AMPSDistrict                Prop Name  \\\n",
       "0       B001    B001    B           01      American Playground   \n",
       "1       B002    B002    B           18           Amersfort Park   \n",
       "2       B003    B003    B           19  Bartel-Pritchard Square   \n",
       "3       B006    B006    B           03           Beattie Square   \n",
       "4       B007    B007    B           11         Bensonhurst Park   \n",
       "...      ...     ...  ...          ...                      ...   \n",
       "6376    XZ94    XZ94    X           04              GREENSTREET   \n",
       "6377    XZ95    XZ95    X           04              GREENSTREET   \n",
       "6378    XZ96    XZ96    X           04              GREENSTREET   \n",
       "6379    XZ97    XZ97    X           04              GREENSTREET   \n",
       "6380    XZ99    XZ99    X           03              GREENSTREET   \n",
       "\n",
       "                    Site Name                                Prop Location  \\\n",
       "0         American Playground   Franklin St. bet. Milton St. and Noble St.   \n",
       "1              Amersfort Park  E. 38 St., E. 38 St. bet. Ave. I and Ave. J   \n",
       "2     Bartel-Pritchard Square                     Prospect Park W., 15 St.   \n",
       "3              Beattie Square       Broadway, Stuyvesant Ave., Vernon Ave.   \n",
       "4            Bensonhurst Park      Cropsey Ave. bet. 21 Ave. and Bay Pkwy.   \n",
       "...                       ...                                          ...   \n",
       "6376              GREENSTREET     East 153rd St. Bet. Concourse Village We   \n",
       "6377              GREENSTREET                Grand Concourse And Tudor Pl.   \n",
       "6378              GREENSTREET                Tudor Pl. And Grand Concourse   \n",
       "6379              GREENSTREET           Mc Clellan St. And Grand Concourse   \n",
       "6380              GREENSTREET                       Brook And 165th Street   \n",
       "\n",
       "                                    Site Location jurisdiction  \\\n",
       "0      Franklin St. bet. Milton St. and Noble St.          DPR   \n",
       "1     E. 38 St., E. 38 St. bet. Ave. I and Ave. J          DPR   \n",
       "2                        Prospect Park W., 15 St.          DPR   \n",
       "3          Broadway, Stuyvesant Ave., Vernon Ave.          DPR   \n",
       "4         Cropsey Ave. bet. 21 Ave. and Bay Pkwy.          DPR   \n",
       "...                                           ...          ...   \n",
       "6376     East 153rd St. Bet. Concourse Village We          DOT   \n",
       "6377                Grand Concourse And Tudor Pl.          DOT   \n",
       "6378                Tudor Pl. And Grand Concourse          DOT   \n",
       "6379           Mc Clellan St. And Grand Concourse          DOT   \n",
       "6380                       Brook And 165th Street          DOT   \n",
       "\n",
       "                 typecategory   acres     gisobjid     sourcefc  \\\n",
       "0                  Playground   0.896  100004272.0     Property   \n",
       "1           Neighborhood Park   3.557  100004500.0     Property   \n",
       "2              Triangle/Plaza   1.711  100003839.0     Property   \n",
       "3              Triangle/Plaza   0.012  100003773.0     Property   \n",
       "4     Recreation Field/Courts  17.500  100004816.0     Property   \n",
       "...                       ...     ...          ...          ...   \n",
       "6376                     None   0.034  100006143.0  Greenstreet   \n",
       "6377                     None   0.002  100007214.0  Greenstreet   \n",
       "6378                     None   0.002  100007213.0  Greenstreet   \n",
       "6379                     None   0.002  100006301.0  Greenstreet   \n",
       "6380                     None   0.072  100006912.0  Greenstreet   \n",
       "\n",
       "                created_date  \\\n",
       "0    2021-03-12 13:51:03.363   \n",
       "1    2021-03-12 13:51:03.363   \n",
       "2    2021-03-12 13:51:03.363   \n",
       "3    2021-03-12 13:51:03.363   \n",
       "4    2021-03-12 13:51:03.363   \n",
       "...                      ...   \n",
       "6376 2021-03-12 13:51:03.363   \n",
       "6377 2021-03-12 13:51:03.363   \n",
       "6378 2021-03-12 13:51:03.363   \n",
       "6379 2021-03-12 13:51:03.363   \n",
       "6380 2021-03-12 13:51:03.363   \n",
       "\n",
       "                                               row_hash  gis_deleted  \n",
       "0     b'\\x9f\\xba\\x91\\xda1\\xd9\\xae\\x1eT\\x91\\xfe\\xd7P[...        False  \n",
       "1     b'\\x8c\\xf0&\\xbe 2{;\\xa9N\\xe06\\r~\\x901L\\xf5\\x1c...        False  \n",
       "2     b'\\xb3m\\xd3\\x9f\\xcb\\x01\\xfd\\xd94\\x88\\x0c\\xeap\\...        False  \n",
       "3     b'o\\x98\\x94\\xf2\\xfdH\\xd36j\\t/|\\x0e\\\\?,\\xb3\\x87...        False  \n",
       "4     b'\\x06\\xc6YC3\\xa8\\xa6f\\x088\\xaf(u\\x87F\\x9a\\xe2...        False  \n",
       "...                                                 ...          ...  \n",
       "6376  b'\\x89\\xc7\\xc1\\x03\\x15r\\xa2\\xd9\\xa7B\\xb4\\x10\\x...        False  \n",
       "6377  b'<\\x9a\\xec\\xf1\\xba\\x02\\x8a\\x92G\\xdck\\x930\\xb2...        False  \n",
       "6378  b'\\xc34m\\xde\\x8e\\xab\\xd2\\xc7M\\x1f\\x93\\xaf\\xf3\\...        False  \n",
       "6379  b'Rl\\xda\\x8a<H\\xfa\\x1bH\\xefk\\xc8\\xe5\\xfa\\xec\\x...        False  \n",
       "6380  b'z\\x10\\x12>\\xeb#%x\\xf2\\xd5\\x83\\x87y\\xa3s\\xee\\...        False  \n",
       "\n",
       "[6381 rows x 16 columns]"
      ]
     },
     "execution_count": 30,
     "metadata": {},
     "output_type": "execute_result"
    }
   ],
   "source": [
    "pip_df_list[0]"
   ]
  },
  {
   "cell_type": "markdown",
   "metadata": {},
   "source": [
    "## Perform DML Steps"
   ]
  },
  {
   "cell_type": "code",
   "execution_count": 71,
   "metadata": {},
   "outputs": [],
   "source": [
    "#Define the common where clause\n",
    "where = str(r\"where objectid like '%3%'\")"
   ]
  },
  {
   "cell_type": "code",
   "execution_count": 72,
   "metadata": {},
   "outputs": [
    {
     "data": {
      "text/plain": [
       "\"where objectid like '%3%'\""
      ]
     },
     "execution_count": 72,
     "metadata": {},
     "output_type": "execute_result"
    }
   ],
   "source": [
    "where"
   ]
  },
  {
   "cell_type": "code",
   "execution_count": 77,
   "metadata": {},
   "outputs": [],
   "source": [
    "#Loop through the GIS datasets, drop the _evw and perform the deletes\n",
    "sql = ['delete from parksgis.dpr.{} {}'.format(g.replace('_evw', ''), where) for g in gis_tables]"
   ]
  },
  {
   "cell_type": "code",
   "execution_count": 78,
   "metadata": {},
   "outputs": [],
   "source": [
    "gis_con = gis_engine.connect()"
   ]
  },
  {
   "cell_type": "code",
   "execution_count": 79,
   "metadata": {},
   "outputs": [
    {
     "data": {
      "text/plain": [
       "[\"delete from parksgis.dpr.property where objectid like '%3%'\",\n",
       " \"delete from parksgis.dpr.playground where objectid like '%3%'\",\n",
       " \"delete from parksgis.dpr.zone where objectid like '%3%'\",\n",
       " \"delete from parksgis.dpr.unmapped_gisallsites where objectid like '%3%'\",\n",
       " \"delete from parksgis.dpr.schoolyard_to_playground where objectid like '%3%'\",\n",
       " \"delete from parksgis.dpr.greenstreet where objectid like '%3%'\",\n",
       " \"delete from parksgis.dpr.golfcourse where objectid like '%3%'\",\n",
       " \"delete from parksgis.dpr.restrictivedeclarationsite where objectid like '%3%'\"]"
      ]
     },
     "execution_count": 79,
     "metadata": {},
     "output_type": "execute_result"
    }
   ],
   "source": [
    "sql"
   ]
  },
  {
   "cell_type": "code",
   "execution_count": 76,
   "metadata": {},
   "outputs": [
    {
     "ename": "ProgrammingError",
     "evalue": "(pyodbc.ProgrammingError) ('42S02', \"[42S02] [Microsoft][ODBC SQL Server Driver][SQL Server]Invalid object name 'property'. (208) (SQLExecDirectW)\")\n[SQL: delete from property where objectid like '%3%']\n(Background on this error at: http://sqlalche.me/e/f405)",
     "output_type": "error",
     "traceback": [
      "\u001b[1;31m---------------------------------------------------------------------------\u001b[0m",
      "\u001b[1;31mProgrammingError\u001b[0m                          Traceback (most recent call last)",
      "\u001b[1;32mC:\\ProgramData\\Anaconda3\\lib\\site-packages\\sqlalchemy\\engine\\base.py\u001b[0m in \u001b[0;36m_execute_context\u001b[1;34m(self, dialect, constructor, statement, parameters, *args)\u001b[0m\n\u001b[0;32m   1248\u001b[0m                     self.dialect.do_execute(\n\u001b[1;32m-> 1249\u001b[1;33m                         \u001b[0mcursor\u001b[0m\u001b[1;33m,\u001b[0m \u001b[0mstatement\u001b[0m\u001b[1;33m,\u001b[0m \u001b[0mparameters\u001b[0m\u001b[1;33m,\u001b[0m \u001b[0mcontext\u001b[0m\u001b[1;33m\u001b[0m\u001b[1;33m\u001b[0m\u001b[0m\n\u001b[0m\u001b[0;32m   1250\u001b[0m                     )\n",
      "\u001b[1;32mC:\\ProgramData\\Anaconda3\\lib\\site-packages\\sqlalchemy\\engine\\default.py\u001b[0m in \u001b[0;36mdo_execute\u001b[1;34m(self, cursor, statement, parameters, context)\u001b[0m\n\u001b[0;32m    579\u001b[0m     \u001b[1;32mdef\u001b[0m \u001b[0mdo_execute\u001b[0m\u001b[1;33m(\u001b[0m\u001b[0mself\u001b[0m\u001b[1;33m,\u001b[0m \u001b[0mcursor\u001b[0m\u001b[1;33m,\u001b[0m \u001b[0mstatement\u001b[0m\u001b[1;33m,\u001b[0m \u001b[0mparameters\u001b[0m\u001b[1;33m,\u001b[0m \u001b[0mcontext\u001b[0m\u001b[1;33m=\u001b[0m\u001b[1;32mNone\u001b[0m\u001b[1;33m)\u001b[0m\u001b[1;33m:\u001b[0m\u001b[1;33m\u001b[0m\u001b[1;33m\u001b[0m\u001b[0m\n\u001b[1;32m--> 580\u001b[1;33m         \u001b[0mcursor\u001b[0m\u001b[1;33m.\u001b[0m\u001b[0mexecute\u001b[0m\u001b[1;33m(\u001b[0m\u001b[0mstatement\u001b[0m\u001b[1;33m,\u001b[0m \u001b[0mparameters\u001b[0m\u001b[1;33m)\u001b[0m\u001b[1;33m\u001b[0m\u001b[1;33m\u001b[0m\u001b[0m\n\u001b[0m\u001b[0;32m    581\u001b[0m \u001b[1;33m\u001b[0m\u001b[0m\n",
      "\u001b[1;31mProgrammingError\u001b[0m: ('42S02', \"[42S02] [Microsoft][ODBC SQL Server Driver][SQL Server]Invalid object name 'property'. (208) (SQLExecDirectW)\")",
      "\nThe above exception was the direct cause of the following exception:\n",
      "\u001b[1;31mProgrammingError\u001b[0m                          Traceback (most recent call last)",
      "\u001b[1;32m<ipython-input-76-80051d8c2505>\u001b[0m in \u001b[0;36m<module>\u001b[1;34m\u001b[0m\n\u001b[0;32m      1\u001b[0m \u001b[1;32mfor\u001b[0m \u001b[0mq\u001b[0m \u001b[1;32min\u001b[0m \u001b[0msql\u001b[0m\u001b[1;33m:\u001b[0m\u001b[1;33m\u001b[0m\u001b[1;33m\u001b[0m\u001b[0m\n\u001b[1;32m----> 2\u001b[1;33m     \u001b[0mgis_con\u001b[0m\u001b[1;33m.\u001b[0m\u001b[0mexecute\u001b[0m\u001b[1;33m(\u001b[0m\u001b[0mq\u001b[0m\u001b[1;33m)\u001b[0m\u001b[1;33m\u001b[0m\u001b[1;33m\u001b[0m\u001b[0m\n\u001b[0m",
      "\u001b[1;32mC:\\ProgramData\\Anaconda3\\lib\\site-packages\\sqlalchemy\\engine\\base.py\u001b[0m in \u001b[0;36mexecute\u001b[1;34m(self, object_, *multiparams, **params)\u001b[0m\n\u001b[0;32m    980\u001b[0m         \"\"\"\n\u001b[0;32m    981\u001b[0m         \u001b[1;32mif\u001b[0m \u001b[0misinstance\u001b[0m\u001b[1;33m(\u001b[0m\u001b[0mobject_\u001b[0m\u001b[1;33m,\u001b[0m \u001b[0mutil\u001b[0m\u001b[1;33m.\u001b[0m\u001b[0mstring_types\u001b[0m\u001b[1;33m[\u001b[0m\u001b[1;36m0\u001b[0m\u001b[1;33m]\u001b[0m\u001b[1;33m)\u001b[0m\u001b[1;33m:\u001b[0m\u001b[1;33m\u001b[0m\u001b[1;33m\u001b[0m\u001b[0m\n\u001b[1;32m--> 982\u001b[1;33m             \u001b[1;32mreturn\u001b[0m \u001b[0mself\u001b[0m\u001b[1;33m.\u001b[0m\u001b[0m_execute_text\u001b[0m\u001b[1;33m(\u001b[0m\u001b[0mobject_\u001b[0m\u001b[1;33m,\u001b[0m \u001b[0mmultiparams\u001b[0m\u001b[1;33m,\u001b[0m \u001b[0mparams\u001b[0m\u001b[1;33m)\u001b[0m\u001b[1;33m\u001b[0m\u001b[1;33m\u001b[0m\u001b[0m\n\u001b[0m\u001b[0;32m    983\u001b[0m         \u001b[1;32mtry\u001b[0m\u001b[1;33m:\u001b[0m\u001b[1;33m\u001b[0m\u001b[1;33m\u001b[0m\u001b[0m\n\u001b[0;32m    984\u001b[0m             \u001b[0mmeth\u001b[0m \u001b[1;33m=\u001b[0m \u001b[0mobject_\u001b[0m\u001b[1;33m.\u001b[0m\u001b[0m_execute_on_connection\u001b[0m\u001b[1;33m\u001b[0m\u001b[1;33m\u001b[0m\u001b[0m\n",
      "\u001b[1;32mC:\\ProgramData\\Anaconda3\\lib\\site-packages\\sqlalchemy\\engine\\base.py\u001b[0m in \u001b[0;36m_execute_text\u001b[1;34m(self, statement, multiparams, params)\u001b[0m\n\u001b[0;32m   1153\u001b[0m             \u001b[0mparameters\u001b[0m\u001b[1;33m,\u001b[0m\u001b[1;33m\u001b[0m\u001b[1;33m\u001b[0m\u001b[0m\n\u001b[0;32m   1154\u001b[0m             \u001b[0mstatement\u001b[0m\u001b[1;33m,\u001b[0m\u001b[1;33m\u001b[0m\u001b[1;33m\u001b[0m\u001b[0m\n\u001b[1;32m-> 1155\u001b[1;33m             \u001b[0mparameters\u001b[0m\u001b[1;33m,\u001b[0m\u001b[1;33m\u001b[0m\u001b[1;33m\u001b[0m\u001b[0m\n\u001b[0m\u001b[0;32m   1156\u001b[0m         )\n\u001b[0;32m   1157\u001b[0m         \u001b[1;32mif\u001b[0m \u001b[0mself\u001b[0m\u001b[1;33m.\u001b[0m\u001b[0m_has_events\u001b[0m \u001b[1;32mor\u001b[0m \u001b[0mself\u001b[0m\u001b[1;33m.\u001b[0m\u001b[0mengine\u001b[0m\u001b[1;33m.\u001b[0m\u001b[0m_has_events\u001b[0m\u001b[1;33m:\u001b[0m\u001b[1;33m\u001b[0m\u001b[1;33m\u001b[0m\u001b[0m\n",
      "\u001b[1;32mC:\\ProgramData\\Anaconda3\\lib\\site-packages\\sqlalchemy\\engine\\base.py\u001b[0m in \u001b[0;36m_execute_context\u001b[1;34m(self, dialect, constructor, statement, parameters, *args)\u001b[0m\n\u001b[0;32m   1251\u001b[0m         \u001b[1;32mexcept\u001b[0m \u001b[0mBaseException\u001b[0m \u001b[1;32mas\u001b[0m \u001b[0me\u001b[0m\u001b[1;33m:\u001b[0m\u001b[1;33m\u001b[0m\u001b[1;33m\u001b[0m\u001b[0m\n\u001b[0;32m   1252\u001b[0m             self._handle_dbapi_exception(\n\u001b[1;32m-> 1253\u001b[1;33m                 \u001b[0me\u001b[0m\u001b[1;33m,\u001b[0m \u001b[0mstatement\u001b[0m\u001b[1;33m,\u001b[0m \u001b[0mparameters\u001b[0m\u001b[1;33m,\u001b[0m \u001b[0mcursor\u001b[0m\u001b[1;33m,\u001b[0m \u001b[0mcontext\u001b[0m\u001b[1;33m\u001b[0m\u001b[1;33m\u001b[0m\u001b[0m\n\u001b[0m\u001b[0;32m   1254\u001b[0m             )\n\u001b[0;32m   1255\u001b[0m \u001b[1;33m\u001b[0m\u001b[0m\n",
      "\u001b[1;32mC:\\ProgramData\\Anaconda3\\lib\\site-packages\\sqlalchemy\\engine\\base.py\u001b[0m in \u001b[0;36m_handle_dbapi_exception\u001b[1;34m(self, e, statement, parameters, cursor, context)\u001b[0m\n\u001b[0;32m   1471\u001b[0m                 \u001b[0mutil\u001b[0m\u001b[1;33m.\u001b[0m\u001b[0mraise_from_cause\u001b[0m\u001b[1;33m(\u001b[0m\u001b[0mnewraise\u001b[0m\u001b[1;33m,\u001b[0m \u001b[0mexc_info\u001b[0m\u001b[1;33m)\u001b[0m\u001b[1;33m\u001b[0m\u001b[1;33m\u001b[0m\u001b[0m\n\u001b[0;32m   1472\u001b[0m             \u001b[1;32melif\u001b[0m \u001b[0mshould_wrap\u001b[0m\u001b[1;33m:\u001b[0m\u001b[1;33m\u001b[0m\u001b[1;33m\u001b[0m\u001b[0m\n\u001b[1;32m-> 1473\u001b[1;33m                 \u001b[0mutil\u001b[0m\u001b[1;33m.\u001b[0m\u001b[0mraise_from_cause\u001b[0m\u001b[1;33m(\u001b[0m\u001b[0msqlalchemy_exception\u001b[0m\u001b[1;33m,\u001b[0m \u001b[0mexc_info\u001b[0m\u001b[1;33m)\u001b[0m\u001b[1;33m\u001b[0m\u001b[1;33m\u001b[0m\u001b[0m\n\u001b[0m\u001b[0;32m   1474\u001b[0m             \u001b[1;32melse\u001b[0m\u001b[1;33m:\u001b[0m\u001b[1;33m\u001b[0m\u001b[1;33m\u001b[0m\u001b[0m\n\u001b[0;32m   1475\u001b[0m                 \u001b[0mutil\u001b[0m\u001b[1;33m.\u001b[0m\u001b[0mreraise\u001b[0m\u001b[1;33m(\u001b[0m\u001b[1;33m*\u001b[0m\u001b[0mexc_info\u001b[0m\u001b[1;33m)\u001b[0m\u001b[1;33m\u001b[0m\u001b[1;33m\u001b[0m\u001b[0m\n",
      "\u001b[1;32mC:\\ProgramData\\Anaconda3\\lib\\site-packages\\sqlalchemy\\util\\compat.py\u001b[0m in \u001b[0;36mraise_from_cause\u001b[1;34m(exception, exc_info)\u001b[0m\n\u001b[0;32m    396\u001b[0m     \u001b[0mexc_type\u001b[0m\u001b[1;33m,\u001b[0m \u001b[0mexc_value\u001b[0m\u001b[1;33m,\u001b[0m \u001b[0mexc_tb\u001b[0m \u001b[1;33m=\u001b[0m \u001b[0mexc_info\u001b[0m\u001b[1;33m\u001b[0m\u001b[1;33m\u001b[0m\u001b[0m\n\u001b[0;32m    397\u001b[0m     \u001b[0mcause\u001b[0m \u001b[1;33m=\u001b[0m \u001b[0mexc_value\u001b[0m \u001b[1;32mif\u001b[0m \u001b[0mexc_value\u001b[0m \u001b[1;32mis\u001b[0m \u001b[1;32mnot\u001b[0m \u001b[0mexception\u001b[0m \u001b[1;32melse\u001b[0m \u001b[1;32mNone\u001b[0m\u001b[1;33m\u001b[0m\u001b[1;33m\u001b[0m\u001b[0m\n\u001b[1;32m--> 398\u001b[1;33m     \u001b[0mreraise\u001b[0m\u001b[1;33m(\u001b[0m\u001b[0mtype\u001b[0m\u001b[1;33m(\u001b[0m\u001b[0mexception\u001b[0m\u001b[1;33m)\u001b[0m\u001b[1;33m,\u001b[0m \u001b[0mexception\u001b[0m\u001b[1;33m,\u001b[0m \u001b[0mtb\u001b[0m\u001b[1;33m=\u001b[0m\u001b[0mexc_tb\u001b[0m\u001b[1;33m,\u001b[0m \u001b[0mcause\u001b[0m\u001b[1;33m=\u001b[0m\u001b[0mcause\u001b[0m\u001b[1;33m)\u001b[0m\u001b[1;33m\u001b[0m\u001b[1;33m\u001b[0m\u001b[0m\n\u001b[0m\u001b[0;32m    399\u001b[0m \u001b[1;33m\u001b[0m\u001b[0m\n\u001b[0;32m    400\u001b[0m \u001b[1;33m\u001b[0m\u001b[0m\n",
      "\u001b[1;32mC:\\ProgramData\\Anaconda3\\lib\\site-packages\\sqlalchemy\\util\\compat.py\u001b[0m in \u001b[0;36mreraise\u001b[1;34m(tp, value, tb, cause)\u001b[0m\n\u001b[0;32m    150\u001b[0m             \u001b[0mvalue\u001b[0m\u001b[1;33m.\u001b[0m\u001b[0m__cause__\u001b[0m \u001b[1;33m=\u001b[0m \u001b[0mcause\u001b[0m\u001b[1;33m\u001b[0m\u001b[1;33m\u001b[0m\u001b[0m\n\u001b[0;32m    151\u001b[0m         \u001b[1;32mif\u001b[0m \u001b[0mvalue\u001b[0m\u001b[1;33m.\u001b[0m\u001b[0m__traceback__\u001b[0m \u001b[1;32mis\u001b[0m \u001b[1;32mnot\u001b[0m \u001b[0mtb\u001b[0m\u001b[1;33m:\u001b[0m\u001b[1;33m\u001b[0m\u001b[1;33m\u001b[0m\u001b[0m\n\u001b[1;32m--> 152\u001b[1;33m             \u001b[1;32mraise\u001b[0m \u001b[0mvalue\u001b[0m\u001b[1;33m.\u001b[0m\u001b[0mwith_traceback\u001b[0m\u001b[1;33m(\u001b[0m\u001b[0mtb\u001b[0m\u001b[1;33m)\u001b[0m\u001b[1;33m\u001b[0m\u001b[1;33m\u001b[0m\u001b[0m\n\u001b[0m\u001b[0;32m    153\u001b[0m         \u001b[1;32mraise\u001b[0m \u001b[0mvalue\u001b[0m\u001b[1;33m\u001b[0m\u001b[1;33m\u001b[0m\u001b[0m\n\u001b[0;32m    154\u001b[0m \u001b[1;33m\u001b[0m\u001b[0m\n",
      "\u001b[1;32mC:\\ProgramData\\Anaconda3\\lib\\site-packages\\sqlalchemy\\engine\\base.py\u001b[0m in \u001b[0;36m_execute_context\u001b[1;34m(self, dialect, constructor, statement, parameters, *args)\u001b[0m\n\u001b[0;32m   1247\u001b[0m                 \u001b[1;32mif\u001b[0m \u001b[1;32mnot\u001b[0m \u001b[0mevt_handled\u001b[0m\u001b[1;33m:\u001b[0m\u001b[1;33m\u001b[0m\u001b[1;33m\u001b[0m\u001b[0m\n\u001b[0;32m   1248\u001b[0m                     self.dialect.do_execute(\n\u001b[1;32m-> 1249\u001b[1;33m                         \u001b[0mcursor\u001b[0m\u001b[1;33m,\u001b[0m \u001b[0mstatement\u001b[0m\u001b[1;33m,\u001b[0m \u001b[0mparameters\u001b[0m\u001b[1;33m,\u001b[0m \u001b[0mcontext\u001b[0m\u001b[1;33m\u001b[0m\u001b[1;33m\u001b[0m\u001b[0m\n\u001b[0m\u001b[0;32m   1250\u001b[0m                     )\n\u001b[0;32m   1251\u001b[0m         \u001b[1;32mexcept\u001b[0m \u001b[0mBaseException\u001b[0m \u001b[1;32mas\u001b[0m \u001b[0me\u001b[0m\u001b[1;33m:\u001b[0m\u001b[1;33m\u001b[0m\u001b[1;33m\u001b[0m\u001b[0m\n",
      "\u001b[1;32mC:\\ProgramData\\Anaconda3\\lib\\site-packages\\sqlalchemy\\engine\\default.py\u001b[0m in \u001b[0;36mdo_execute\u001b[1;34m(self, cursor, statement, parameters, context)\u001b[0m\n\u001b[0;32m    578\u001b[0m \u001b[1;33m\u001b[0m\u001b[0m\n\u001b[0;32m    579\u001b[0m     \u001b[1;32mdef\u001b[0m \u001b[0mdo_execute\u001b[0m\u001b[1;33m(\u001b[0m\u001b[0mself\u001b[0m\u001b[1;33m,\u001b[0m \u001b[0mcursor\u001b[0m\u001b[1;33m,\u001b[0m \u001b[0mstatement\u001b[0m\u001b[1;33m,\u001b[0m \u001b[0mparameters\u001b[0m\u001b[1;33m,\u001b[0m \u001b[0mcontext\u001b[0m\u001b[1;33m=\u001b[0m\u001b[1;32mNone\u001b[0m\u001b[1;33m)\u001b[0m\u001b[1;33m:\u001b[0m\u001b[1;33m\u001b[0m\u001b[1;33m\u001b[0m\u001b[0m\n\u001b[1;32m--> 580\u001b[1;33m         \u001b[0mcursor\u001b[0m\u001b[1;33m.\u001b[0m\u001b[0mexecute\u001b[0m\u001b[1;33m(\u001b[0m\u001b[0mstatement\u001b[0m\u001b[1;33m,\u001b[0m \u001b[0mparameters\u001b[0m\u001b[1;33m)\u001b[0m\u001b[1;33m\u001b[0m\u001b[1;33m\u001b[0m\u001b[0m\n\u001b[0m\u001b[0;32m    581\u001b[0m \u001b[1;33m\u001b[0m\u001b[0m\n\u001b[0;32m    582\u001b[0m     \u001b[1;32mdef\u001b[0m \u001b[0mdo_execute_no_params\u001b[0m\u001b[1;33m(\u001b[0m\u001b[0mself\u001b[0m\u001b[1;33m,\u001b[0m \u001b[0mcursor\u001b[0m\u001b[1;33m,\u001b[0m \u001b[0mstatement\u001b[0m\u001b[1;33m,\u001b[0m \u001b[0mcontext\u001b[0m\u001b[1;33m=\u001b[0m\u001b[1;32mNone\u001b[0m\u001b[1;33m)\u001b[0m\u001b[1;33m:\u001b[0m\u001b[1;33m\u001b[0m\u001b[1;33m\u001b[0m\u001b[0m\n",
      "\u001b[1;31mProgrammingError\u001b[0m: (pyodbc.ProgrammingError) ('42S02', \"[42S02] [Microsoft][ODBC SQL Server Driver][SQL Server]Invalid object name 'property'. (208) (SQLExecDirectW)\")\n[SQL: delete from property where objectid like '%3%']\n(Background on this error at: http://sqlalche.me/e/f405)"
     ]
    }
   ],
   "source": [
    "for q in sql:\n",
    "    gis_con.execute(q)"
   ]
  }
 ],
 "metadata": {
  "kernelspec": {
   "display_name": "Python 3",
   "language": "python",
   "name": "python3"
  },
  "language_info": {
   "codemirror_mode": {
    "name": "ipython",
    "version": 3
   },
   "file_extension": ".py",
   "mimetype": "text/x-python",
   "name": "python",
   "nbconvert_exporter": "python",
   "pygments_lexer": "ipython3",
   "version": "3.7.4"
  }
 },
 "nbformat": 4,
 "nbformat_minor": 2
}
