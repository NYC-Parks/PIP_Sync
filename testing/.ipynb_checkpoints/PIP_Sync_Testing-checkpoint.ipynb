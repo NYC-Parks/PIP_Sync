{
 "cells": [
  {
   "cell_type": "code",
   "execution_count": 4,
   "metadata": {},
   "outputs": [],
   "source": [
    "import sys\n",
    "import pandas as pd\n",
    "import numpy as np\n",
    "import urllib\n",
    "import sqlalchemy\n",
    "import random\n",
    "import string\n",
    "import uuid\n",
    "from datetime import date"
   ]
  },
  {
   "cell_type": "code",
   "execution_count": 5,
   "metadata": {},
   "outputs": [],
   "source": [
    "#Import shared functions\n",
    "sys.path.append('..\\..')\n",
    "from IPM_Shared_Code_public.Python.utils import get_config"
   ]
  },
  {
   "cell_type": "code",
   "execution_count": 6,
   "metadata": {},
   "outputs": [],
   "source": [
    "config = get_config('c:\\Projects\\config.ini')\n",
    "\n",
    "driver = config['srv']['driver']\n",
    "gis_server = config['srv']['server']\n",
    "pip_server = config['srv']['pip']\n",
    "gis = config['db']['parksgis']\n",
    "pip = config['db']['pip']"
   ]
  },
  {
   "cell_type": "code",
   "execution_count": 7,
   "metadata": {},
   "outputs": [],
   "source": [
    "con_string = 'Driver={' + driver + '};Server=' + pip_server +';Database=' + pip + ';Trusted_Connection=Yes;'\n",
    "params = urllib.parse.quote_plus(con_string)\n",
    "pip_engine = sqlalchemy.create_engine(\"mssql+pyodbc:///?odbc_connect=%s\" % params)"
   ]
  },
  {
   "cell_type": "code",
   "execution_count": 8,
   "metadata": {},
   "outputs": [],
   "source": [
    "con_string = 'Driver={' + driver + '};Server=' + gis_server +';Database=' + gis + ';Trusted_Connection=Yes;'\n",
    "params = urllib.parse.quote_plus(con_string)\n",
    "gis_engine = sqlalchemy.create_engine(\"mssql+pyodbc:///?odbc_connect=%s\" % params)"
   ]
  },
  {
   "cell_type": "markdown",
   "metadata": {},
   "source": [
    "## Set the prop id lookup field dictionary"
   ]
  },
  {
   "cell_type": "code",
   "execution_count": 9,
   "metadata": {},
   "outputs": [],
   "source": [
    "#Define the dict of dicts that contains the feature classes and the translated column names\n",
    "field_lookup = {'property_evw': {'propnum': 'gispropnum',\n",
    "                                 'prop id': 'gispropnum', \n",
    "                                 'borough': 'department',\n",
    "                                 'ampsdistrict': 'department',\n",
    "                                 'prop name': 'signname',\n",
    "                                 'site name': 'signname',\n",
    "                                 'prop location': 'location',\n",
    "                                 'site location': 'location',\n",
    "                                 'acres': 'acres', \n",
    "                                 'jurisdiction': 'jurisdiction', \n",
    "                                 'typecategory': 'typecategory', \n",
    "                                 'featurestatus':'featurestatus', \n",
    "                                 'gisobjid':'gisobjid'}, \n",
    "                 'playground_evw': {'propnum': 'parentid', \n",
    "                                    'prop id': 'omppropid', \n",
    "                                    'borough': 'department',\n",
    "                                    'ampsdistrict': 'department',\n",
    "                                    'site name': 'signname', \n",
    "                                    'site location': 'location', \n",
    "                                    'acres': 'acres', \n",
    "                                    'jurisdiction': 'jurisdiction', \n",
    "                                    'featurestatus':'featurestatus', \n",
    "                                    'gisobjid':'gisobjid'},  \n",
    "                 'zone_evw': {'propnum': 'parentid', \n",
    "                              'prop id': 'omppropid', \n",
    "                              'borough': 'department',\n",
    "                              'ampsdistrict': 'department',\n",
    "                              'site name': 'sitename', \n",
    "                              'site location': 'location', \n",
    "                              'acres': 'acres', \n",
    "                              'jurisdiction': 'jurisdiction', \n",
    "                              'featurestatus':'featurestatus', \n",
    "                              'gisobjid':'gisobjid'}, \n",
    "\n",
    "                 'unmapped_gisallsites_evw': {'propnum': 'gispropnum',\n",
    "                                              'prop id': 'omppropid', \n",
    "                                              'borough': 'department',\n",
    "                                              'ampsdistrict': 'department',\n",
    "                                              'site name': 'name',\n",
    "                                              'site location': 'location',\n",
    "                                              'acres': 'acres', \n",
    "                                              'jurisdiction': 'jurisdiction'},\n",
    "                 'schoolyard_to_playground_evw': {'propnum': 'gispropnum',\n",
    "                                                  'prop id': 'gispropnum', \n",
    "                                                  'borough': 'department',\n",
    "                                                  'ampsdistrict': 'department',\n",
    "                                                  'prop name': 'signname',\n",
    "                                                  'site name': 'signname',\n",
    "                                                  'prop location': 'location',\n",
    "                                                  'site location': 'location',\n",
    "                                                  'acres': 'acres', \n",
    "                                                  'jurisdiction': 'jurisdiction', \n",
    "                                                  'featurestatus':'featurestatus'},\n",
    "                 'greenstreet_evw': {'propnum': 'gispropnum', \n",
    "                                     'prop id': 'omppropid', \n",
    "                                     'borough': 'department',\n",
    "                                     'ampsdistrict': 'department',\n",
    "                                     'site name': 'sitename', \n",
    "                                     'site location': 'location', \n",
    "                                     'acres': 'acres', \n",
    "                                     'jurisdiction': 'jurisdiction', \n",
    "                                     'featurestatus':'featurestatus', \n",
    "                                     'gisobjid':'gisobjid'},\n",
    "                 'golfcourse_evw': {'propnum': 'gispropnum', \n",
    "                                    'prop id': 'omppropid', \n",
    "                                    'borough': 'department',\n",
    "                                    'ampsdistrict': 'department',\n",
    "                                    'site name': 'name', \n",
    "                                    'site location': 'location', \n",
    "                                    'acres': 'acres', \n",
    "                                    'jurisdiction': 'jurisdiction', \n",
    "                                    'featurestatus':'featurestatus', \n",
    "                                    'gisobjid':'gisobjid'},\n",
    "                 'restrictivedeclarationsite_evw': {'propnum': 'gispropnum',\n",
    "                                                    'prop id': 'gispropnum', \n",
    "                                                    'borough': 'department',\n",
    "                                                    'ampsdistrict': 'department',\n",
    "                                                    'prop name': 'signname',\n",
    "                                                    'site name': 'signname',\n",
    "                                                    'prop location': 'location',\n",
    "                                                    'site location': 'location',\n",
    "                                                    'acres': 'acres', \n",
    "                                                    'jurisdiction': 'jurisdiction', \n",
    "                                                    'featurestatus':'featurestatus'}, \n",
    "                 'structure_evw': {'propnum': 'gispropnum',\n",
    "                                   'prop id': 'omppropid', \n",
    "                                   'borough': 'department',\n",
    "                                   'ampsdistrict': 'department',\n",
    "                                   'prop name': 'description',\n",
    "                                   'site name': 'description',\n",
    "                                   'prop location': 'location',\n",
    "                                   'site location': 'location',\n",
    "                                   'jurisdiction': 'jurisdiction',  \n",
    "                                   'featurestatus':'featurestatus', \n",
    "                                   'gisobjid':'gisobjid'}}"
   ]
  },
  {
   "cell_type": "code",
   "execution_count": 10,
   "metadata": {},
   "outputs": [],
   "source": [
    "#Define a dict of source feature classes that map to the sourcefc value\n",
    "sourcefc_lookup = {'property_evw': 'Property', \n",
    "                   'playground_evw': 'Playground', \n",
    "                   'zone_evw': 'Zone', \n",
    "                   'unmapped_gisallsites_evw': 'Unmapped',\n",
    "                   'schoolyard_to_playground_evw': 'Schoolyard To Playground',\n",
    "                   'greenstreet_evw': 'Greenstreet',\n",
    "                   'golfcourse_evw': 'GolfCourse',\n",
    "                   'restrictivedeclarationsite_evw': 'RestrictiveDeclarationSite',\n",
    "                   'structure_evw': 'Structure'}"
   ]
  },
  {
   "cell_type": "code",
   "execution_count": 11,
   "metadata": {},
   "outputs": [],
   "source": [
    "field_lookup_as = {f: ['['+ i[1] + '] as ' + '['+ i[0] + ']' for i in field_lookup[f].items()] for f in sourcefc_lookup }"
   ]
  },
  {
   "cell_type": "markdown",
   "metadata": {},
   "source": [
    "## Original GIS Data"
   ]
  },
  {
   "cell_type": "code",
   "execution_count": 12,
   "metadata": {},
   "outputs": [],
   "source": [
    "#Define the tables that will be queried and interacted with\n",
    "gis_tables = ['property_evw', 'playground_evw', 'zone_evw', 'unmapped_gisallsites_evw', \n",
    "              'schoolyard_to_playground_evw', 'greenstreet_evw', 'golfcourse_evw', \n",
    "              'restrictivedeclarationsite_evw', 'structure_evw']"
   ]
  },
  {
   "cell_type": "code",
   "execution_count": 13,
   "metadata": {},
   "outputs": [],
   "source": [
    "#Create the list of SQL Queries\n",
    "gis_sql_list = [\"select objectid, {}, '{}' as sourcefc from parksgis.dpr.{}\"\n",
    "                .format(' ,'.join(field_lookup_as[t]), sourcefc_lookup[t], t) \n",
    "                        for t in gis_tables]"
   ]
  },
  {
   "cell_type": "code",
   "execution_count": 14,
   "metadata": {},
   "outputs": [],
   "source": [
    "#Create a dictionary with sources and dataframes that contain the original data\n",
    "gis_df_list = {s: pd.read_sql(con = gis_engine, sql = q) for q, s in zip(gis_sql_list, gis_tables)}"
   ]
  },
  {
   "cell_type": "markdown",
   "metadata": {},
   "source": [
    "## Execute all the stored procedures before starting"
   ]
  },
  {
   "cell_type": "code",
   "execution_count": 13,
   "metadata": {},
   "outputs": [],
   "source": [
    "db_delete_sql = '''begin transaction\n",
    "\n",
    "                       truncate table accessnewpip.dbo.tbl_ref_allsites_nosync\n",
    "                       \n",
    "                       truncate table accessnewpip.dbo.tbl_ref_allsites_audit\n",
    "                       \n",
    "                       truncate table accessnewpip.dbo.tbl_pip_allsites\n",
    "                       \n",
    "                       truncate table accessnewpip.dbo.tbl_pip_allsites_audit\n",
    "                       \n",
    "                       delete \n",
    "                       from accessnewpip.dbo.tbl_ref_allsites\n",
    "                   commit'''"
   ]
  },
  {
   "cell_type": "code",
   "execution_count": 14,
   "metadata": {},
   "outputs": [
    {
     "data": {
      "text/plain": [
       "<sqlalchemy.engine.result.ResultProxy at 0x8af4f88>"
      ]
     },
     "execution_count": 14,
     "metadata": {},
     "output_type": "execute_result"
    }
   ],
   "source": [
    "pip_engine.connect().execute(db_delete_sql)"
   ]
  },
  {
   "cell_type": "code",
   "execution_count": 15,
   "metadata": {},
   "outputs": [],
   "source": [
    "db_sql = ['exec accessnewpip.dbo.usp_i_tbl_temp_ref_allsites', 'exec accessnewpip.dbo.usp_m_tbl_ref_allsites',\n",
    "          'exec accessnewpip.dbo.usp_m_tbl_ref_allsites_nosync', 'exec accessnewpip.dbo.usp_m_tbl_pip_allsites']"
   ]
  },
  {
   "cell_type": "code",
   "execution_count": 16,
   "metadata": {},
   "outputs": [],
   "source": [
    "pip_con = pip_engine.connect()"
   ]
  },
  {
   "cell_type": "code",
   "execution_count": null,
   "metadata": {},
   "outputs": [],
   "source": [
    "pip_con.execute(db_sql[3])"
   ]
  },
  {
   "cell_type": "code",
   "execution_count": null,
   "metadata": {},
   "outputs": [],
   "source": [
    "#Loop through and execute the update queries\n",
    "for q in db_sql:\n",
    "    pip_con.execute(q)"
   ]
  },
  {
   "cell_type": "markdown",
   "metadata": {},
   "source": [
    "## Original PIP Data"
   ]
  },
  {
   "cell_type": "code",
   "execution_count": 15,
   "metadata": {},
   "outputs": [],
   "source": [
    "#Define the tables that will be queried and interacted with\n",
    "pip_tables = ['tbl_ref_allsites', 'tbl_ref_allsites_audit', 'tbl_ref_allsites_nosync', 'tbl_pip_allsites', \n",
    "              'vw_pip_compatible_inspected_sites', 'allsites']"
   ]
  },
  {
   "cell_type": "code",
   "execution_count": 16,
   "metadata": {},
   "outputs": [],
   "source": [
    "#Create the list of SQL Queries\n",
    "pip_sql_list = ['select * from accessnewpip.dbo.'+ t for t in pip_tables]"
   ]
  },
  {
   "cell_type": "code",
   "execution_count": 17,
   "metadata": {},
   "outputs": [],
   "source": [
    "#Create a list of dataframes with the original dat\n",
    "pip_df_list = {s: pd.read_sql(con = pip_engine, sql = q) for q, s in zip(pip_sql_list, pip_tables)}"
   ]
  },
  {
   "cell_type": "code",
   "execution_count": 18,
   "metadata": {},
   "outputs": [],
   "source": [
    "sql = 'select distinct [prop id] from accessnewpip.dbo.vw_pip_compatible_inspected_sites'"
   ]
  },
  {
   "cell_type": "code",
   "execution_count": 19,
   "metadata": {},
   "outputs": [],
   "source": [
    "pip_sync_view = pd.read_sql(con = pip_engine, sql = sql)"
   ]
  },
  {
   "cell_type": "code",
   "execution_count": 20,
   "metadata": {},
   "outputs": [],
   "source": [
    "existing_propid = list(pip_sync_view['prop id'])"
   ]
  },
  {
   "cell_type": "markdown",
   "metadata": {},
   "source": [
    "## Invert the field lookup"
   ]
  },
  {
   "cell_type": "code",
   "execution_count": 21,
   "metadata": {},
   "outputs": [],
   "source": [
    "inverted_field_lookup = {g:{v:k for k, v in field_lookup[g].items()} for g in gis_tables}"
   ]
  },
  {
   "cell_type": "markdown",
   "metadata": {},
   "source": [
    "## Copy the DFs"
   ]
  },
  {
   "cell_type": "code",
   "execution_count": 22,
   "metadata": {},
   "outputs": [],
   "source": [
    "n_rows = {g: random.randint(5, 10) for g in gis_tables}"
   ]
  },
  {
   "cell_type": "code",
   "execution_count": 23,
   "metadata": {},
   "outputs": [],
   "source": [
    "gis_dfs_update_delete = {g: gis_df_list[g].copy().head(n_rows[g] * 2) for g in gis_tables}"
   ]
  },
  {
   "cell_type": "code",
   "execution_count": 24,
   "metadata": {},
   "outputs": [],
   "source": [
    "gis_dfs_update = {g: gis_dfs_update_delete[g].copy().head(n_rows[g]) for g in gis_tables}"
   ]
  },
  {
   "cell_type": "code",
   "execution_count": 25,
   "metadata": {},
   "outputs": [],
   "source": [
    "gis_dfs_delete = {g: gis_dfs_update_delete[g].copy().tail(n_rows[g]) for g in gis_tables}"
   ]
  },
  {
   "cell_type": "code",
   "execution_count": 26,
   "metadata": {},
   "outputs": [],
   "source": [
    "gis_dfs_insert = {g: gis_df_list[g].copy().tail(n_rows[g]) for g in gis_tables}"
   ]
  },
  {
   "cell_type": "markdown",
   "metadata": {},
   "source": [
    "## Perform DML Steps"
   ]
  },
  {
   "cell_type": "markdown",
   "metadata": {},
   "source": [
    "### Delete Records"
   ]
  },
  {
   "cell_type": "code",
   "execution_count": 27,
   "metadata": {},
   "outputs": [],
   "source": [
    "list_props = {g: list(gis_dfs_delete[g]['prop id']) for g in gis_tables}"
   ]
  },
  {
   "cell_type": "code",
   "execution_count": 28,
   "metadata": {},
   "outputs": [],
   "source": [
    "where_list = {g: ','.join(f\"'{p}'\" for p in list(list_props[g])) for g in gis_tables}"
   ]
  },
  {
   "cell_type": "code",
   "execution_count": 29,
   "metadata": {},
   "outputs": [],
   "source": [
    "#Define the common where clause using the prop id field lookup for each source GIS feature class\n",
    "where = {f: str(r\"where {} in({})\").format(field_lookup[f]['prop id'], where_list[f]) for f in field_lookup}"
   ]
  },
  {
   "cell_type": "code",
   "execution_count": 30,
   "metadata": {},
   "outputs": [],
   "source": [
    "#Loop through the GIS datasets, drop the _evw and create the queries that perform the deletes\n",
    "sql = ['delete from parksgis.dpr.{} {}'.format(g.replace('_evw', ''), where[g]) for g in gis_tables]"
   ]
  },
  {
   "cell_type": "code",
   "execution_count": 31,
   "metadata": {},
   "outputs": [],
   "source": [
    "gis_con = gis_engine.connect()"
   ]
  },
  {
   "cell_type": "code",
   "execution_count": 32,
   "metadata": {},
   "outputs": [],
   "source": [
    "#Loop through and execute the delete queries\n",
    "for q in sql:\n",
    "    gis_con.execute(q)"
   ]
  },
  {
   "cell_type": "code",
   "execution_count": 33,
   "metadata": {},
   "outputs": [],
   "source": [
    "#Create a list of dataframes with the data after deletes, notably all dfs should be empty\n",
    "gis_df_post_delete = {g: gis_df_list[g][gis_df_list[g]['prop id'].isin(list_props[g])] for g in gis_tables}"
   ]
  },
  {
   "cell_type": "markdown",
   "metadata": {},
   "source": [
    "### Update Records"
   ]
  },
  {
   "cell_type": "code",
   "execution_count": 34,
   "metadata": {},
   "outputs": [],
   "source": [
    "update_col = 'site location'"
   ]
  },
  {
   "cell_type": "code",
   "execution_count": 35,
   "metadata": {},
   "outputs": [],
   "source": [
    "update_val = 'Testing Updates'"
   ]
  },
  {
   "cell_type": "code",
   "execution_count": 36,
   "metadata": {},
   "outputs": [],
   "source": [
    "list_props = {g: list(gis_dfs_update[g]['prop id']) for g in gis_tables}"
   ]
  },
  {
   "cell_type": "code",
   "execution_count": 37,
   "metadata": {},
   "outputs": [],
   "source": [
    "where_list = {g: ','.join(f\"'{p}'\" for p in list(list_props[g])) for g in gis_tables}"
   ]
  },
  {
   "cell_type": "code",
   "execution_count": 38,
   "metadata": {},
   "outputs": [],
   "source": [
    "#Define the common where clause using the prop id field lookup for each source GIS feature class\n",
    "where = {f: str(r\"where {} in({})\").format(field_lookup[f]['prop id'], where_list[f]) for f in field_lookup}"
   ]
  },
  {
   "cell_type": "code",
   "execution_count": 43,
   "metadata": {},
   "outputs": [],
   "source": [
    "set_value = {g: str(r\"[{}] = '{}'\").format(field_lookup[g][update_col], update_val) for g in gis_tables}"
   ]
  },
  {
   "cell_type": "code",
   "execution_count": 44,
   "metadata": {},
   "outputs": [],
   "source": [
    "#Loop through the GIS datasets, drop the _evw and perform the deletes\n",
    "sql = ['update parksgis.dpr.{} set {}  {}'.format(g.replace('_evw', ''), set_value[g], where[g]) for g in gis_tables]"
   ]
  },
  {
   "cell_type": "code",
   "execution_count": 45,
   "metadata": {},
   "outputs": [],
   "source": [
    "#Loop through and execute the update queries\n",
    "for q in sql:\n",
    "    gis_con.execute(q)"
   ]
  },
  {
   "cell_type": "code",
   "execution_count": 46,
   "metadata": {},
   "outputs": [],
   "source": [
    "#Create a list of dataframes with the data after deletes, notably all dfs should be empty\n",
    "gis_df_post_update = {g: gis_df_list[g][gis_df_list[g]['prop id'].isin(list_props[g])] for g in gis_tables}"
   ]
  },
  {
   "cell_type": "markdown",
   "metadata": {},
   "source": [
    "### Insert Non-Duplicate Records"
   ]
  },
  {
   "cell_type": "code",
   "execution_count": 173,
   "metadata": {},
   "outputs": [],
   "source": [
    "#Create a function to generate prop ids\n",
    "def gen_propid(sourcefc):\n",
    "    boros = ['B','Q','M','R','X']\n",
    "\n",
    "    boro = boros[random.randint(0,len(boros) - 1)]\n",
    "    \n",
    "    num = f'{random.randint(0, 999):03}'\n",
    "    \n",
    "    letters = list(string.ascii_uppercase)\n",
    "    \n",
    "    suffixes = ['', letters[random.randint(0,len(letters) - 1)]]\n",
    "    \n",
    "    suffix = suffixes[random.randint(0,len(suffixes) - 1)]\n",
    "    \n",
    "    suffix_num = f'{random.randint(0, 99):02}'\n",
    "    \n",
    "    if sourcefc == 'zone_evw':\n",
    "        propid = boro + num + suffix + '-ZN' + suffix_num\n",
    "        \n",
    "    elif sourcefc == 'playground_evw':\n",
    "        propid = boro + num + suffix + '-' + suffix_num\n",
    "        \n",
    "    elif sourcefc == 'greenstreet_evw':     \n",
    "        propid = boro + 'Z' + num + suffix\n",
    "        \n",
    "    else:\n",
    "        propid = boro + num + suffix\n",
    "    \n",
    "    while propid not in existing_propid:\n",
    "        return propid\n",
    "    \n",
    "    else:\n",
    "        gen_propid(sourcefc)"
   ]
  },
  {
   "cell_type": "code",
   "execution_count": 48,
   "metadata": {},
   "outputs": [],
   "source": [
    "def get_value(sourcefc):\n",
    "    for k, v in field_lookup[sourcefc].items():\n",
    "        if k == 'prop id':\n",
    "            return v"
   ]
  },
  {
   "cell_type": "code",
   "execution_count": 49,
   "metadata": {},
   "outputs": [],
   "source": [
    "apply_cols = {g:[k for k, v in field_lookup[g].items() if v in get_value(g)] for g in gis_tables }"
   ]
  },
  {
   "cell_type": "code",
   "execution_count": 50,
   "metadata": {},
   "outputs": [],
   "source": [
    "for g in gis_tables:\n",
    "    \n",
    "    #Take the existing max objectid and add that value to the current objectid\n",
    "    objectid = gis_df_list[g].copy()['objectid'].max()\n",
    "    gis_dfs_insert[g]['objectid'] = gis_dfs_insert[g].apply(lambda x: x['objectid'] + objectid, axis = 1)\n",
    "    \n",
    "    #Add a globalid column because it's required\n",
    "    gis_dfs_insert[g]['globalid'] = gis_dfs_insert[g].apply(lambda x: str(uuid.uuid4()), axis = 1)\n",
    "    \n",
    "    #Generate the prop ids for all relevant columns\n",
    "    for c in apply_cols[g]:\n",
    "        gis_dfs_insert[g][c] = gis_dfs_insert[g].apply(lambda x: gen_propid(g), axis = 1)\n",
    "     \n",
    "    #Rename the columns to the original names\n",
    "    gis_dfs_insert[g].rename(columns = field_lookup[g], inplace = True)\n",
    "    \n",
    "    #Remove duplicate columns and drop the sourcefc column\n",
    "    gis_dfs_insert[g] = gis_dfs_insert[g].loc[:,~gis_dfs_insert[g].columns.duplicated()].drop(columns = ['sourcefc'])"
   ]
  },
  {
   "cell_type": "code",
   "execution_count": 51,
   "metadata": {},
   "outputs": [],
   "source": [
    "for g in gis_tables:\n",
    "    fc = g.replace('_evw', '')\n",
    "    gis_dfs_insert[g].to_sql(fc, gis_con, schema = 'dpr', if_exists = 'append', index = False)"
   ]
  },
  {
   "cell_type": "markdown",
   "metadata": {},
   "source": [
    "## Execute the PIP Sync"
   ]
  },
  {
   "cell_type": "code",
   "execution_count": 87,
   "metadata": {},
   "outputs": [],
   "source": [
    "#Loop through and execute the update queries\n",
    "for q in db_sql:\n",
    "    pip_engine.connect().execute(q)"
   ]
  },
  {
   "cell_type": "markdown",
   "metadata": {},
   "source": [
    "## Get the PIP and GIS Tables after"
   ]
  },
  {
   "cell_type": "code",
   "execution_count": 198,
   "metadata": {},
   "outputs": [],
   "source": [
    "#Create a list of dataframes with the original dat\n",
    "pip_df_list_after = {s: pd.read_sql(con = pip_engine, sql = q) for q, s in zip(pip_sql_list, pip_tables)}"
   ]
  },
  {
   "cell_type": "code",
   "execution_count": 54,
   "metadata": {},
   "outputs": [],
   "source": [
    "#Create a dictionary with sources and dataframes that contain the original data\n",
    "gis_df_list_after = {s: pd.read_sql(con = gis_engine, sql = q) for q, s in zip(gis_sql_list, gis_tables)}"
   ]
  },
  {
   "cell_type": "markdown",
   "metadata": {},
   "source": [
    "# Conduct the Tests"
   ]
  },
  {
   "cell_type": "code",
   "execution_count": 55,
   "metadata": {},
   "outputs": [],
   "source": [
    "test_results = []"
   ]
  },
  {
   "cell_type": "markdown",
   "metadata": {},
   "source": [
    "### Merge the before and after dicts"
   ]
  },
  {
   "cell_type": "code",
   "execution_count": 56,
   "metadata": {},
   "outputs": [],
   "source": [
    "gis_df_update_ck = {g: gis_dfs_update[g].merge(gis_df_list_after[g], how = 'left', on = 'prop id', indicator = True, suffixes = (None, '_y')) for g in gis_tables} "
   ]
  },
  {
   "cell_type": "code",
   "execution_count": 57,
   "metadata": {},
   "outputs": [],
   "source": [
    "gis_df_delete_ck = {g: gis_dfs_delete[g].merge(gis_df_list_after[g], how = 'left', on = 'prop id', indicator = True, suffixes = (None, '_y')) for g in gis_tables} "
   ]
  },
  {
   "cell_type": "code",
   "execution_count": 58,
   "metadata": {},
   "outputs": [],
   "source": [
    "gis_df_insert_ck = {g: gis_dfs_insert[g].merge(gis_df_list_after[g], how = 'left', left_on = field_lookup[g]['prop id'], right_on = 'prop id', indicator = True, suffixes = (None, '_y')) for g in gis_tables} "
   ]
  },
  {
   "cell_type": "markdown",
   "metadata": {},
   "source": [
    "## Validate that the row count of the deleted records matches"
   ]
  },
  {
   "cell_type": "code",
   "execution_count": 59,
   "metadata": {},
   "outputs": [],
   "source": [
    "#The length of the records that are only in the deleted df (left_only) should be equal to the number of records in the delted df.\n",
    "gis_delete_valid = {g: len(gis_df_delete_ck[g][gis_df_delete_ck[g]['_merge'] == 'left_only']) == len(gis_dfs_delete[g]) for g in gis_tables}"
   ]
  },
  {
   "cell_type": "code",
   "execution_count": 60,
   "metadata": {},
   "outputs": [],
   "source": [
    "test_results.append({'Validation of Deletes in GIS evws' : all(v == True for v in gis_delete_valid.values())})"
   ]
  },
  {
   "cell_type": "code",
   "execution_count": 61,
   "metadata": {},
   "outputs": [],
   "source": [
    "gis_insert_valid = {g: len(gis_df_insert_ck[g][gis_df_insert_ck[g]['_merge'] == 'both']) == len(gis_dfs_insert[g]) for g in gis_tables}"
   ]
  },
  {
   "cell_type": "code",
   "execution_count": 81,
   "metadata": {},
   "outputs": [
    {
     "data": {
      "text/html": [
       "<div>\n",
       "<style scoped>\n",
       "    .dataframe tbody tr th:only-of-type {\n",
       "        vertical-align: middle;\n",
       "    }\n",
       "\n",
       "    .dataframe tbody tr th {\n",
       "        vertical-align: top;\n",
       "    }\n",
       "\n",
       "    .dataframe thead th {\n",
       "        text-align: right;\n",
       "    }\n",
       "</style>\n",
       "<table border=\"1\" class=\"dataframe\">\n",
       "  <thead>\n",
       "    <tr style=\"text-align: right;\">\n",
       "      <th></th>\n",
       "      <th>objectid</th>\n",
       "      <th>gispropnum</th>\n",
       "      <th>omppropid</th>\n",
       "      <th>department</th>\n",
       "      <th>sitename</th>\n",
       "      <th>location</th>\n",
       "      <th>acres</th>\n",
       "      <th>jurisdiction</th>\n",
       "      <th>featurestatus</th>\n",
       "      <th>gisobjid</th>\n",
       "      <th>globalid</th>\n",
       "    </tr>\n",
       "  </thead>\n",
       "  <tbody>\n",
       "    <tr>\n",
       "      <th>2748</th>\n",
       "      <td>15789</td>\n",
       "      <td>QZ352</td>\n",
       "      <td>XZ594Q</td>\n",
       "      <td>Q-07</td>\n",
       "      <td>Greenstreet</td>\n",
       "      <td>Clintonville St 17 Av &amp; 154 St</td>\n",
       "      <td>0.021288</td>\n",
       "      <td>DOT</td>\n",
       "      <td>Active</td>\n",
       "      <td>100000891.0</td>\n",
       "      <td>9e03f53e-c5c0-441c-8eaa-d92a15bafbfe</td>\n",
       "    </tr>\n",
       "    <tr>\n",
       "      <th>2749</th>\n",
       "      <td>16330</td>\n",
       "      <td>Q035</td>\n",
       "      <td>QZ511</td>\n",
       "      <td>Q-03</td>\n",
       "      <td>Greenstreet</td>\n",
       "      <td>34th Av Btw 8586 Streets</td>\n",
       "      <td>0.039356</td>\n",
       "      <td>DOT</td>\n",
       "      <td>Active</td>\n",
       "      <td>100001463.0</td>\n",
       "      <td>8ee1e3e5-d86a-4087-a19f-fa7bd0e01af3</td>\n",
       "    </tr>\n",
       "    <tr>\n",
       "      <th>2750</th>\n",
       "      <td>16871</td>\n",
       "      <td>XZ65B</td>\n",
       "      <td>XZ554S</td>\n",
       "      <td>X-11</td>\n",
       "      <td>GREENSTREET</td>\n",
       "      <td>Esplanade And Hone Ave.</td>\n",
       "      <td>0.083158</td>\n",
       "      <td>DOT</td>\n",
       "      <td>Active</td>\n",
       "      <td>100005918.0</td>\n",
       "      <td>0ab4a8ca-024e-4072-b1ae-23b9db6d3c38</td>\n",
       "    </tr>\n",
       "    <tr>\n",
       "      <th>2751</th>\n",
       "      <td>17412</td>\n",
       "      <td>RZ004A</td>\n",
       "      <td>QZ748</td>\n",
       "      <td>R-02</td>\n",
       "      <td>GREENSTREET</td>\n",
       "      <td>1st St And New Dorp Lane And Richmond Rd</td>\n",
       "      <td>0.013727</td>\n",
       "      <td>DOT</td>\n",
       "      <td>Active</td>\n",
       "      <td>100006875.0</td>\n",
       "      <td>ad3871d6-aa00-4022-9bfb-d593c84b5eb9</td>\n",
       "    </tr>\n",
       "    <tr>\n",
       "      <th>2752</th>\n",
       "      <td>17953</td>\n",
       "      <td>MZ267</td>\n",
       "      <td>XZ143G</td>\n",
       "      <td>M-11</td>\n",
       "      <td>GREENSTREET</td>\n",
       "      <td>Palandino Ave &amp; Triborough Exit Ramp</td>\n",
       "      <td>0.024265</td>\n",
       "      <td>DOT</td>\n",
       "      <td>Active</td>\n",
       "      <td>100006447.0</td>\n",
       "      <td>91e4f4bc-cc60-43d3-ae59-50d49e64e46b</td>\n",
       "    </tr>\n",
       "  </tbody>\n",
       "</table>\n",
       "</div>"
      ],
      "text/plain": [
       "      objectid gispropnum omppropid department     sitename  \\\n",
       "2748     15789      QZ352    XZ594Q       Q-07  Greenstreet   \n",
       "2749     16330       Q035     QZ511       Q-03  Greenstreet   \n",
       "2750     16871      XZ65B    XZ554S       X-11  GREENSTREET   \n",
       "2751     17412     RZ004A     QZ748       R-02  GREENSTREET   \n",
       "2752     17953      MZ267    XZ143G       M-11  GREENSTREET   \n",
       "\n",
       "                                      location     acres jurisdiction  \\\n",
       "2748            Clintonville St 17 Av & 154 St  0.021288          DOT   \n",
       "2749                  34th Av Btw 8586 Streets  0.039356          DOT   \n",
       "2750                   Esplanade And Hone Ave.  0.083158          DOT   \n",
       "2751  1st St And New Dorp Lane And Richmond Rd  0.013727          DOT   \n",
       "2752      Palandino Ave & Triborough Exit Ramp  0.024265          DOT   \n",
       "\n",
       "     featurestatus     gisobjid                              globalid  \n",
       "2748        Active  100000891.0  9e03f53e-c5c0-441c-8eaa-d92a15bafbfe  \n",
       "2749        Active  100001463.0  8ee1e3e5-d86a-4087-a19f-fa7bd0e01af3  \n",
       "2750        Active  100005918.0  0ab4a8ca-024e-4072-b1ae-23b9db6d3c38  \n",
       "2751        Active  100006875.0  ad3871d6-aa00-4022-9bfb-d593c84b5eb9  \n",
       "2752        Active  100006447.0  91e4f4bc-cc60-43d3-ae59-50d49e64e46b  "
      ]
     },
     "execution_count": 81,
     "metadata": {},
     "output_type": "execute_result"
    }
   ],
   "source": [
    "gis_dfs_insert['greenstreet_evw']"
   ]
  },
  {
   "cell_type": "code",
   "execution_count": 62,
   "metadata": {},
   "outputs": [],
   "source": [
    "test_results.append({'Validation of Inserts into GIS evws' : all(v == True for v in gis_insert_valid.values())})"
   ]
  },
  {
   "cell_type": "code",
   "execution_count": 63,
   "metadata": {},
   "outputs": [],
   "source": [
    "gis_update_valid = {g: len(gis_df_update_ck[g][gis_df_update_ck[g]['_merge'] == 'both']) == len(gis_dfs_insert[g]) for g in gis_tables}"
   ]
  },
  {
   "cell_type": "code",
   "execution_count": 64,
   "metadata": {},
   "outputs": [],
   "source": [
    "test_results.append({'Validation of Updates into GIS evws' : all(v == True for v in gis_update_valid.values())})"
   ]
  },
  {
   "cell_type": "code",
   "execution_count": 65,
   "metadata": {},
   "outputs": [],
   "source": [
    "gis_update_valid2 = {g: len(gis_df_update_ck[g][gis_df_update_ck[g][update_col] == update_val]) == len(gis_dfs_insert[g]) for g in gis_tables}"
   ]
  },
  {
   "cell_type": "code",
   "execution_count": 66,
   "metadata": {},
   "outputs": [],
   "source": [
    "test_results.append({'Validation of Updates values into GIS evws' : all(v == True for v in gis_update_valid2.values())})"
   ]
  },
  {
   "cell_type": "code",
   "execution_count": 67,
   "metadata": {},
   "outputs": [
    {
     "data": {
      "text/plain": [
       "[{'Validation of Deletes in GIS evws': True},\n",
       " {'Validation of Inserts into GIS evws': False},\n",
       " {'Validation of Updates into GIS evws': False},\n",
       " {'Validation of Updates values into GIS evws': False}]"
      ]
     },
     "execution_count": 67,
     "metadata": {},
     "output_type": "execute_result"
    }
   ],
   "source": [
    "test_results"
   ]
  },
  {
   "cell_type": "markdown",
   "metadata": {},
   "source": [
    "## Do the validation with Allsites"
   ]
  },
  {
   "cell_type": "code",
   "execution_count": 199,
   "metadata": {},
   "outputs": [],
   "source": [
    "ck_date = date.today().strftime('%Y-%m-%d')"
   ]
  },
  {
   "cell_type": "code",
   "execution_count": 200,
   "metadata": {},
   "outputs": [],
   "source": [
    "pip_df_list_after['tbl_ref_allsites']['created_date'] = pip_df_list_after['tbl_ref_allsites'].apply(lambda x: x['created_date'].strftime('%Y-%m-%d'), axis = 1)"
   ]
  },
  {
   "cell_type": "code",
   "execution_count": 184,
   "metadata": {},
   "outputs": [],
   "source": [
    "pip_df_update_ck = {g: gis_dfs_update[g].merge(pip_df_list_after['tbl_ref_allsites'][pip_df_list_after['tbl_ref_allsites']['sourcefc'] == sourcefc_lookup[g]], how = 'left', left_on = ['prop id'], right_on = ['Prop ID'], indicator = True, suffixes = (None, '_y')) for g in gis_tables} "
   ]
  },
  {
   "cell_type": "code",
   "execution_count": 185,
   "metadata": {},
   "outputs": [
    {
     "ename": "KeyError",
     "evalue": "'tbl_ref_allsites_audit'",
     "output_type": "error",
     "traceback": [
      "\u001b[1;31m---------------------------------------------------------------------------\u001b[0m",
      "\u001b[1;31mKeyError\u001b[0m                                  Traceback (most recent call last)",
      "\u001b[1;32m<ipython-input-185-734a8b4b709f>\u001b[0m in \u001b[0;36m<module>\u001b[1;34m\u001b[0m\n\u001b[1;32m----> 1\u001b[1;33m \u001b[0mpip_df_update_audit_ck\u001b[0m \u001b[1;33m=\u001b[0m \u001b[1;33m{\u001b[0m\u001b[0mg\u001b[0m\u001b[1;33m:\u001b[0m \u001b[0mgis_dfs_update\u001b[0m\u001b[1;33m[\u001b[0m\u001b[0mg\u001b[0m\u001b[1;33m]\u001b[0m\u001b[1;33m.\u001b[0m\u001b[0mmerge\u001b[0m\u001b[1;33m(\u001b[0m\u001b[0mpip_df_list_after\u001b[0m\u001b[1;33m[\u001b[0m\u001b[1;34m'tbl_ref_allsites_audit'\u001b[0m\u001b[1;33m]\u001b[0m\u001b[1;33m[\u001b[0m\u001b[0mpip_df_list_after\u001b[0m\u001b[1;33m[\u001b[0m\u001b[1;34m'tbl_ref_allsites_audit'\u001b[0m\u001b[1;33m]\u001b[0m\u001b[1;33m[\u001b[0m\u001b[1;34m'sourcefc'\u001b[0m\u001b[1;33m]\u001b[0m \u001b[1;33m==\u001b[0m \u001b[0msourcefc_lookup\u001b[0m\u001b[1;33m[\u001b[0m\u001b[0mg\u001b[0m\u001b[1;33m]\u001b[0m\u001b[1;33m]\u001b[0m\u001b[1;33m,\u001b[0m \u001b[0mhow\u001b[0m \u001b[1;33m=\u001b[0m \u001b[1;34m'left'\u001b[0m\u001b[1;33m,\u001b[0m \u001b[0mleft_on\u001b[0m \u001b[1;33m=\u001b[0m \u001b[1;33m[\u001b[0m\u001b[1;34m'prop id'\u001b[0m\u001b[1;33m]\u001b[0m\u001b[1;33m,\u001b[0m \u001b[0mright_on\u001b[0m \u001b[1;33m=\u001b[0m \u001b[1;33m[\u001b[0m\u001b[1;34m'Prop ID'\u001b[0m\u001b[1;33m]\u001b[0m\u001b[1;33m,\u001b[0m \u001b[0mindicator\u001b[0m \u001b[1;33m=\u001b[0m \u001b[1;32mTrue\u001b[0m\u001b[1;33m,\u001b[0m \u001b[0msuffixes\u001b[0m \u001b[1;33m=\u001b[0m \u001b[1;33m(\u001b[0m\u001b[1;32mNone\u001b[0m\u001b[1;33m,\u001b[0m \u001b[1;34m'_y'\u001b[0m\u001b[1;33m)\u001b[0m\u001b[1;33m)\u001b[0m \u001b[1;32mfor\u001b[0m \u001b[0mg\u001b[0m \u001b[1;32min\u001b[0m \u001b[0mgis_tables\u001b[0m\u001b[1;33m}\u001b[0m\u001b[1;33m\u001b[0m\u001b[1;33m\u001b[0m\u001b[0m\n\u001b[0m",
      "\u001b[1;32m<ipython-input-185-734a8b4b709f>\u001b[0m in \u001b[0;36m<dictcomp>\u001b[1;34m(.0)\u001b[0m\n\u001b[1;32m----> 1\u001b[1;33m \u001b[0mpip_df_update_audit_ck\u001b[0m \u001b[1;33m=\u001b[0m \u001b[1;33m{\u001b[0m\u001b[0mg\u001b[0m\u001b[1;33m:\u001b[0m \u001b[0mgis_dfs_update\u001b[0m\u001b[1;33m[\u001b[0m\u001b[0mg\u001b[0m\u001b[1;33m]\u001b[0m\u001b[1;33m.\u001b[0m\u001b[0mmerge\u001b[0m\u001b[1;33m(\u001b[0m\u001b[0mpip_df_list_after\u001b[0m\u001b[1;33m[\u001b[0m\u001b[1;34m'tbl_ref_allsites_audit'\u001b[0m\u001b[1;33m]\u001b[0m\u001b[1;33m[\u001b[0m\u001b[0mpip_df_list_after\u001b[0m\u001b[1;33m[\u001b[0m\u001b[1;34m'tbl_ref_allsites_audit'\u001b[0m\u001b[1;33m]\u001b[0m\u001b[1;33m[\u001b[0m\u001b[1;34m'sourcefc'\u001b[0m\u001b[1;33m]\u001b[0m \u001b[1;33m==\u001b[0m \u001b[0msourcefc_lookup\u001b[0m\u001b[1;33m[\u001b[0m\u001b[0mg\u001b[0m\u001b[1;33m]\u001b[0m\u001b[1;33m]\u001b[0m\u001b[1;33m,\u001b[0m \u001b[0mhow\u001b[0m \u001b[1;33m=\u001b[0m \u001b[1;34m'left'\u001b[0m\u001b[1;33m,\u001b[0m \u001b[0mleft_on\u001b[0m \u001b[1;33m=\u001b[0m \u001b[1;33m[\u001b[0m\u001b[1;34m'prop id'\u001b[0m\u001b[1;33m]\u001b[0m\u001b[1;33m,\u001b[0m \u001b[0mright_on\u001b[0m \u001b[1;33m=\u001b[0m \u001b[1;33m[\u001b[0m\u001b[1;34m'Prop ID'\u001b[0m\u001b[1;33m]\u001b[0m\u001b[1;33m,\u001b[0m \u001b[0mindicator\u001b[0m \u001b[1;33m=\u001b[0m \u001b[1;32mTrue\u001b[0m\u001b[1;33m,\u001b[0m \u001b[0msuffixes\u001b[0m \u001b[1;33m=\u001b[0m \u001b[1;33m(\u001b[0m\u001b[1;32mNone\u001b[0m\u001b[1;33m,\u001b[0m \u001b[1;34m'_y'\u001b[0m\u001b[1;33m)\u001b[0m\u001b[1;33m)\u001b[0m \u001b[1;32mfor\u001b[0m \u001b[0mg\u001b[0m \u001b[1;32min\u001b[0m \u001b[0mgis_tables\u001b[0m\u001b[1;33m}\u001b[0m\u001b[1;33m\u001b[0m\u001b[1;33m\u001b[0m\u001b[0m\n\u001b[0m",
      "\u001b[1;31mKeyError\u001b[0m: 'tbl_ref_allsites_audit'"
     ]
    }
   ],
   "source": [
    "pip_df_update_audit_ck = {g: gis_dfs_update[g].merge(pip_df_list_after['tbl_ref_allsites_audit'][pip_df_list_after['tbl_ref_allsites_audit']['sourcefc'] == sourcefc_lookup[g]], how = 'left', left_on = ['prop id'], right_on = ['Prop ID'], indicator = True, suffixes = (None, '_y')) for g in gis_tables} "
   ]
  },
  {
   "cell_type": "code",
   "execution_count": 186,
   "metadata": {},
   "outputs": [],
   "source": [
    "pip_df_delete_ck = {g: gis_dfs_delete[g].merge(pip_df_list_after['tbl_ref_allsites'][pip_df_list_after['tbl_ref_allsites']['sourcefc'] == sourcefc_lookup[g]], how = 'left', left_on = ['prop id'], right_on = ['Prop ID'], indicator = True, suffixes = (None, '_y')) for g in gis_tables} "
   ]
  },
  {
   "cell_type": "code",
   "execution_count": 187,
   "metadata": {},
   "outputs": [],
   "source": [
    "pip_df_insert_ck = {g: gis_dfs_insert[g].merge(pip_df_list_after['tbl_ref_allsites'][pip_df_list_after['tbl_ref_allsites']['sourcefc'] == sourcefc_lookup[g]], how = 'left', left_on = [field_lookup[g]['prop id']], right_on = ['Prop ID'], indicator = True, suffixes = (None, '_y')) for g in gis_tables}"
   ]
  },
  {
   "cell_type": "markdown",
   "metadata": {},
   "source": [
    "## Check the validity for all the PIP Tests"
   ]
  },
  {
   "cell_type": "code",
   "execution_count": 173,
   "metadata": {},
   "outputs": [],
   "source": [
    "pip_df_update_valid = {g: len(pip_df_update_ck[g][(pip_df_update_ck[g]['_merge'] == 'both') & (pip_df_update_ck[g][update_col] == update_val)]) == len(gis_dfs_update[g]) for g in gis_tables}"
   ]
  },
  {
   "cell_type": "code",
   "execution_count": null,
   "metadata": {},
   "outputs": [],
   "source": [
    "pip_df_update_audit_valid = {g: len(pip_df_update_audit_ck[g][(pip_df_update_audit_ck[g]['_merge'] == 'both') & (pip_df_update_audit_ck[g]['created_date_y'] == ck_date)]) == len(gis_dfs_update[g]) for g in gis_tables}"
   ]
  },
  {
   "cell_type": "code",
   "execution_count": null,
   "metadata": {},
   "outputs": [],
   "source": [
    "pip_df_update_valid2 = {g: len(pip_df_update_ck[g][(pip_df_update_ck[g]['_merge'] == 'both') & (pip_df_update_ck[g][update_col] == update_val)]) == len(gis_dfs_update[g]) for g in gis_tables}"
   ]
  },
  {
   "cell_type": "code",
   "execution_count": null,
   "metadata": {},
   "outputs": [],
   "source": [
    "pip_df_delete_valid = {g: len(pip_df_delete_ck[g][(pip_df_delete_ck[g]['_merge'] == 'both') & (pip_df_delete_ck[g]['gis_deleted_y'] == 1)]) == len(gis_dfs_delete[g]) for g in gis_tables}"
   ]
  },
  {
   "cell_type": "code",
   "execution_count": null,
   "metadata": {},
   "outputs": [],
   "source": [
    "pip_df_insert_valid = {g: len(pip_df_insert_ck[g][(pip_df_insert_ck[g]['_merge'] == 'both') & (pip_df_insert_ck[g]['created_date_y'] == ck_date)]) == len(gis_dfs_insert[g]) for g in gis_tables}"
   ]
  },
  {
   "cell_type": "code",
   "execution_count": null,
   "metadata": {},
   "outputs": [],
   "source": [
    "pip_df_insert_valid2 ="
   ]
  },
  {
   "cell_type": "markdown",
   "metadata": {},
   "source": [
    "## Old Checking"
   ]
  },
  {
   "cell_type": "code",
   "execution_count": 91,
   "metadata": {},
   "outputs": [],
   "source": [
    "gis_df_list_after_ck_subset = {g: gis_df_list_after_ck[g][gis_df_list_after_ck[g]['_merge'] != 'both'] for g in gis_tables}"
   ]
  },
  {
   "cell_type": "code",
   "execution_count": 100,
   "metadata": {},
   "outputs": [],
   "source": [
    "allsites_ck = {g: gis_df_list_after[g].merge(pip_df_list_after['tbl_ref_allsites'], how = 'outer', left_on = ['prop id', 'sourcefc'], right_on = ['Prop ID', 'sourcefc'], indicator = True, suffixes = (None, '_y')) for g in gis_tables}"
   ]
  },
  {
   "cell_type": "code",
   "execution_count": 101,
   "metadata": {},
   "outputs": [],
   "source": [
    "allsites_ck_subset = {g: allsites_ck[g][allsites_ck[g]['_merge'] != 'both'] for g in gis_tables}"
   ]
  },
  {
   "cell_type": "code",
   "execution_count": 107,
   "metadata": {},
   "outputs": [
    {
     "data": {
      "text/plain": [
       "objectid                                                        NaN\n",
       "propnum                                                         NaN\n",
       "prop id                                                         NaN\n",
       "borough                                                         NaN\n",
       "ampsdistrict                                                    NaN\n",
       "prop name                                                       NaN\n",
       "site name                                                       NaN\n",
       "prop location                                                   NaN\n",
       "site location                                                   NaN\n",
       "acres                                                           NaN\n",
       "jurisdiction                                                    NaN\n",
       "typecategory                                                    NaN\n",
       "featurestatus                                                   NaN\n",
       "gisobjid                                                        NaN\n",
       "sourcefc                                                Greenstreet\n",
       "PropNum                                                       BZ366\n",
       "Prop ID                                                       BZ366\n",
       "Boro                                                              B\n",
       "AMPSDistrict                                                     13\n",
       "Prop Name                                               Greenstreet\n",
       "Site Name                                               Greenstreet\n",
       "Prop Location              Surf Ave Bet. Seabreeze Ave & West 5 St \n",
       "Site Location              Surf Ave Bet. Seabreeze Ave & West 5 St \n",
       "jurisdiction_y                                                  DOT\n",
       "typecategory_y                                                 None\n",
       "acres_y                                                       0.107\n",
       "gisobjid_y                                              1.00006e+08\n",
       "created_date                             2021-04-20 21:25:30.530000\n",
       "row_hash          b'v+\\x92\\x04)/\\xe3\\xc3\\xf9\\x1bJ S\\xfbd\\x17\\x0f...\n",
       "gis_deleted                                                   False\n",
       "shape             b'\\xd7\\x08\\x00\\x00\\x01\\x04\\x0b\\x00\\x00\\x00\\x80...\n",
       "_merge                                                   right_only\n",
       "Name: 2800, dtype: object"
      ]
     },
     "execution_count": 107,
     "metadata": {},
     "output_type": "execute_result"
    }
   ],
   "source": [
    "allsites_ck['property_evw'].loc[2800]"
   ]
  },
  {
   "cell_type": "markdown",
   "metadata": {},
   "source": [
    "## Did the number of and records deleted match?"
   ]
  },
  {
   "cell_type": "code",
   "execution_count": 71,
   "metadata": {},
   "outputs": [
    {
     "name": "stderr",
     "output_type": "stream",
     "text": [
      "C:\\ProgramData\\Anaconda3\\lib\\site-packages\\ipykernel_launcher.py:2: UserWarning: Boolean Series key will be reindexed to match DataFrame index.\n",
      "  \n"
     ]
    }
   ],
   "source": [
    "gis_deletes_ck = {g: gis_df_list_after_ck_subset[g][gis_df_list_after_ck[g]['_merge'] == 'left_only'] \n",
    "                  for g in gis_tables if len(gis_df_list_after_ck_subset[g]) > 0}"
   ]
  },
  {
   "cell_type": "code",
   "execution_count": 95,
   "metadata": {},
   "outputs": [
    {
     "data": {
      "text/plain": [
       "7"
      ]
     },
     "execution_count": 95,
     "metadata": {},
     "output_type": "execute_result"
    }
   ],
   "source": [
    "len(gis_df_list_after_ck_subset['property_evw'])"
   ]
  },
  {
   "cell_type": "code",
   "execution_count": 73,
   "metadata": {},
   "outputs": [
    {
     "data": {
      "text/plain": [
       "dict_keys(['property_evw', 'playground_evw', 'zone_evw', 'unmapped_gisallsites_evw', 'schoolyard_to_playground_evw', 'greenstreet_evw', 'golfcourse_evw', 'restrictivedeclarationsite_evw', 'structure_evw'])"
      ]
     },
     "execution_count": 73,
     "metadata": {},
     "output_type": "execute_result"
    }
   ],
   "source": [
    "gis_deletes_ck.keys()"
   ]
  },
  {
   "cell_type": "code",
   "execution_count": 70,
   "metadata": {},
   "outputs": [
    {
     "data": {
      "text/plain": [
       "{'property_evw': Empty DataFrame\n",
       " Columns: [objectid, propnum, prop id, borough, ampsdistrict, prop name, site name, prop location, site location, acres, jurisdiction, typecategory, featurestatus, gisobjid, sourcefc, objectid_y, propnum_y, borough_y, ampsdistrict_y, prop name_y, site name_y, prop location_y, site location_y, acres_y, jurisdiction_y, typecategory_y, featurestatus_y, gisobjid_y, sourcefc_y, _merge]\n",
       " Index: []\n",
       " \n",
       " [0 rows x 30 columns],\n",
       " 'playground_evw':     objectid propnum   prop id borough ampsdistrict  \\\n",
       " 10    1128.0    Q104   Q104-01    Q-01         Q-01   \n",
       " 11    1171.0    M010  M010-247    M-13         M-13   \n",
       " 12    1148.0    Q099   Q099-55    Q-15         Q-15   \n",
       " 13    1271.0   X147A  X147A-01    X-14         X-14   \n",
       " 14    1314.0    B214   B214-01    B-05         B-05   \n",
       " 15    1085.0    R022   R022-05    R-01         R-01   \n",
       " 16    1334.0    B247   B247-01    B-18         B-18   \n",
       " 17    1191.0    X010   X010-05    X-03         X-03   \n",
       " 18    1228.0    X092   X092-05    X-13         X-13   \n",
       " 19    1277.0    M028   M028-03    M-14         M-14   \n",
       " \n",
       "                      site name  \\\n",
       " 10           Vernon Playground   \n",
       " 11   110th St & Lenox Ave Plgd   \n",
       " 12     Buzz Vollmer Playground   \n",
       " 13   Starlight Park Playground   \n",
       " 14                 Linden Park   \n",
       " 15    Silver Lake Park Tot Lot   \n",
       " 16              Breukelen Plgd   \n",
       " 17      Hill & Dale Playground   \n",
       " 18  Van Cortlandt Classic Plgd   \n",
       " 19        Discovery Playground   \n",
       " \n",
       "                                         site location     acres jurisdiction  \\\n",
       " 10                          Vernon Blvd, 40 & 41 Aves  0.209098          DPR   \n",
       " 11                                 110 St & Lenox Ave  0.307388          DPR   \n",
       " 12  On Path Between Passarelle Building And Founta...  0.122470          DPR   \n",
       " 13    Sheridan Exwy, Bronx River, S/o E 174 St Bridge  1.294960          DPR   \n",
       " 14  Vermont St, Stanley Ave, Gershwin JHS, Fence B...  5.898077          DPR   \n",
       " 15            Center Of Zone 2 Closer To Victory Blvd  0.099737          DPR   \n",
       " 16                          Louisiana & Flatlands Ave  2.223644          DPR   \n",
       " 17                             Crotona Pk E, E 173 St  1.117852          DPR   \n",
       " 18                      VC Park South, Gouverneur Ave  0.969322          DPR   \n",
       " 19  Within Zone 1A, Along Hudson River At Approxim...  0.564500          DPR   \n",
       " \n",
       "    featurestatus  ...  borough_y ampsdistrict_y  site name_y site location_y  \\\n",
       " 10        Active  ...        NaN            NaN          NaN             NaN   \n",
       " 11        Active  ...        NaN            NaN          NaN             NaN   \n",
       " 12        Active  ...        NaN            NaN          NaN             NaN   \n",
       " 13        Active  ...        NaN            NaN          NaN             NaN   \n",
       " 14        Active  ...        NaN            NaN          NaN             NaN   \n",
       " 15        Active  ...        NaN            NaN          NaN             NaN   \n",
       " 16        Active  ...        NaN            NaN          NaN             NaN   \n",
       " 17        Active  ...        NaN            NaN          NaN             NaN   \n",
       " 18        Active  ...        NaN            NaN          NaN             NaN   \n",
       " 19        Active  ...        NaN            NaN          NaN             NaN   \n",
       " \n",
       "    acres_y jurisdiction_y featurestatus_y gisobjid_y  sourcefc_y     _merge  \n",
       " 10     NaN            NaN             NaN        NaN         NaN  left_only  \n",
       " 11     NaN            NaN             NaN        NaN         NaN  left_only  \n",
       " 12     NaN            NaN             NaN        NaN         NaN  left_only  \n",
       " 13     NaN            NaN             NaN        NaN         NaN  left_only  \n",
       " 14     NaN            NaN             NaN        NaN         NaN  left_only  \n",
       " 15     NaN            NaN             NaN        NaN         NaN  left_only  \n",
       " 16     NaN            NaN             NaN        NaN         NaN  left_only  \n",
       " 17     NaN            NaN             NaN        NaN         NaN  left_only  \n",
       " 18     NaN            NaN             NaN        NaN         NaN  left_only  \n",
       " 19     NaN            NaN             NaN        NaN         NaN  left_only  \n",
       " \n",
       " [10 rows x 24 columns],\n",
       " 'zone_evw':     objectid propnum    prop id borough ampsdistrict  \\\n",
       " 9     1689.0    X039  X039-ZN14   X-15A        X-15A   \n",
       " 10    1297.0    X010  X010-ZN06    X-03         X-03   \n",
       " 11    1606.0    Q024  Q024-ZN01    Q-07         Q-07   \n",
       " 12    1503.0    Q219    Q219-98    Q-14         Q-14   \n",
       " 13    5333.0    M071  M071-ZN15    M-14         M-14   \n",
       " 14    1506.0    MZ06       MZ06    M-02         M-02   \n",
       " 15    1457.0    M005  M005-ZN02    M-01         M-01   \n",
       " 16    1171.0    Q099  Q099-ZN20    Q-15         Q-15   \n",
       " 17    1314.0    X092  X092-ZN10    X-13         X-13   \n",
       " \n",
       "                      site name  \\\n",
       " 9                Hunter Island   \n",
       " 10                  Hylan Park   \n",
       " 11         Kissena Park Zone 1   \n",
       " 12           Kohlreiter Square   \n",
       " 13     Terrace Promenade North   \n",
       " 14           Little Red Square   \n",
       " 15         Battery Park Zone 2   \n",
       " 16           Meadow Lake North   \n",
       " 17  Healy Field & Gaelic Field   \n",
       " \n",
       "                                         site location       acres  \\\n",
       " 9                 (e) Long Island Sound To (w) Lagoon  144.871862   \n",
       " 10   Crotona Pk East, Southern Blvd, E. 175, Waterloo    4.048005   \n",
       " 11               Oak Ave, 164th St, Kissena Lake Area   28.392939   \n",
       " 12                  Rockaway Freeway, B 67 - B 69 Sts    0.958456   \n",
       " 13  106th To 110th Sts Betw. Riverside Dr. And Hen...    8.997943   \n",
       " 14                      Bleecker St & Ave Of Americas    0.038576   \n",
       " 15  Battery Pl, Hudson River, US Coast Guard Bldg,...    8.910248   \n",
       " 16  (n) LIE To (s) Meadow Lake To (e) Van Wyck Exp...   32.774078   \n",
       " 17  Van Cortlandt Park East To Gaelic Football To ...   11.801014   \n",
       " \n",
       "    jurisdiction featurestatus  ...  borough_y ampsdistrict_y  site name_y  \\\n",
       " 9           DPR        Active  ...        NaN            NaN          NaN   \n",
       " 10          DPR        Active  ...        NaN            NaN          NaN   \n",
       " 11          DPR        Active  ...        NaN            NaN          NaN   \n",
       " 12          DPR        Active  ...        NaN            NaN          NaN   \n",
       " 13          DPR        Active  ...        NaN            NaN          NaN   \n",
       " 14          DPR      Inactive  ...        NaN            NaN          NaN   \n",
       " 15          DPR        Active  ...        NaN            NaN          NaN   \n",
       " 16          DPR        Active  ...        NaN            NaN          NaN   \n",
       " 17          DPR        Active  ...        NaN            NaN          NaN   \n",
       " \n",
       "    site location_y acres_y jurisdiction_y featurestatus_y gisobjid_y  \\\n",
       " 9              NaN     NaN            NaN             NaN        NaN   \n",
       " 10             NaN     NaN            NaN             NaN        NaN   \n",
       " 11             NaN     NaN            NaN             NaN        NaN   \n",
       " 12             NaN     NaN            NaN             NaN        NaN   \n",
       " 13             NaN     NaN            NaN             NaN        NaN   \n",
       " 14             NaN     NaN            NaN             NaN        NaN   \n",
       " 15             NaN     NaN            NaN             NaN        NaN   \n",
       " 16             NaN     NaN            NaN             NaN        NaN   \n",
       " 17             NaN     NaN            NaN             NaN        NaN   \n",
       " \n",
       "     sourcefc_y     _merge  \n",
       " 9          NaN  left_only  \n",
       " 10         NaN  left_only  \n",
       " 11         NaN  left_only  \n",
       " 12         NaN  left_only  \n",
       " 13         NaN  left_only  \n",
       " 14         NaN  left_only  \n",
       " 15         NaN  left_only  \n",
       " 16         NaN  left_only  \n",
       " 17         NaN  left_only  \n",
       " \n",
       " [9 rows x 24 columns],\n",
       " 'unmapped_gisallsites_evw':     objectid propnum     prop id borough ampsdistrict  \\\n",
       " 8      278.0   QZ272       QZ272    Q-03         Q-03   \n",
       " 9      315.0    X002  X002-ZN05o    X-12         X-12   \n",
       " 10     324.0    QZ18        QZ18    Q-08         Q-08   \n",
       " 11     773.0   X147A   X147A-01o    X-09         X-09   \n",
       " 12     338.0   BZ164       BZ164    B-05         B-05   \n",
       " 13     244.0    Q162   Q162-ZN01    Q-14         Q-14   \n",
       " 14     195.0    X013       X013o    X-07         X-07   \n",
       " 15     301.0   RZ265       RZ265    R-03         R-03   \n",
       " \n",
       "                     site name  \\\n",
       " 8                 GREENSTREET   \n",
       " 9    BRONX RIVER PARKWAY EAST   \n",
       " 10            MALL SIXTY-NINE   \n",
       " 11  Starlight Park Playground   \n",
       " 12                GREENSTREET   \n",
       " 13           ROCKAWAY BEACH 1   \n",
       " 14                 Devoe Park   \n",
       " 15                GREENSTREET   \n",
       " \n",
       "                                        site location  acres jurisdiction  \\\n",
       " 8                                 34TH AVE MALLS (9)   0.00          DPR   \n",
       " 9   DUNCOMB/NEREID AVE BRIDGE/BRONX BLVD/BRONX RIVER   0.00          DPR   \n",
       " 10                         69 AVE , 188 ST TO 193 LA   0.00          DPR   \n",
       " 11   Sheridan Exwy, Bronx River, S/o E 174 St Bridge    NaN          DPR   \n",
       " 12                         SHERIDAN AVE & SUTTER AVE   0.00          DPR   \n",
       " 13                                   B 3 TO B 20 STS   0.00          DPR   \n",
       " 14          W. Fordham Rd. bet. Sedgwick Ave. and Un   5.44          DPR   \n",
       " 15        MANHATTAN ST DEAD END, SOUTH OF BILLOP AVE   0.00          DPR   \n",
       " \n",
       "     sourcefc  objectid_y propnum_y borough_y ampsdistrict_y site name_y  \\\n",
       " 8   Unmapped         NaN       NaN       NaN            NaN         NaN   \n",
       " 9   Unmapped         NaN       NaN       NaN            NaN         NaN   \n",
       " 10  Unmapped         NaN       NaN       NaN            NaN         NaN   \n",
       " 11  Unmapped         NaN       NaN       NaN            NaN         NaN   \n",
       " 12  Unmapped         NaN       NaN       NaN            NaN         NaN   \n",
       " 13  Unmapped         NaN       NaN       NaN            NaN         NaN   \n",
       " 14  Unmapped         NaN       NaN       NaN            NaN         NaN   \n",
       " 15  Unmapped         NaN       NaN       NaN            NaN         NaN   \n",
       " \n",
       "    site location_y  acres_y jurisdiction_y sourcefc_y     _merge  \n",
       " 8              NaN      NaN            NaN        NaN  left_only  \n",
       " 9              NaN      NaN            NaN        NaN  left_only  \n",
       " 10             NaN      NaN            NaN        NaN  left_only  \n",
       " 11             NaN      NaN            NaN        NaN  left_only  \n",
       " 12             NaN      NaN            NaN        NaN  left_only  \n",
       " 13             NaN      NaN            NaN        NaN  left_only  \n",
       " 14             NaN      NaN            NaN        NaN  left_only  \n",
       " 15             NaN      NaN            NaN        NaN  left_only  ,\n",
       " 'schoolyard_to_playground_evw':     objectid propnum prop id borough ampsdistrict  \\\n",
       " 8     4308.0   RS027   RS027    R-03         R-03   \n",
       " 9      470.0   QS010   QS010    Q-09         Q-09   \n",
       " 10     616.0   XS029   XS029    X-09         X-09   \n",
       " 11    5917.0   QS075   QS075    Q-05         Q-05   \n",
       " 12     699.0   BS092   BS092    B-11         B-11   \n",
       " 13     487.0   XS013   XS013    X-06         X-06   \n",
       " 14     507.0   XS005   XS005    X-05         X-05   \n",
       " 15     673.0   XS034   XS034    X-07         X-07   \n",
       " \n",
       "                         prop name                      site name  \\\n",
       " 8                         I.S. 24                        I.S. 24   \n",
       " 9                         P.S. 51                        P.S. 51   \n",
       " 10                        P.S. 36                        P.S. 36   \n",
       " 11                       P.S. 305                       P.S. 305   \n",
       " 12                        I.S. 96                        I.S. 96   \n",
       " 13                        I.S. 45                        I.S. 45   \n",
       " 14  PS 279 CAPT MANUEL RIVERA, JR  PS 279 CAPT MANUEL RIVERA, JR   \n",
       " 15                         P.S. 8                         P.S. 8   \n",
       " \n",
       "                                         prop location  \\\n",
       " 8     Cleveland Ave. bet. Durant Ave. and Melrose Pl.   \n",
       " 9           117 St. bet.ween Jamaica Ave. and 89 Ave.   \n",
       " 10      Castle Hill Ave., Blackrock Ave., Watson Ave.   \n",
       " 11  Stockholm St., De Kalb Ave. bet. Seneca Ave. a...   \n",
       " 12                 W 11 St. bet. Bay Pkwy. and Ave. P   \n",
       " 13  E 189 St., E. 188 St. bet. Bathgate Ave. and L...   \n",
       " 14   Morris Ave. bet. E. 181 St. and W. Burnside Ave.   \n",
       " 15  Bainbridge Ave. bet. E. 201 St. and E. Mosholu...   \n",
       " \n",
       "                                         site location     acres  ...  \\\n",
       " 8     Cleveland Ave. bet. Durant Ave. and Melrose Pl.  0.998135  ...   \n",
       " 9           117 St. bet.ween Jamaica Ave. and 89 Ave.  0.103010  ...   \n",
       " 10      Castle Hill Ave., Blackrock Ave., Watson Ave.  0.782983  ...   \n",
       " 11  Stockholm St., De Kalb Ave. bet. Seneca Ave. a...  0.253119  ...   \n",
       " 12                 W 11 St. bet. Bay Pkwy. and Ave. P  0.590071  ...   \n",
       " 13  E 189 St., E. 188 St. bet. Bathgate Ave. and L...  1.534565  ...   \n",
       " 14   Morris Ave. bet. E. 181 St. and W. Burnside Ave.  0.600476  ...   \n",
       " 15  Bainbridge Ave. bet. E. 201 St. and E. Mosholu...  0.150189  ...   \n",
       " \n",
       "    ampsdistrict_y prop name_y site name_y  prop location_y site location_y  \\\n",
       " 8             NaN         NaN         NaN              NaN             NaN   \n",
       " 9             NaN         NaN         NaN              NaN             NaN   \n",
       " 10            NaN         NaN         NaN              NaN             NaN   \n",
       " 11            NaN         NaN         NaN              NaN             NaN   \n",
       " 12            NaN         NaN         NaN              NaN             NaN   \n",
       " 13            NaN         NaN         NaN              NaN             NaN   \n",
       " 14            NaN         NaN         NaN              NaN             NaN   \n",
       " 15            NaN         NaN         NaN              NaN             NaN   \n",
       " \n",
       "    acres_y jurisdiction_y featurestatus_y sourcefc_y     _merge  \n",
       " 8      NaN            NaN             NaN        NaN  left_only  \n",
       " 9      NaN            NaN             NaN        NaN  left_only  \n",
       " 10     NaN            NaN             NaN        NaN  left_only  \n",
       " 11     NaN            NaN             NaN        NaN  left_only  \n",
       " 12     NaN            NaN             NaN        NaN  left_only  \n",
       " 13     NaN            NaN             NaN        NaN  left_only  \n",
       " 14     NaN            NaN             NaN        NaN  left_only  \n",
       " 15     NaN            NaN             NaN        NaN  left_only  \n",
       " \n",
       " [8 rows x 26 columns],\n",
       " 'greenstreet_evw':     objectid propnum prop id borough ampsdistrict    site name  \\\n",
       " 8     6853.0    XZ84    XZ84    X-04         X-04  GREENSTREET   \n",
       " 9     7185.0   BZ119   BZ119    B-05         B-05  GREENSTREET   \n",
       " 10    7517.0   RZ301   RZ301   R-02B        R-02B  GREENSTREET   \n",
       " 11    7849.0    RZ26    RZ26    R-02         R-02  GREENSTREET   \n",
       " 12    8181.0    Q040   QZ274    Q-03         Q-03  Greenstreet   \n",
       " 13    5788.0   QZ229   QZ229    Q-02         Q-02  Greenstreet   \n",
       " 14    6120.0   QZ441   QZ441    Q-09         Q-09  Greenstreet   \n",
       " 15    6452.0   QZ612   QZ612    Q-13         Q-13  Greenstreet   \n",
       " \n",
       "                                         site location     acres jurisdiction  \\\n",
       " 8                  Grand Concourse And East 167th St.  0.001680          DOT   \n",
       " 9         Linden Blvd btw Pennsylvania Ave & Wyona St  0.013766          DOT   \n",
       " 10                 Father Capodanno Blvd AND BUEL AVE  0.003362          DOT   \n",
       " 11                                 Richmond And Amboy  0.037707          DOT   \n",
       " 12                            75 St Bet 37 Av & 37 Rd  0.090566          DOT   \n",
       " 13               Hunters Pt Av, Gale Ave & Van Dam St  0.013971          DOT   \n",
       " 14                       Queens Bl Malls & 80th Rd  8  0.047119          DOT   \n",
       " 15  Jamaica Ave bet. 251 St  & Little Neck Pkwy   ...  0.056635          DOT   \n",
       " \n",
       "    featurestatus  ...  borough_y ampsdistrict_y  site name_y site location_y  \\\n",
       " 8         Active  ...        NaN            NaN          NaN             NaN   \n",
       " 9       Inactive  ...        NaN            NaN          NaN             NaN   \n",
       " 10      Inactive  ...        NaN            NaN          NaN             NaN   \n",
       " 11        Active  ...        NaN            NaN          NaN             NaN   \n",
       " 12        Active  ...        NaN            NaN          NaN             NaN   \n",
       " 13        Active  ...        NaN            NaN          NaN             NaN   \n",
       " 14        Active  ...        NaN            NaN          NaN             NaN   \n",
       " 15      Inactive  ...        NaN            NaN          NaN             NaN   \n",
       " \n",
       "    acres_y jurisdiction_y featurestatus_y gisobjid_y  sourcefc_y     _merge  \n",
       " 8      NaN            NaN             NaN        NaN         NaN  left_only  \n",
       " 9      NaN            NaN             NaN        NaN         NaN  left_only  \n",
       " 10     NaN            NaN             NaN        NaN         NaN  left_only  \n",
       " 11     NaN            NaN             NaN        NaN         NaN  left_only  \n",
       " 12     NaN            NaN             NaN        NaN         NaN  left_only  \n",
       " 13     NaN            NaN             NaN        NaN         NaN  left_only  \n",
       " 14     NaN            NaN             NaN        NaN         NaN  left_only  \n",
       " 15     NaN            NaN             NaN        NaN         NaN  left_only  \n",
       " \n",
       " [8 rows x 24 columns],\n",
       " 'golfcourse_evw':     objectid propnum   prop id borough ampsdistrict  \\\n",
       " 7       41.0    X039  X039-G01    X-15         X-15   \n",
       " 8       42.0    R022  R022-G01    R-01         R-01   \n",
       " 9       39.0    Q015  Q015-G01    Q-16         Q-16   \n",
       " 10      45.0    X092  X092-G01    X-13         X-13   \n",
       " 11      48.0    B057  B057-G01    B-18         B-18   \n",
       " 12      40.0    X039  X039-G02    X-15         X-15   \n",
       " \n",
       "                     site name                             site location  \\\n",
       " 7      Pelham Bay Golf Course  Bruckner Blvd,eastchester By,hutchinson    \n",
       " 8     Silver Lake Golf Course        Victory Blvd, Clove Rd, Forest Ave   \n",
       " 9     Forest Park Golf Course                                             \n",
       " 10  Van Cortlandt Golf Course  Broadway,jerome Ave,city Line,van Cortla   \n",
       " 11    Marine Park Golf Course  Flatbush, Gerritsen & Fillmore Aves, Jam   \n",
       " 12     Split Rock Golf Course  Bruckner Blvd,eastchester By,hutchinson    \n",
       " \n",
       "          acres jurisdiction featurestatus  ...  borough_y ampsdistrict_y  \\\n",
       " 7   227.136578          DPR        Active  ...        NaN            NaN   \n",
       " 8    93.294303          DPR        Active  ...        NaN            NaN   \n",
       " 9    96.199740          DPR        Active  ...        NaN            NaN   \n",
       " 10  150.887520          DPR        Active  ...        NaN            NaN   \n",
       " 11  215.112100          DPR        Active  ...        NaN            NaN   \n",
       " 12  208.775232          DPR        Active  ...        NaN            NaN   \n",
       " \n",
       "     site name_y site location_y acres_y jurisdiction_y featurestatus_y  \\\n",
       " 7           NaN             NaN     NaN            NaN             NaN   \n",
       " 8           NaN             NaN     NaN            NaN             NaN   \n",
       " 9           NaN             NaN     NaN            NaN             NaN   \n",
       " 10          NaN             NaN     NaN            NaN             NaN   \n",
       " 11          NaN             NaN     NaN            NaN             NaN   \n",
       " 12          NaN             NaN     NaN            NaN             NaN   \n",
       " \n",
       "    gisobjid_y  sourcefc_y     _merge  \n",
       " 7         NaN         NaN  left_only  \n",
       " 8         NaN         NaN  left_only  \n",
       " 9         NaN         NaN  left_only  \n",
       " 10        NaN         NaN  left_only  \n",
       " 11        NaN         NaN  left_only  \n",
       " 12        NaN         NaN  left_only  \n",
       " \n",
       " [6 rows x 24 columns],\n",
       " 'restrictivedeclarationsite_evw':     objectid propnum prop id borough ampsdistrict  \\\n",
       " 7       50.0    BT06    BT06    B-13         B-13   \n",
       " 8       47.0    BT13    BT13    B-06         B-06   \n",
       " 9     2056.0    M404    M404    M-02         M-02   \n",
       " 10      41.0    MT05    MT05    M-06         M-06   \n",
       " 11    5692.0    QT03    QT03    Q-07         Q-07   \n",
       " 12    4885.0    BT20    BT20    B-01         B-01   \n",
       " 13     855.0    BT17    BT17    B-11         B-11   \n",
       " \n",
       "                                            prop name  \\\n",
       " 7                             Cropsey Ave Home Depot   \n",
       " 8                                    Whole Foods PAA   \n",
       " 9   NYC AIDS Memorial Park at St. Vincent’s Triangle   \n",
       " 10                                         Rivergate   \n",
       " 11                       Professional Service Center   \n",
       " 12                                         420 KENT    \n",
       " 13                               Brooklyn Bay Center   \n",
       " \n",
       "                                            site name  \\\n",
       " 7                             Cropsey Ave Home Depot   \n",
       " 8                                    Whole Foods PAA   \n",
       " 9   NYC AIDS Memorial Park at St. Vincent’s Triangle   \n",
       " 10                                         Rivergate   \n",
       " 11                       Professional Service Center   \n",
       " 12                                         420 KENT    \n",
       " 13                               Brooklyn Bay Center   \n",
       " \n",
       "                                         prop location  \\\n",
       " 7   Shore Parkway, Cropsey Ave., Bay 54 St., W. 20...   \n",
       " 8             3 St. to 3 Ave. along the Gowanus Canal   \n",
       " 9               7 Ave., W. 12 St., and Greenwich Ave.   \n",
       " 10             1 Ave. between E. 34 St. and E. 35 St.   \n",
       " 11                                23 Ave. and 119 St.   \n",
       " 12                Kent Ave. bet. S 9  St. and S 8 St.   \n",
       " 13            Shore Pkwy. bet. 24 Ave. and Bay 38 St.   \n",
       " \n",
       "                                         site location     acres  ...  \\\n",
       " 7   Shore Parkway, Cropsey Ave., Bay 54 St., W. 20...  4.076073  ...   \n",
       " 8             3 St. to 3 Ave. along the Gowanus Canal  0.969984  ...   \n",
       " 9               7 Ave., W. 12 St., and Greenwich Ave.  0.382000  ...   \n",
       " 10             1 Ave. between E. 34 St. and E. 35 St.  0.580680  ...   \n",
       " 11                                23 Ave. and 119 St.  0.000000  ...   \n",
       " 12                Kent Ave. bet. S 9  St. and S 8 St.  0.484000  ...   \n",
       " 13            Shore Pkwy. bet. 24 Ave. and Bay 38 St.  2.937000  ...   \n",
       " \n",
       "    ampsdistrict_y prop name_y site name_y  prop location_y site location_y  \\\n",
       " 7             NaN         NaN         NaN              NaN             NaN   \n",
       " 8             NaN         NaN         NaN              NaN             NaN   \n",
       " 9             NaN         NaN         NaN              NaN             NaN   \n",
       " 10            NaN         NaN         NaN              NaN             NaN   \n",
       " 11            NaN         NaN         NaN              NaN             NaN   \n",
       " 12            NaN         NaN         NaN              NaN             NaN   \n",
       " 13            NaN         NaN         NaN              NaN             NaN   \n",
       " \n",
       "    acres_y jurisdiction_y featurestatus_y sourcefc_y     _merge  \n",
       " 7      NaN            NaN             NaN        NaN  left_only  \n",
       " 8      NaN            NaN             NaN        NaN  left_only  \n",
       " 9      NaN            NaN             NaN        NaN  left_only  \n",
       " 10     NaN            NaN             NaN        NaN  left_only  \n",
       " 11     NaN            NaN             NaN        NaN  left_only  \n",
       " 12     NaN            NaN             NaN        NaN  left_only  \n",
       " 13     NaN            NaN             NaN        NaN  left_only  \n",
       " \n",
       " [7 rows x 26 columns],\n",
       " 'structure_evw': Empty DataFrame\n",
       " Columns: [objectid, propnum, prop id, borough, ampsdistrict, prop name, site name, prop location, site location, jurisdiction, featurestatus, gisobjid, sourcefc, objectid_y, propnum_y, borough_y, ampsdistrict_y, prop name_y, site name_y, prop location_y, site location_y, jurisdiction_y, featurestatus_y, gisobjid_y, sourcefc_y, _merge]\n",
       " Index: []\n",
       " \n",
       " [0 rows x 26 columns]}"
      ]
     },
     "execution_count": 70,
     "metadata": {},
     "output_type": "execute_result"
    }
   ],
   "source": [
    "gis_deletes_ck"
   ]
  },
  {
   "cell_type": "markdown",
   "metadata": {},
   "source": [
    "## Did the deletes propogate to Allsites?"
   ]
  },
  {
   "cell_type": "code",
   "execution_count": 98,
   "metadata": {},
   "outputs": [],
   "source": [
    "allsites_ck_onlygis = {g: allsites_ck[g][allsites_ck[g]['_merge'] == 'right_only'] for g in gis_tables}"
   ]
  },
  {
   "cell_type": "code",
   "execution_count": 102,
   "metadata": {},
   "outputs": [
    {
     "data": {
      "text/html": [
       "<div>\n",
       "<style scoped>\n",
       "    .dataframe tbody tr th:only-of-type {\n",
       "        vertical-align: middle;\n",
       "    }\n",
       "\n",
       "    .dataframe tbody tr th {\n",
       "        vertical-align: top;\n",
       "    }\n",
       "\n",
       "    .dataframe thead th {\n",
       "        text-align: right;\n",
       "    }\n",
       "</style>\n",
       "<table border=\"1\" class=\"dataframe\">\n",
       "  <thead>\n",
       "    <tr style=\"text-align: right;\">\n",
       "      <th></th>\n",
       "      <th>Prop ID</th>\n",
       "      <th>prop id</th>\n",
       "    </tr>\n",
       "  </thead>\n",
       "  <tbody>\n",
       "    <tr>\n",
       "      <th>2188</th>\n",
       "      <td>B007-01</td>\n",
       "      <td>NaN</td>\n",
       "    </tr>\n",
       "    <tr>\n",
       "      <th>2189</th>\n",
       "      <td>B008_temp</td>\n",
       "      <td>NaN</td>\n",
       "    </tr>\n",
       "    <tr>\n",
       "      <th>2190</th>\n",
       "      <td>B008-03</td>\n",
       "      <td>NaN</td>\n",
       "    </tr>\n",
       "    <tr>\n",
       "      <th>2191</th>\n",
       "      <td>B012-02</td>\n",
       "      <td>NaN</td>\n",
       "    </tr>\n",
       "    <tr>\n",
       "      <th>2192</th>\n",
       "      <td>B012-03</td>\n",
       "      <td>NaN</td>\n",
       "    </tr>\n",
       "    <tr>\n",
       "      <th>...</th>\n",
       "      <td>...</td>\n",
       "      <td>...</td>\n",
       "    </tr>\n",
       "    <tr>\n",
       "      <th>6495</th>\n",
       "      <td>XZ94</td>\n",
       "      <td>NaN</td>\n",
       "    </tr>\n",
       "    <tr>\n",
       "      <th>6496</th>\n",
       "      <td>XZ95</td>\n",
       "      <td>NaN</td>\n",
       "    </tr>\n",
       "    <tr>\n",
       "      <th>6497</th>\n",
       "      <td>XZ96</td>\n",
       "      <td>NaN</td>\n",
       "    </tr>\n",
       "    <tr>\n",
       "      <th>6498</th>\n",
       "      <td>XZ97</td>\n",
       "      <td>NaN</td>\n",
       "    </tr>\n",
       "    <tr>\n",
       "      <th>6499</th>\n",
       "      <td>XZ99</td>\n",
       "      <td>NaN</td>\n",
       "    </tr>\n",
       "  </tbody>\n",
       "</table>\n",
       "<p>4312 rows × 2 columns</p>\n",
       "</div>"
      ],
      "text/plain": [
       "        Prop ID prop id\n",
       "2188    B007-01     NaN\n",
       "2189  B008_temp     NaN\n",
       "2190    B008-03     NaN\n",
       "2191    B012-02     NaN\n",
       "2192    B012-03     NaN\n",
       "...         ...     ...\n",
       "6495       XZ94     NaN\n",
       "6496       XZ95     NaN\n",
       "6497       XZ96     NaN\n",
       "6498       XZ97     NaN\n",
       "6499       XZ99     NaN\n",
       "\n",
       "[4312 rows x 2 columns]"
      ]
     },
     "execution_count": 102,
     "metadata": {},
     "output_type": "execute_result"
    }
   ],
   "source": [
    "allsites_ck_onlygis['property_evw'][['Prop ID', 'prop id']]"
   ]
  },
  {
   "cell_type": "markdown",
   "metadata": {},
   "source": [
    "## Did the number and types of updates match?"
   ]
  },
  {
   "cell_type": "markdown",
   "metadata": {},
   "source": [
    "## Did the number of inserts match?"
   ]
  },
  {
   "cell_type": "markdown",
   "metadata": {},
   "source": [
    "### Insert Duplicate Records"
   ]
  }
 ],
 "metadata": {
  "kernelspec": {
   "display_name": "Python 3",
   "language": "python",
   "name": "python3"
  },
  "language_info": {
   "codemirror_mode": {
    "name": "ipython",
    "version": 3
   },
   "file_extension": ".py",
   "mimetype": "text/x-python",
   "name": "python",
   "nbconvert_exporter": "python",
   "pygments_lexer": "ipython3",
   "version": "3.7.4"
  }
 },
 "nbformat": 4,
 "nbformat_minor": 2
}
